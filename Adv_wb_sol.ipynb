{
 "cells": [
  {
   "cell_type": "code",
   "execution_count": null,
   "id": "07a8f72d-0743-49a6-afed-5485eb282854",
   "metadata": {},
   "outputs": [],
   "source": [
    "Create a ndarray with the data of the\n",
    "precipitation in a week:\n",
    "12mm 14mm 7mm 0mm 3mm 21mm 10mm\n",
    "store this array in a precipitation_data variable and\n",
    "print a sorted list."
   ]
  },
  {
   "cell_type": "code",
   "execution_count": 9,
   "id": "bb94e45b-dd46-43e2-91ee-fff5891288d1",
   "metadata": {},
   "outputs": [
    {
     "name": "stdout",
     "output_type": "stream",
     "text": [
      "[ 0  3  7 10 12 14 21]\n"
     ]
    }
   ],
   "source": [
    "import numpy as npy\n",
    "precipitation_data = npy.array([12,14,7,0,3,21,10])\n",
    "precipitation_data.sort()\n",
    "print(precipitation_data)"
   ]
  },
  {
   "cell_type": "code",
   "execution_count": null,
   "id": "f8aec8a1-9a6c-4673-8ce9-81d957199c29",
   "metadata": {},
   "outputs": [],
   "source": [
    "Create a Pandas Series with the above data and\n",
    "index them as:\n",
    "Mon Tue Wed T"
   ]
  },
  {
   "cell_type": "code",
   "execution_count": 20,
   "id": "7f80a551-03dd-41be-b821-33c8c50d30ca",
   "metadata": {},
   "outputs": [
    {
     "name": "stdout",
     "output_type": "stream",
     "text": [
      "Mon     12\n",
      "Tue     14\n",
      "Wed      7\n",
      "Thur     0\n",
      "Fri      3\n",
      "Sat     21\n",
      "Sun     10\n",
      "dtype: int64\n"
     ]
    }
   ],
   "source": [
    "import pandas\n",
    "import numpy as npy\n",
    "precipitation_data = npy.array([12,14,7,0,3,21,10])\n",
    "df = pandas.Series( data = precipitation_data, index = ['Mon','Tue','Wed','Thur','Fri','Sat','Sun'])\n",
    "print(df)"
   ]
  },
  {
   "cell_type": "code",
   "execution_count": null,
   "id": "eb2c81f5-d5e9-4b00-8313-7e3ae99b70cb",
   "metadata": {},
   "outputs": [],
   "source": [
    "Create a Pandas Series with the given data\n",
    "10 45 60 12 40\n",
    "and perform the following tasks:\n",
    "• index them from fA' to fE'\n",
    "• Change the rB' value to 65\n",
    "• delete the fE' Value\n",
    "• print the Series"
   ]
  },
  {
   "cell_type": "code",
   "execution_count": 21,
   "id": "bee755ae-0f7b-47d5-bb4f-f2181ee432e6",
   "metadata": {},
   "outputs": [
    {
     "name": "stdout",
     "output_type": "stream",
     "text": [
      "fA    10\n",
      "fB    45\n",
      "fC    60\n",
      "fD    12\n",
      "fE    40\n",
      "dtype: int64\n"
     ]
    }
   ],
   "source": [
    "import pandas\n",
    "import numpy as npy\n",
    "d = npy.array([10,45,60,12,40])\n",
    "df = pandas.Series(data = d, index = ['fA','fB','fC','fD','fE'])\n",
    "print(df)"
   ]
  },
  {
   "cell_type": "code",
   "execution_count": 22,
   "id": "c60cf6cb-14f2-414f-893f-56328c34cf15",
   "metadata": {},
   "outputs": [
    {
     "name": "stdout",
     "output_type": "stream",
     "text": [
      "fA    10\n",
      "fB    65\n",
      "fC    60\n",
      "fD    12\n",
      "fE    40\n",
      "dtype: int64\n"
     ]
    }
   ],
   "source": [
    "df['fB'] = 65\n",
    "print(df)"
   ]
  },
  {
   "cell_type": "code",
   "execution_count": 23,
   "id": "c3f575ef-1121-4239-b3ee-788b8a128622",
   "metadata": {},
   "outputs": [
    {
     "data": {
      "text/plain": [
       "fA    10\n",
       "fB    65\n",
       "fC    60\n",
       "fD    12\n",
       "dtype: int64"
      ]
     },
     "execution_count": 23,
     "metadata": {},
     "output_type": "execute_result"
    }
   ],
   "source": [
    "df.drop('fE')"
   ]
  },
  {
   "cell_type": "code",
   "execution_count": null,
   "id": "2a810aeb-18f0-46fe-928a-60b697a2b565",
   "metadata": {},
   "outputs": [],
   "source": [
    "Create a Pandas DataFrame with the given data\n",
    "Subjects : Maths, Science, Literature, Comp.Sci.\n",
    "Marks : 75,94,88,97\n",
    "create appropriate columns and indexes then perform\n",
    "the following tasks:\n",
    "• index them from fl' to f4'\n",
    "• add ‘'Physical Education' : 95 to the DataFrame\n",
    "• change the value of Math's Marks to 81\n",
    "• reindex the DataFrame with the subjects [Maths,\n",
    "Sci,... ]\n",
    "• delete the Subjects column\n",
    "• print the DataFrame"
   ]
  },
  {
   "cell_type": "code",
   "execution_count": 10,
   "id": "e5cb3a92-6888-4234-b34c-423bb613de63",
   "metadata": {},
   "outputs": [
    {
     "name": "stdout",
     "output_type": "stream",
     "text": [
      "     Subjects  Marks\n",
      "1       Maths     75\n",
      "2     Science     94\n",
      "3  Literature     88\n",
      "4         CSE     97\n"
     ]
    }
   ],
   "source": [
    "import numpy as npy\n",
    "import pandas\n",
    "\n",
    "df1 = pandas.DataFrame( data = {'Subjects':['Maths','Science','Literature','CSE'],'Marks':[75,94,88,97]},index = [1,2,3,4])\n",
    "print(df1)"
   ]
  },
  {
   "cell_type": "code",
   "execution_count": 11,
   "id": "892ae3c5-0176-40ae-9bfa-40385bb553fa",
   "metadata": {},
   "outputs": [
    {
     "data": {
      "text/html": [
       "<div>\n",
       "<style scoped>\n",
       "    .dataframe tbody tr th:only-of-type {\n",
       "        vertical-align: middle;\n",
       "    }\n",
       "\n",
       "    .dataframe tbody tr th {\n",
       "        vertical-align: top;\n",
       "    }\n",
       "\n",
       "    .dataframe thead th {\n",
       "        text-align: right;\n",
       "    }\n",
       "</style>\n",
       "<table border=\"1\" class=\"dataframe\">\n",
       "  <thead>\n",
       "    <tr style=\"text-align: right;\">\n",
       "      <th></th>\n",
       "      <th>Subjects</th>\n",
       "      <th>Marks</th>\n",
       "    </tr>\n",
       "  </thead>\n",
       "  <tbody>\n",
       "    <tr>\n",
       "      <th>0</th>\n",
       "      <td>Maths</td>\n",
       "      <td>75</td>\n",
       "    </tr>\n",
       "    <tr>\n",
       "      <th>1</th>\n",
       "      <td>Science</td>\n",
       "      <td>94</td>\n",
       "    </tr>\n",
       "    <tr>\n",
       "      <th>2</th>\n",
       "      <td>Literature</td>\n",
       "      <td>88</td>\n",
       "    </tr>\n",
       "    <tr>\n",
       "      <th>3</th>\n",
       "      <td>CSE</td>\n",
       "      <td>97</td>\n",
       "    </tr>\n",
       "    <tr>\n",
       "      <th>4</th>\n",
       "      <td>PhysEdu</td>\n",
       "      <td>95</td>\n",
       "    </tr>\n",
       "  </tbody>\n",
       "</table>\n",
       "</div>"
      ],
      "text/plain": [
       "     Subjects  Marks\n",
       "0       Maths     75\n",
       "1     Science     94\n",
       "2  Literature     88\n",
       "3         CSE     97\n",
       "4     PhysEdu     95"
      ]
     },
     "execution_count": 11,
     "metadata": {},
     "output_type": "execute_result"
    }
   ],
   "source": [
    "df1 =df1.append({'Subjects' : 'PhysEdu','Marks':95},ignore_index='True')\n",
    "df1"
   ]
  },
  {
   "cell_type": "code",
   "execution_count": 12,
   "id": "5f6d66e9-e695-4065-a89b-a0c469b0fce4",
   "metadata": {},
   "outputs": [
    {
     "data": {
      "text/html": [
       "<div>\n",
       "<style scoped>\n",
       "    .dataframe tbody tr th:only-of-type {\n",
       "        vertical-align: middle;\n",
       "    }\n",
       "\n",
       "    .dataframe tbody tr th {\n",
       "        vertical-align: top;\n",
       "    }\n",
       "\n",
       "    .dataframe thead th {\n",
       "        text-align: right;\n",
       "    }\n",
       "</style>\n",
       "<table border=\"1\" class=\"dataframe\">\n",
       "  <thead>\n",
       "    <tr style=\"text-align: right;\">\n",
       "      <th></th>\n",
       "      <th>Subjects</th>\n",
       "      <th>Marks</th>\n",
       "    </tr>\n",
       "  </thead>\n",
       "  <tbody>\n",
       "    <tr>\n",
       "      <th>0</th>\n",
       "      <td>Maths</td>\n",
       "      <td>75</td>\n",
       "    </tr>\n",
       "    <tr>\n",
       "      <th>1</th>\n",
       "      <td>Science</td>\n",
       "      <td>94</td>\n",
       "    </tr>\n",
       "    <tr>\n",
       "      <th>2</th>\n",
       "      <td>Literature</td>\n",
       "      <td>88</td>\n",
       "    </tr>\n",
       "    <tr>\n",
       "      <th>3</th>\n",
       "      <td>CSE</td>\n",
       "      <td>70</td>\n",
       "    </tr>\n",
       "    <tr>\n",
       "      <th>4</th>\n",
       "      <td>PhysEdu</td>\n",
       "      <td>95</td>\n",
       "    </tr>\n",
       "  </tbody>\n",
       "</table>\n",
       "</div>"
      ],
      "text/plain": [
       "     Subjects  Marks\n",
       "0       Maths     75\n",
       "1     Science     94\n",
       "2  Literature     88\n",
       "3         CSE     70\n",
       "4     PhysEdu     95"
      ]
     },
     "execution_count": 12,
     "metadata": {},
     "output_type": "execute_result"
    }
   ],
   "source": [
    "df1.loc[3,['Marks'] ]= 70\n",
    "df1"
   ]
  },
  {
   "cell_type": "code",
   "execution_count": 21,
   "id": "b200c21a-60e9-4f86-87c6-914d4e9831ce",
   "metadata": {},
   "outputs": [
    {
     "name": "stdout",
     "output_type": "stream",
     "text": [
      "Subjects    Maths\n",
      "Name: 0, dtype: object\n",
      "Subjects    Science\n",
      "Name: 1, dtype: object\n",
      "Subjects    Literature\n",
      "Name: 2, dtype: object\n",
      "Subjects    CSE\n",
      "Name: 3, dtype: object\n",
      "Subjects    PhysEdu\n",
      "Name: 4, dtype: object\n"
     ]
    }
   ],
   "source": [
    "for index in df1.index:\n",
    "    print(df1.loc[index,['Subjects']])"
   ]
  },
  {
   "cell_type": "code",
   "execution_count": 33,
   "id": "4f76dcfb",
   "metadata": {},
   "outputs": [
    {
     "name": "stdout",
     "output_type": "stream",
     "text": [
      "   Subject  Marks Status\n",
      "0    Maths     20      F\n",
      "1      CSE     30      P\n",
      "2      Phy     35      P\n",
      "3  English     40      P\n"
     ]
    }
   ],
   "source": [
    "import pandas\n",
    "\n",
    "sub_dict = {'Subject':['Maths','CSE','Phy','English'],'Marks':[20,30,35,40],'Status':['F','P','P','P']}\n",
    "sub_df = pandas.DataFrame(sub_dict)\n",
    "print(sub_df)"
   ]
  },
  {
   "cell_type": "code",
   "execution_count": 34,
   "id": "6ddf6f6b",
   "metadata": {},
   "outputs": [
    {
     "name": "stdout",
     "output_type": "stream",
     "text": [
      "   Subject  Marks Status\n",
      "0    Maths     20      F\n",
      "1      CSE     30      P\n",
      "2      Phy     35      P\n",
      "3  English     40      P\n"
     ]
    }
   ],
   "source": [
    "sub_df.loc[0].replace(to_replace='P',value='F')\n",
    "print(sub_df)"
   ]
  },
  {
   "cell_type": "code",
   "execution_count": 36,
   "id": "3c84597d",
   "metadata": {},
   "outputs": [
    {
     "data": {
      "text/html": [
       "<div>\n",
       "<style scoped>\n",
       "    .dataframe tbody tr th:only-of-type {\n",
       "        vertical-align: middle;\n",
       "    }\n",
       "\n",
       "    .dataframe tbody tr th {\n",
       "        vertical-align: top;\n",
       "    }\n",
       "\n",
       "    .dataframe thead th {\n",
       "        text-align: right;\n",
       "    }\n",
       "</style>\n",
       "<table border=\"1\" class=\"dataframe\">\n",
       "  <thead>\n",
       "    <tr style=\"text-align: right;\">\n",
       "      <th></th>\n",
       "      <th>Subject</th>\n",
       "      <th>Marks</th>\n",
       "      <th>Status</th>\n",
       "    </tr>\n",
       "  </thead>\n",
       "  <tbody>\n",
       "    <tr>\n",
       "      <th>0</th>\n",
       "      <td>Maths</td>\n",
       "      <td>20</td>\n",
       "      <td>P</td>\n",
       "    </tr>\n",
       "    <tr>\n",
       "      <th>1</th>\n",
       "      <td>CSE</td>\n",
       "      <td>30</td>\n",
       "      <td>P</td>\n",
       "    </tr>\n",
       "    <tr>\n",
       "      <th>2</th>\n",
       "      <td>Phy</td>\n",
       "      <td>35</td>\n",
       "      <td>P</td>\n",
       "    </tr>\n",
       "    <tr>\n",
       "      <th>3</th>\n",
       "      <td>English</td>\n",
       "      <td>40</td>\n",
       "      <td>P</td>\n",
       "    </tr>\n",
       "  </tbody>\n",
       "</table>\n",
       "</div>"
      ],
      "text/plain": [
       "   Subject  Marks Status\n",
       "0    Maths     20      P\n",
       "1      CSE     30      P\n",
       "2      Phy     35      P\n",
       "3  English     40      P"
      ]
     },
     "execution_count": 36,
     "metadata": {},
     "output_type": "execute_result"
    }
   ],
   "source": [
    "cond = sub_df['Status'] =='F'\n",
    "sub_df.loc[cond,'Status'] = 'P'\n",
    "sub_df"
   ]
  },
  {
   "cell_type": "code",
   "execution_count": null,
   "id": "33345b0f",
   "metadata": {},
   "outputs": [],
   "source": []
  }
 ],
 "metadata": {
  "kernelspec": {
   "display_name": "Python 3 (ipykernel)",
   "language": "python",
   "name": "python3"
  },
  "language_info": {
   "codemirror_mode": {
    "name": "ipython",
    "version": 3
   },
   "file_extension": ".py",
   "mimetype": "text/x-python",
   "name": "python",
   "nbconvert_exporter": "python",
   "pygments_lexer": "ipython3",
   "version": "3.9.7"
  }
 },
 "nbformat": 4,
 "nbformat_minor": 5
}
