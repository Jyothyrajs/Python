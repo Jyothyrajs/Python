{
 "cells": [
  {
   "cell_type": "code",
   "execution_count": 14,
   "id": "356fe780",
   "metadata": {},
   "outputs": [
    {
     "name": "stdout",
     "output_type": "stream",
     "text": [
      "Array created using tuple :  [ 1  2  3  4  5  6  7  8  9 10]\n",
      "ar[0] :  1\n",
      "[1 2]\n",
      "[3 4 5]\n",
      "[1 3 5 7 9]\n",
      "[ 1  4  7 10]\n"
     ]
    }
   ],
   "source": [
    "import numpy as npy\n",
    "ar = npy.array((1,2,3,4,5,6,7,8,9,10))\n",
    "print(\"Array created using tuple : \",ar)\n",
    "print('ar[0] : ',ar[0])\n",
    "print(ar[:2])\n",
    "print(ar[2:5])\n",
    "print(ar[::2])\n",
    "print(ar[::3])"
   ]
  },
  {
   "cell_type": "code",
   "execution_count": 16,
   "id": "e212c86e",
   "metadata": {},
   "outputs": [
    {
     "name": "stdout",
     "output_type": "stream",
     "text": [
      "Array created using list :  [1 2 3 4 5 6 7 8 9]\n",
      "ar_list[0] :  1\n",
      "[1 2]\n",
      "[3 4 5]\n"
     ]
    }
   ],
   "source": [
    "import numpy as npy\n",
    "ar_list =npy.array([1,2,3,4,5,6,7,8,9])\n",
    "print(\"Array created using list : \",ar_list)\n",
    "print('ar_list[0] : ',ar_list[0])\n",
    "print(ar_list[:2])\n",
    "print(ar_list[2:5])"
   ]
  },
  {
   "cell_type": "code",
   "execution_count": 35,
   "id": "58f9d550",
   "metadata": {},
   "outputs": [
    {
     "name": "stdout",
     "output_type": "stream",
     "text": [
      "[[ 1  2  3  4]\n",
      " [20 30 40 50]]\n",
      "50\n",
      "[[20 40]]\n",
      "[30  1 30  2]\n",
      "Transpose:\n",
      " [[ 1 20]\n",
      " [ 2 30]\n",
      " [ 3 40]\n",
      " [ 4 50]]\n"
     ]
    }
   ],
   "source": [
    "import numpy as npy\n",
    "ar2d = npy.array([[1,2,3,4],[20,30,40,50]])\n",
    "print(ar2d)\n",
    "print(ar2d[1,3])\n",
    "print(ar2d[1:,::2])\n",
    "Index_arr = ar2d[[1,0,1,0],[1,0,1,1]]\n",
    "print(Index_arr)\n",
    "print(\"Transpose:\\n\",ar2d.T)"
   ]
  },
  {
   "cell_type": "code",
   "execution_count": 33,
   "id": "c57ae312",
   "metadata": {},
   "outputs": [
    {
     "name": "stdout",
     "output_type": "stream",
     "text": [
      "[11 12 13 14]\n",
      "10\n",
      "[11 22 33 44]\n",
      "[11 22 33 44]\n",
      "10\n",
      "[1.         1.41421356 1.73205081 2.        ]\n",
      "[1 2 3 4]\n"
     ]
    }
   ],
   "source": [
    "import numpy\n",
    "a = numpy.array((1,2,3,4))\n",
    "b =numpy.array((4,5,6,7,8,9))\n",
    "c = numpy.array((10,20,30,40))\n",
    "print(a+10)\n",
    "print(a.sum())\n",
    "print(a+c)\n",
    "print(numpy.add(a,c))\n",
    "print(numpy.sum(a))\n",
    "print(numpy.sqrt(a))\n",
    "print(a.T)"
   ]
  },
  {
   "cell_type": "code",
   "execution_count": 37,
   "id": "f3f40794",
   "metadata": {},
   "outputs": [
    {
     "data": {
      "text/plain": [
       "array([1, 2, 3, 4, 4, 5, 6, 7, 8, 9])"
      ]
     },
     "execution_count": 37,
     "metadata": {},
     "output_type": "execute_result"
    }
   ],
   "source": [
    "d = numpy.append(a,b)\n",
    "d"
   ]
  },
  {
   "cell_type": "code",
   "execution_count": 38,
   "id": "d6b7d026",
   "metadata": {},
   "outputs": [
    {
     "name": "stdout",
     "output_type": "stream",
     "text": [
      "[  1   2 100   3   4   4   5   6   7   8   9]\n"
     ]
    }
   ],
   "source": [
    "print(numpy.insert(d,2,100))"
   ]
  },
  {
   "cell_type": "code",
   "execution_count": 41,
   "id": "40de54d6",
   "metadata": {},
   "outputs": [
    {
     "name": "stdout",
     "output_type": "stream",
     "text": [
      "(10,)\n"
     ]
    }
   ],
   "source": [
    "print(d.shape)"
   ]
  },
  {
   "cell_type": "code",
   "execution_count": 43,
   "id": "3ec69f46",
   "metadata": {},
   "outputs": [
    {
     "name": "stdout",
     "output_type": "stream",
     "text": [
      "[1 2 3 4 4 5 6 7 8 9]\n"
     ]
    }
   ],
   "source": [
    "d = numpy.append(a,b,axis =0)\n",
    "print(d)\n",
    "\n"
   ]
  },
  {
   "cell_type": "code",
   "execution_count": 46,
   "id": "1ba94f2e",
   "metadata": {},
   "outputs": [
    {
     "name": "stdout",
     "output_type": "stream",
     "text": [
      "[1, 2, 3, 4]\n",
      "[1, 2, 3, 4, [10, 20, 30]]\n",
      "[1, 2, 3, 4, [10, 20, 30], 10, 20, 30]\n"
     ]
    }
   ],
   "source": [
    "\n",
    "list1= [1,2,3,4]\n",
    "list2 = [10,20,30]\n",
    "print(list1)\n",
    "list1.append(list2)\n",
    "print(list1)\n",
    "list1.extend(list2)\n",
    "print(list1)"
   ]
  },
  {
   "cell_type": "code",
   "execution_count": 55,
   "id": "043ca441",
   "metadata": {},
   "outputs": [
    {
     "name": "stdout",
     "output_type": "stream",
     "text": [
      "10\n",
      "20\n",
      "30\n",
      "40\n",
      "\n",
      "\n",
      "10\n",
      "20\n",
      "30\n",
      "40\n",
      "\n",
      "\n",
      "0 : 10\n",
      "1 : 20\n",
      "2 : 30\n",
      "3 : 40\n"
     ]
    }
   ],
   "source": [
    "ar = numpy.array((10,20,30,40))\n",
    "for i in ar:\n",
    "    print(i)\n",
    "print(\"\\n\")\n",
    "\n",
    "length= len(ar)\n",
    "for i in range(length):\n",
    "     print(ar[i])\n",
    "print(\"\\n\")   \n",
    "\n",
    "for i, val in enumerate(ar):\n",
    "    print(i,':',val)"
   ]
  },
  {
   "cell_type": "code",
   "execution_count": null,
   "id": "e36be3ae",
   "metadata": {},
   "outputs": [],
   "source": []
  }
 ],
 "metadata": {
  "kernelspec": {
   "display_name": "Python 3 (ipykernel)",
   "language": "python",
   "name": "python3"
  },
  "language_info": {
   "codemirror_mode": {
    "name": "ipython",
    "version": 3
   },
   "file_extension": ".py",
   "mimetype": "text/x-python",
   "name": "python",
   "nbconvert_exporter": "python",
   "pygments_lexer": "ipython3",
   "version": "3.9.7"
  }
 },
 "nbformat": 4,
 "nbformat_minor": 5
}
