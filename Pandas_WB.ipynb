{
 "cells": [
  {
   "cell_type": "code",
   "execution_count": 30,
   "id": "186f39e0",
   "metadata": {
    "scrolled": true
   },
   "outputs": [
    {
     "name": "stdout",
     "output_type": "stream",
     "text": [
      "                  ID  Price  Sales      Brand\n",
      "Name                                         \n",
      "biscuits         101   5.00    227  HomeFoods\n",
      "cookies          102   7.25    158    TBakery\n",
      "cake             103  12.00     50    TBakery\n",
      "whey_supplement  104  34.90     24    MusleUp\n",
      "protein_bars     105   4.90     85    MusleUp\n",
      "potato_chips     106   1.75    121  HomeFoods\n",
      "Name\n",
      "biscuits           227\n",
      "cookies            158\n",
      "cake                50\n",
      "whey_supplement     24\n",
      "protein_bars        85\n",
      "potato_chips       121\n",
      "Name: Sales, dtype: int64 \n",
      "\n",
      "                     Brand  Price\n",
      "Name                             \n",
      "biscuits         HomeFoods   5.00\n",
      "cookies            TBakery   7.25\n",
      "cake               TBakery  12.00\n",
      "whey_supplement    MusleUp  34.90\n",
      "protein_bars       MusleUp   4.90\n",
      "potato_chips     HomeFoods   1.75\n",
      "ID           103\n",
      "Price       12.0\n",
      "Sales         50\n",
      "Brand    TBakery\n",
      "Name: cake, dtype: object\n",
      "5.0\n",
      "24\n",
      "                    ID  Price  Sales  Brand\n",
      "Name                                       \n",
      "biscuits         False  False  False  False\n",
      "cookies          False  False  False  False\n",
      "cake             False  False  False  False\n",
      "whey_supplement  False  False  False  False\n",
      "protein_bars     False  False  False  False\n",
      "potato_chips     False  False  False  False\n"
     ]
    }
   ],
   "source": [
    "import pandas\n",
    "data_dir = 'csv_data.csv'\n",
    "dt = pandas.read_csv(data_dir, names = ['ID','Name','Price','Sales','Brand'],skiprows = 1, index_col = \"Name\")\n",
    "print(dt)\n",
    "print(dt['Sales'],\"\\n\")\n",
    "\n",
    "print(dt[['Brand','Price']])\n",
    "print(dt.loc[\"cake\"])\n",
    "print(dt.iloc[0,1])\n",
    "print(dt.iloc[3,2])\n",
    "\n",
    "print(dt.isnull())"
   ]
  },
  {
   "cell_type": "code",
   "execution_count": 32,
   "id": "1453e56e",
   "metadata": {},
   "outputs": [],
   "source": [
    "dt.iloc[0,1] = 23"
   ]
  },
  {
   "cell_type": "code",
   "execution_count": 33,
   "id": "9239c582",
   "metadata": {},
   "outputs": [
    {
     "data": {
      "text/plain": [
       "23.0"
      ]
     },
     "execution_count": 33,
     "metadata": {},
     "output_type": "execute_result"
    }
   ],
   "source": [
    "dt.iloc[0,1]"
   ]
  },
  {
   "cell_type": "code",
   "execution_count": 41,
   "id": "cc4acf27",
   "metadata": {},
   "outputs": [
    {
     "name": "stdout",
     "output_type": "stream",
     "text": [
      "Row : \n",
      " ID             101\n",
      "Price         23.0\n",
      "Sales          227\n",
      "Brand    HomeFoods\n",
      "Name: biscuits, dtype: object  and  biscuits  :  23.0\n",
      "Row : \n",
      " ID           102\n",
      "Price       7.25\n",
      "Sales        158\n",
      "Brand    TBakery\n",
      "Name: cookies, dtype: object  and  cookies  :  7.25\n",
      "Row : \n",
      " ID           103\n",
      "Price       12.0\n",
      "Sales         50\n",
      "Brand    TBakery\n",
      "Name: cake, dtype: object  and  cake  :  12.0\n",
      "Row : \n",
      " ID           104\n",
      "Price       34.9\n",
      "Sales         24\n",
      "Brand    MusleUp\n",
      "Name: whey_supplement, dtype: object  and  whey_supplement  :  34.9\n",
      "Row : \n",
      " ID           105\n",
      "Price        4.9\n",
      "Sales         85\n",
      "Brand    MusleUp\n",
      "Name: protein_bars, dtype: object  and  protein_bars  :  4.9\n",
      "Row : \n",
      " ID             106\n",
      "Price         1.75\n",
      "Sales          121\n",
      "Brand    HomeFoods\n",
      "Name: potato_chips, dtype: object  and  potato_chips  :  1.75\n"
     ]
    }
   ],
   "source": [
    "for index,row in dt.iterrows():\n",
    "    print(\"Row : \\n\",row,\" and \",index,\" : \",row['Price'])"
   ]
  },
  {
   "cell_type": "code",
   "execution_count": 45,
   "id": "4f82c26d",
   "metadata": {},
   "outputs": [
    {
     "name": "stdout",
     "output_type": "stream",
     "text": [
      "                  ID  Price  Sales      Brand\n",
      "Name                                         \n",
      "biscuits         101  23.00    227  HomeFoods\n",
      "cookies          102   7.25    158    TBakery\n",
      "cake             103  12.00     50    TBakery\n",
      "whey_supplement  104  34.90     24    MusleUp\n",
      "protein_bars     105   4.90     85    MusleUp\n",
      "potato_chips     106   1.75    121  HomeFoods\n",
      "101\n",
      "102\n",
      "103\n",
      "104\n",
      "105\n",
      "106\n"
     ]
    }
   ],
   "source": [
    "print(dt)\n",
    "for index,row in dt.iterrows():\n",
    "    print(row['ID'])\n",
    "    "
   ]
  },
  {
   "cell_type": "code",
   "execution_count": null,
   "id": "b425e4db",
   "metadata": {},
   "outputs": [],
   "source": []
  }
 ],
 "metadata": {
  "kernelspec": {
   "display_name": "Python 3 (ipykernel)",
   "language": "python",
   "name": "python3"
  },
  "language_info": {
   "codemirror_mode": {
    "name": "ipython",
    "version": 3
   },
   "file_extension": ".py",
   "mimetype": "text/x-python",
   "name": "python",
   "nbconvert_exporter": "python",
   "pygments_lexer": "ipython3",
   "version": "3.9.7"
  }
 },
 "nbformat": 4,
 "nbformat_minor": 5
}
