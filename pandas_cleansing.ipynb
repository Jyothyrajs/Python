{
 "cells": [
  {
   "cell_type": "code",
   "execution_count": 2,
   "id": "34e47061-567a-4e05-9ce0-f02c109a6d14",
   "metadata": {},
   "outputs": [
    {
     "data": {
      "text/html": [
       "<div>\n",
       "<style scoped>\n",
       "    .dataframe tbody tr th:only-of-type {\n",
       "        vertical-align: middle;\n",
       "    }\n",
       "\n",
       "    .dataframe tbody tr th {\n",
       "        vertical-align: top;\n",
       "    }\n",
       "\n",
       "    .dataframe thead th {\n",
       "        text-align: right;\n",
       "    }\n",
       "</style>\n",
       "<table border=\"1\" class=\"dataframe\">\n",
       "  <thead>\n",
       "    <tr style=\"text-align: right;\">\n",
       "      <th></th>\n",
       "      <th>id</th>\n",
       "      <th>name</th>\n",
       "      <th>price</th>\n",
       "      <th>sales</th>\n",
       "      <th>brand</th>\n",
       "    </tr>\n",
       "  </thead>\n",
       "  <tbody>\n",
       "    <tr>\n",
       "      <th>0</th>\n",
       "      <td>101</td>\n",
       "      <td>biscuits</td>\n",
       "      <td>5.00</td>\n",
       "      <td>227</td>\n",
       "      <td>HomeFoods</td>\n",
       "    </tr>\n",
       "    <tr>\n",
       "      <th>1</th>\n",
       "      <td>102</td>\n",
       "      <td>cookies</td>\n",
       "      <td>7.25</td>\n",
       "      <td>158</td>\n",
       "      <td>TBakery</td>\n",
       "    </tr>\n",
       "    <tr>\n",
       "      <th>2</th>\n",
       "      <td>103</td>\n",
       "      <td>cake</td>\n",
       "      <td>12.00</td>\n",
       "      <td>50</td>\n",
       "      <td>TBakery</td>\n",
       "    </tr>\n",
       "    <tr>\n",
       "      <th>3</th>\n",
       "      <td>104</td>\n",
       "      <td>whey_supplement</td>\n",
       "      <td>34.90</td>\n",
       "      <td>24</td>\n",
       "      <td>MusleUp</td>\n",
       "    </tr>\n",
       "    <tr>\n",
       "      <th>4</th>\n",
       "      <td>105</td>\n",
       "      <td>protein_bars</td>\n",
       "      <td>4.90</td>\n",
       "      <td>85</td>\n",
       "      <td>MusleUp</td>\n",
       "    </tr>\n",
       "    <tr>\n",
       "      <th>5</th>\n",
       "      <td>106</td>\n",
       "      <td>potato_chips</td>\n",
       "      <td>1.75</td>\n",
       "      <td>121</td>\n",
       "      <td>HomeFoods</td>\n",
       "    </tr>\n",
       "  </tbody>\n",
       "</table>\n",
       "</div>"
      ],
      "text/plain": [
       "    id             name  price  sales      brand\n",
       "0  101         biscuits   5.00    227  HomeFoods\n",
       "1  102          cookies   7.25    158    TBakery\n",
       "2  103             cake  12.00     50    TBakery\n",
       "3  104  whey_supplement  34.90     24    MusleUp\n",
       "4  105     protein_bars   4.90     85    MusleUp\n",
       "5  106     potato_chips   1.75    121  HomeFoods"
      ]
     },
     "execution_count": 2,
     "metadata": {},
     "output_type": "execute_result"
    }
   ],
   "source": [
    "import pandas\n",
    "data_dir = 'csv_data.csv'\n",
    "dt = pandas.read_csv(data_dir)\n",
    "dt"
   ]
  },
  {
   "cell_type": "code",
   "execution_count": 5,
   "id": "025a248b-8989-4234-9c55-cab47357598b",
   "metadata": {},
   "outputs": [
    {
     "data": {
      "text/html": [
       "<div>\n",
       "<style scoped>\n",
       "    .dataframe tbody tr th:only-of-type {\n",
       "        vertical-align: middle;\n",
       "    }\n",
       "\n",
       "    .dataframe tbody tr th {\n",
       "        vertical-align: top;\n",
       "    }\n",
       "\n",
       "    .dataframe thead th {\n",
       "        text-align: right;\n",
       "    }\n",
       "</style>\n",
       "<table border=\"1\" class=\"dataframe\">\n",
       "  <thead>\n",
       "    <tr style=\"text-align: right;\">\n",
       "      <th></th>\n",
       "      <th>id</th>\n",
       "      <th>name</th>\n",
       "      <th>price</th>\n",
       "      <th>sales</th>\n",
       "      <th>brand</th>\n",
       "    </tr>\n",
       "  </thead>\n",
       "  <tbody>\n",
       "    <tr>\n",
       "      <th>0</th>\n",
       "      <td>101</td>\n",
       "      <td>biscuits</td>\n",
       "      <td>5.00</td>\n",
       "      <td>227</td>\n",
       "      <td>HomeFoods</td>\n",
       "    </tr>\n",
       "    <tr>\n",
       "      <th>1</th>\n",
       "      <td>102</td>\n",
       "      <td>cookies</td>\n",
       "      <td>7.25</td>\n",
       "      <td>158</td>\n",
       "      <td>TBakery</td>\n",
       "    </tr>\n",
       "    <tr>\n",
       "      <th>2</th>\n",
       "      <td>103</td>\n",
       "      <td>cake</td>\n",
       "      <td>12.00</td>\n",
       "      <td>50</td>\n",
       "      <td>TBakery</td>\n",
       "    </tr>\n",
       "    <tr>\n",
       "      <th>3</th>\n",
       "      <td>104</td>\n",
       "      <td>whey_supplement</td>\n",
       "      <td>34.90</td>\n",
       "      <td>24</td>\n",
       "      <td>MusleUp</td>\n",
       "    </tr>\n",
       "    <tr>\n",
       "      <th>4</th>\n",
       "      <td>105</td>\n",
       "      <td>protein_bars</td>\n",
       "      <td>4.90</td>\n",
       "      <td>85</td>\n",
       "      <td>MusleUp</td>\n",
       "    </tr>\n",
       "    <tr>\n",
       "      <th>5</th>\n",
       "      <td>106</td>\n",
       "      <td>potato_chips</td>\n",
       "      <td>1.75</td>\n",
       "      <td>121</td>\n",
       "      <td>HomeFoods</td>\n",
       "    </tr>\n",
       "  </tbody>\n",
       "</table>\n",
       "</div>"
      ],
      "text/plain": [
       "    id             name  price  sales      brand\n",
       "0  101         biscuits   5.00    227  HomeFoods\n",
       "1  102          cookies   7.25    158    TBakery\n",
       "2  103             cake  12.00     50    TBakery\n",
       "3  104  whey_supplement  34.90     24    MusleUp\n",
       "4  105     protein_bars   4.90     85    MusleUp\n",
       "5  106     potato_chips   1.75    121  HomeFoods"
      ]
     },
     "execution_count": 5,
     "metadata": {},
     "output_type": "execute_result"
    }
   ],
   "source": [
    "import pandas\n",
    "dat_js = 'json_data.json'\n",
    "dt = pandas.read_json(dat_js)\n",
    "dt"
   ]
  },
  {
   "cell_type": "code",
   "execution_count": 8,
   "id": "273baa55-1ddf-47f2-9292-c6b10aafea40",
   "metadata": {},
   "outputs": [
    {
     "data": {
      "text/html": [
       "<div>\n",
       "<style scoped>\n",
       "    .dataframe tbody tr th:only-of-type {\n",
       "        vertical-align: middle;\n",
       "    }\n",
       "\n",
       "    .dataframe tbody tr th {\n",
       "        vertical-align: top;\n",
       "    }\n",
       "\n",
       "    .dataframe thead th {\n",
       "        text-align: right;\n",
       "    }\n",
       "</style>\n",
       "<table border=\"1\" class=\"dataframe\">\n",
       "  <thead>\n",
       "    <tr style=\"text-align: right;\">\n",
       "      <th></th>\n",
       "      <th>id</th>\n",
       "      <th>name</th>\n",
       "      <th>price</th>\n",
       "      <th>sales</th>\n",
       "      <th>brand</th>\n",
       "    </tr>\n",
       "  </thead>\n",
       "  <tbody>\n",
       "    <tr>\n",
       "      <th>0</th>\n",
       "      <td>101</td>\n",
       "      <td>biscuits</td>\n",
       "      <td>5.00</td>\n",
       "      <td>227</td>\n",
       "      <td>HomeFoods</td>\n",
       "    </tr>\n",
       "    <tr>\n",
       "      <th>1</th>\n",
       "      <td>102</td>\n",
       "      <td>cookies</td>\n",
       "      <td>7.25</td>\n",
       "      <td>158</td>\n",
       "      <td>TBakery</td>\n",
       "    </tr>\n",
       "    <tr>\n",
       "      <th>2</th>\n",
       "      <td>103</td>\n",
       "      <td>cake</td>\n",
       "      <td>12.00</td>\n",
       "      <td>50</td>\n",
       "      <td>TBakery</td>\n",
       "    </tr>\n",
       "    <tr>\n",
       "      <th>3</th>\n",
       "      <td>104</td>\n",
       "      <td>whey_supplement</td>\n",
       "      <td>34.90</td>\n",
       "      <td>24</td>\n",
       "      <td>MusleUp</td>\n",
       "    </tr>\n",
       "    <tr>\n",
       "      <th>4</th>\n",
       "      <td>105</td>\n",
       "      <td>protein_bars</td>\n",
       "      <td>4.90</td>\n",
       "      <td>85</td>\n",
       "      <td>MusleUp</td>\n",
       "    </tr>\n",
       "    <tr>\n",
       "      <th>5</th>\n",
       "      <td>106</td>\n",
       "      <td>potato_chips</td>\n",
       "      <td>1.75</td>\n",
       "      <td>121</td>\n",
       "      <td>HomeFoods</td>\n",
       "    </tr>\n",
       "  </tbody>\n",
       "</table>\n",
       "</div>"
      ],
      "text/plain": [
       "    id             name  price  sales      brand\n",
       "0  101         biscuits   5.00    227  HomeFoods\n",
       "1  102          cookies   7.25    158    TBakery\n",
       "2  103             cake  12.00     50    TBakery\n",
       "3  104  whey_supplement  34.90     24    MusleUp\n",
       "4  105     protein_bars   4.90     85    MusleUp\n",
       "5  106     potato_chips   1.75    121  HomeFoods"
      ]
     },
     "execution_count": 8,
     "metadata": {},
     "output_type": "execute_result"
    }
   ],
   "source": [
    "import pandas\n",
    "data_xl = pandas.read_excel('xlsx_data.xlsx')\n",
    "data_xl"
   ]
  },
  {
   "cell_type": "code",
   "execution_count": 10,
   "id": "9eacadfb-b938-4bc2-a38f-0542368bcee2",
   "metadata": {},
   "outputs": [
    {
     "data": {
      "text/html": [
       "<div>\n",
       "<style scoped>\n",
       "    .dataframe tbody tr th:only-of-type {\n",
       "        vertical-align: middle;\n",
       "    }\n",
       "\n",
       "    .dataframe tbody tr th {\n",
       "        vertical-align: top;\n",
       "    }\n",
       "\n",
       "    .dataframe thead th {\n",
       "        text-align: right;\n",
       "    }\n",
       "</style>\n",
       "<table border=\"1\" class=\"dataframe\">\n",
       "  <thead>\n",
       "    <tr style=\"text-align: right;\">\n",
       "      <th></th>\n",
       "      <th>ID</th>\n",
       "      <th>Name</th>\n",
       "      <th>Price</th>\n",
       "      <th>Sales</th>\n",
       "      <th>Brand</th>\n",
       "    </tr>\n",
       "  </thead>\n",
       "  <tbody>\n",
       "    <tr>\n",
       "      <th>0</th>\n",
       "      <td>101</td>\n",
       "      <td>biscuits</td>\n",
       "      <td>5.00</td>\n",
       "      <td>227</td>\n",
       "      <td>HomeFoods</td>\n",
       "    </tr>\n",
       "    <tr>\n",
       "      <th>1</th>\n",
       "      <td>102</td>\n",
       "      <td>cookies</td>\n",
       "      <td>7.25</td>\n",
       "      <td>158</td>\n",
       "      <td>TBakery</td>\n",
       "    </tr>\n",
       "    <tr>\n",
       "      <th>2</th>\n",
       "      <td>103</td>\n",
       "      <td>cake</td>\n",
       "      <td>12.00</td>\n",
       "      <td>50</td>\n",
       "      <td>TBakery</td>\n",
       "    </tr>\n",
       "    <tr>\n",
       "      <th>3</th>\n",
       "      <td>104</td>\n",
       "      <td>whey_supplement</td>\n",
       "      <td>34.90</td>\n",
       "      <td>24</td>\n",
       "      <td>MusleUp</td>\n",
       "    </tr>\n",
       "    <tr>\n",
       "      <th>4</th>\n",
       "      <td>105</td>\n",
       "      <td>protein_bars</td>\n",
       "      <td>4.90</td>\n",
       "      <td>85</td>\n",
       "      <td>MusleUp</td>\n",
       "    </tr>\n",
       "    <tr>\n",
       "      <th>5</th>\n",
       "      <td>106</td>\n",
       "      <td>potato_chips</td>\n",
       "      <td>1.75</td>\n",
       "      <td>121</td>\n",
       "      <td>HomeFoods</td>\n",
       "    </tr>\n",
       "  </tbody>\n",
       "</table>\n",
       "</div>"
      ],
      "text/plain": [
       "    ID             Name  Price  Sales      Brand\n",
       "0  101         biscuits   5.00    227  HomeFoods\n",
       "1  102          cookies   7.25    158    TBakery\n",
       "2  103             cake  12.00     50    TBakery\n",
       "3  104  whey_supplement  34.90     24    MusleUp\n",
       "4  105     protein_bars   4.90     85    MusleUp\n",
       "5  106     potato_chips   1.75    121  HomeFoods"
      ]
     },
     "execution_count": 10,
     "metadata": {},
     "output_type": "execute_result"
    }
   ],
   "source": [
    "import pandas\n",
    "data_dir = 'csv_data.csv'\n",
    "dt = pandas.read_csv(data_dir, names = ['ID','Name','Price','Sales','Brand'],skiprows = 1)\n",
    "dt"
   ]
  },
  {
   "cell_type": "code",
   "execution_count": 11,
   "id": "fa300687-e9c1-4f67-8719-fa204d03a8e4",
   "metadata": {},
   "outputs": [
    {
     "data": {
      "text/html": [
       "<div>\n",
       "<style scoped>\n",
       "    .dataframe tbody tr th:only-of-type {\n",
       "        vertical-align: middle;\n",
       "    }\n",
       "\n",
       "    .dataframe tbody tr th {\n",
       "        vertical-align: top;\n",
       "    }\n",
       "\n",
       "    .dataframe thead th {\n",
       "        text-align: right;\n",
       "    }\n",
       "</style>\n",
       "<table border=\"1\" class=\"dataframe\">\n",
       "  <thead>\n",
       "    <tr style=\"text-align: right;\">\n",
       "      <th></th>\n",
       "      <th>ID</th>\n",
       "      <th>Name</th>\n",
       "      <th>Price</th>\n",
       "      <th>Sales</th>\n",
       "      <th>Brand</th>\n",
       "    </tr>\n",
       "  </thead>\n",
       "  <tbody>\n",
       "    <tr>\n",
       "      <th>0</th>\n",
       "      <td>False</td>\n",
       "      <td>False</td>\n",
       "      <td>False</td>\n",
       "      <td>False</td>\n",
       "      <td>False</td>\n",
       "    </tr>\n",
       "    <tr>\n",
       "      <th>1</th>\n",
       "      <td>False</td>\n",
       "      <td>False</td>\n",
       "      <td>False</td>\n",
       "      <td>False</td>\n",
       "      <td>False</td>\n",
       "    </tr>\n",
       "    <tr>\n",
       "      <th>2</th>\n",
       "      <td>False</td>\n",
       "      <td>False</td>\n",
       "      <td>False</td>\n",
       "      <td>False</td>\n",
       "      <td>False</td>\n",
       "    </tr>\n",
       "    <tr>\n",
       "      <th>3</th>\n",
       "      <td>False</td>\n",
       "      <td>False</td>\n",
       "      <td>False</td>\n",
       "      <td>False</td>\n",
       "      <td>False</td>\n",
       "    </tr>\n",
       "    <tr>\n",
       "      <th>4</th>\n",
       "      <td>False</td>\n",
       "      <td>False</td>\n",
       "      <td>False</td>\n",
       "      <td>False</td>\n",
       "      <td>False</td>\n",
       "    </tr>\n",
       "    <tr>\n",
       "      <th>5</th>\n",
       "      <td>False</td>\n",
       "      <td>False</td>\n",
       "      <td>False</td>\n",
       "      <td>False</td>\n",
       "      <td>False</td>\n",
       "    </tr>\n",
       "  </tbody>\n",
       "</table>\n",
       "</div>"
      ],
      "text/plain": [
       "      ID   Name  Price  Sales  Brand\n",
       "0  False  False  False  False  False\n",
       "1  False  False  False  False  False\n",
       "2  False  False  False  False  False\n",
       "3  False  False  False  False  False\n",
       "4  False  False  False  False  False\n",
       "5  False  False  False  False  False"
      ]
     },
     "execution_count": 11,
     "metadata": {},
     "output_type": "execute_result"
    }
   ],
   "source": [
    "dt.isnull()"
   ]
  },
  {
   "cell_type": "code",
   "execution_count": 13,
   "id": "c156d04a-41db-4624-86df-608f43b707ba",
   "metadata": {},
   "outputs": [
    {
     "data": {
      "text/html": [
       "<div>\n",
       "<style scoped>\n",
       "    .dataframe tbody tr th:only-of-type {\n",
       "        vertical-align: middle;\n",
       "    }\n",
       "\n",
       "    .dataframe tbody tr th {\n",
       "        vertical-align: top;\n",
       "    }\n",
       "\n",
       "    .dataframe thead th {\n",
       "        text-align: right;\n",
       "    }\n",
       "</style>\n",
       "<table border=\"1\" class=\"dataframe\">\n",
       "  <thead>\n",
       "    <tr style=\"text-align: right;\">\n",
       "      <th></th>\n",
       "      <th>ID</th>\n",
       "      <th>Name</th>\n",
       "      <th>Price</th>\n",
       "      <th>Sales</th>\n",
       "      <th>Brand</th>\n",
       "    </tr>\n",
       "  </thead>\n",
       "  <tbody>\n",
       "    <tr>\n",
       "      <th>0</th>\n",
       "      <td>101</td>\n",
       "      <td>biscuits</td>\n",
       "      <td>5.00</td>\n",
       "      <td>227</td>\n",
       "      <td>HomeFoods</td>\n",
       "    </tr>\n",
       "    <tr>\n",
       "      <th>1</th>\n",
       "      <td>102</td>\n",
       "      <td>cookies</td>\n",
       "      <td>7.25</td>\n",
       "      <td>158</td>\n",
       "      <td>TBakery</td>\n",
       "    </tr>\n",
       "    <tr>\n",
       "      <th>2</th>\n",
       "      <td>103</td>\n",
       "      <td>cake</td>\n",
       "      <td>12.00</td>\n",
       "      <td>50</td>\n",
       "      <td>TBakery</td>\n",
       "    </tr>\n",
       "    <tr>\n",
       "      <th>3</th>\n",
       "      <td>104</td>\n",
       "      <td>whey_supplement</td>\n",
       "      <td>34.90</td>\n",
       "      <td>24</td>\n",
       "      <td>MusleUp</td>\n",
       "    </tr>\n",
       "    <tr>\n",
       "      <th>4</th>\n",
       "      <td>105</td>\n",
       "      <td>protein_bars</td>\n",
       "      <td>4.90</td>\n",
       "      <td>85</td>\n",
       "      <td>MusleUp</td>\n",
       "    </tr>\n",
       "    <tr>\n",
       "      <th>5</th>\n",
       "      <td>106</td>\n",
       "      <td>potato_chips</td>\n",
       "      <td>1.75</td>\n",
       "      <td>121</td>\n",
       "      <td>HomeFoods</td>\n",
       "    </tr>\n",
       "  </tbody>\n",
       "</table>\n",
       "</div>"
      ],
      "text/plain": [
       "    ID             Name  Price  Sales      Brand\n",
       "0  101         biscuits   5.00    227  HomeFoods\n",
       "1  102          cookies   7.25    158    TBakery\n",
       "2  103             cake  12.00     50    TBakery\n",
       "3  104  whey_supplement  34.90     24    MusleUp\n",
       "4  105     protein_bars   4.90     85    MusleUp\n",
       "5  106     potato_chips   1.75    121  HomeFoods"
      ]
     },
     "execution_count": 13,
     "metadata": {},
     "output_type": "execute_result"
    }
   ],
   "source": [
    "dt.fillna(0)"
   ]
  },
  {
   "cell_type": "code",
   "execution_count": 14,
   "id": "a3899d00-a797-4ec8-8f3e-1182fa0e8fb7",
   "metadata": {},
   "outputs": [
    {
     "data": {
      "text/html": [
       "<div>\n",
       "<style scoped>\n",
       "    .dataframe tbody tr th:only-of-type {\n",
       "        vertical-align: middle;\n",
       "    }\n",
       "\n",
       "    .dataframe tbody tr th {\n",
       "        vertical-align: top;\n",
       "    }\n",
       "\n",
       "    .dataframe thead th {\n",
       "        text-align: right;\n",
       "    }\n",
       "</style>\n",
       "<table border=\"1\" class=\"dataframe\">\n",
       "  <thead>\n",
       "    <tr style=\"text-align: right;\">\n",
       "      <th></th>\n",
       "      <th>ID</th>\n",
       "      <th>Name</th>\n",
       "      <th>Price</th>\n",
       "      <th>Sales</th>\n",
       "      <th>Brand</th>\n",
       "    </tr>\n",
       "  </thead>\n",
       "  <tbody>\n",
       "    <tr>\n",
       "      <th>0</th>\n",
       "      <td>101</td>\n",
       "      <td>biscuits</td>\n",
       "      <td>5.00</td>\n",
       "      <td>227</td>\n",
       "      <td>HomeFoods</td>\n",
       "    </tr>\n",
       "    <tr>\n",
       "      <th>1</th>\n",
       "      <td>102</td>\n",
       "      <td>cookies</td>\n",
       "      <td>7.25</td>\n",
       "      <td>158</td>\n",
       "      <td>TBakery</td>\n",
       "    </tr>\n",
       "    <tr>\n",
       "      <th>2</th>\n",
       "      <td>103</td>\n",
       "      <td>cake</td>\n",
       "      <td>12.00</td>\n",
       "      <td>50</td>\n",
       "      <td>TBakery</td>\n",
       "    </tr>\n",
       "    <tr>\n",
       "      <th>3</th>\n",
       "      <td>104</td>\n",
       "      <td>whey_supplement</td>\n",
       "      <td>34.90</td>\n",
       "      <td>24</td>\n",
       "      <td>MusleUp</td>\n",
       "    </tr>\n",
       "    <tr>\n",
       "      <th>4</th>\n",
       "      <td>105</td>\n",
       "      <td>protein_bars</td>\n",
       "      <td>4.90</td>\n",
       "      <td>85</td>\n",
       "      <td>MusleUp</td>\n",
       "    </tr>\n",
       "    <tr>\n",
       "      <th>5</th>\n",
       "      <td>106</td>\n",
       "      <td>potato_chips</td>\n",
       "      <td>1.75</td>\n",
       "      <td>121</td>\n",
       "      <td>HomeFoods</td>\n",
       "    </tr>\n",
       "  </tbody>\n",
       "</table>\n",
       "</div>"
      ],
      "text/plain": [
       "    ID             Name  Price  Sales      Brand\n",
       "0  101         biscuits   5.00    227  HomeFoods\n",
       "1  102          cookies   7.25    158    TBakery\n",
       "2  103             cake  12.00     50    TBakery\n",
       "3  104  whey_supplement  34.90     24    MusleUp\n",
       "4  105     protein_bars   4.90     85    MusleUp\n",
       "5  106     potato_chips   1.75    121  HomeFoods"
      ]
     },
     "execution_count": 14,
     "metadata": {},
     "output_type": "execute_result"
    }
   ],
   "source": [
    "dt.fillna('None')"
   ]
  },
  {
   "cell_type": "code",
   "execution_count": 15,
   "id": "402d0521-87ef-49e5-9d15-01f193a11e69",
   "metadata": {},
   "outputs": [
    {
     "data": {
      "text/html": [
       "<div>\n",
       "<style scoped>\n",
       "    .dataframe tbody tr th:only-of-type {\n",
       "        vertical-align: middle;\n",
       "    }\n",
       "\n",
       "    .dataframe tbody tr th {\n",
       "        vertical-align: top;\n",
       "    }\n",
       "\n",
       "    .dataframe thead th {\n",
       "        text-align: right;\n",
       "    }\n",
       "</style>\n",
       "<table border=\"1\" class=\"dataframe\">\n",
       "  <thead>\n",
       "    <tr style=\"text-align: right;\">\n",
       "      <th></th>\n",
       "      <th>ID</th>\n",
       "      <th>Name</th>\n",
       "      <th>Price</th>\n",
       "      <th>Sales</th>\n",
       "      <th>Brand</th>\n",
       "    </tr>\n",
       "  </thead>\n",
       "  <tbody>\n",
       "    <tr>\n",
       "      <th>0</th>\n",
       "      <td>101</td>\n",
       "      <td>biscuits</td>\n",
       "      <td>5.00</td>\n",
       "      <td>227</td>\n",
       "      <td>HomeFoods</td>\n",
       "    </tr>\n",
       "    <tr>\n",
       "      <th>1</th>\n",
       "      <td>102</td>\n",
       "      <td>cookies</td>\n",
       "      <td>7.25</td>\n",
       "      <td>158</td>\n",
       "      <td>TBakery</td>\n",
       "    </tr>\n",
       "    <tr>\n",
       "      <th>2</th>\n",
       "      <td>103</td>\n",
       "      <td>cake</td>\n",
       "      <td>12.00</td>\n",
       "      <td>50</td>\n",
       "      <td>TBakery</td>\n",
       "    </tr>\n",
       "    <tr>\n",
       "      <th>3</th>\n",
       "      <td>104</td>\n",
       "      <td>whey_supplement</td>\n",
       "      <td>34.90</td>\n",
       "      <td>24</td>\n",
       "      <td>MusleUp</td>\n",
       "    </tr>\n",
       "    <tr>\n",
       "      <th>4</th>\n",
       "      <td>105</td>\n",
       "      <td>protein_bars</td>\n",
       "      <td>4.90</td>\n",
       "      <td>85</td>\n",
       "      <td>MusleUp</td>\n",
       "    </tr>\n",
       "    <tr>\n",
       "      <th>5</th>\n",
       "      <td>106</td>\n",
       "      <td>potato_chips</td>\n",
       "      <td>1.75</td>\n",
       "      <td>121</td>\n",
       "      <td>HomeFoods</td>\n",
       "    </tr>\n",
       "  </tbody>\n",
       "</table>\n",
       "</div>"
      ],
      "text/plain": [
       "    ID             Name  Price  Sales      Brand\n",
       "0  101         biscuits   5.00    227  HomeFoods\n",
       "1  102          cookies   7.25    158    TBakery\n",
       "2  103             cake  12.00     50    TBakery\n",
       "3  104  whey_supplement  34.90     24    MusleUp\n",
       "4  105     protein_bars   4.90     85    MusleUp\n",
       "5  106     potato_chips   1.75    121  HomeFoods"
      ]
     },
     "execution_count": 15,
     "metadata": {},
     "output_type": "execute_result"
    }
   ],
   "source": [
    "dt.pad()"
   ]
  },
  {
   "cell_type": "code",
   "execution_count": 16,
   "id": "832592b1-b37a-4ed2-9545-6d16581bdffe",
   "metadata": {},
   "outputs": [
    {
     "data": {
      "text/html": [
       "<div>\n",
       "<style scoped>\n",
       "    .dataframe tbody tr th:only-of-type {\n",
       "        vertical-align: middle;\n",
       "    }\n",
       "\n",
       "    .dataframe tbody tr th {\n",
       "        vertical-align: top;\n",
       "    }\n",
       "\n",
       "    .dataframe thead th {\n",
       "        text-align: right;\n",
       "    }\n",
       "</style>\n",
       "<table border=\"1\" class=\"dataframe\">\n",
       "  <thead>\n",
       "    <tr style=\"text-align: right;\">\n",
       "      <th></th>\n",
       "      <th>ID</th>\n",
       "      <th>Name</th>\n",
       "      <th>Price</th>\n",
       "      <th>Sales</th>\n",
       "      <th>Brand</th>\n",
       "    </tr>\n",
       "  </thead>\n",
       "  <tbody>\n",
       "    <tr>\n",
       "      <th>0</th>\n",
       "      <td>101</td>\n",
       "      <td>biscuits</td>\n",
       "      <td>5.00</td>\n",
       "      <td>227</td>\n",
       "      <td>HomeFoods</td>\n",
       "    </tr>\n",
       "    <tr>\n",
       "      <th>1</th>\n",
       "      <td>102</td>\n",
       "      <td>cookies</td>\n",
       "      <td>7.25</td>\n",
       "      <td>158</td>\n",
       "      <td>TBakery</td>\n",
       "    </tr>\n",
       "    <tr>\n",
       "      <th>2</th>\n",
       "      <td>103</td>\n",
       "      <td>cake</td>\n",
       "      <td>12.00</td>\n",
       "      <td>50</td>\n",
       "      <td>TBakery</td>\n",
       "    </tr>\n",
       "    <tr>\n",
       "      <th>3</th>\n",
       "      <td>104</td>\n",
       "      <td>whey_supplement</td>\n",
       "      <td>34.90</td>\n",
       "      <td>24</td>\n",
       "      <td>MusleUp</td>\n",
       "    </tr>\n",
       "    <tr>\n",
       "      <th>4</th>\n",
       "      <td>105</td>\n",
       "      <td>protein_bars</td>\n",
       "      <td>4.90</td>\n",
       "      <td>85</td>\n",
       "      <td>MusleUp</td>\n",
       "    </tr>\n",
       "    <tr>\n",
       "      <th>5</th>\n",
       "      <td>106</td>\n",
       "      <td>potato_chips</td>\n",
       "      <td>1.75</td>\n",
       "      <td>121</td>\n",
       "      <td>HomeFoods</td>\n",
       "    </tr>\n",
       "  </tbody>\n",
       "</table>\n",
       "</div>"
      ],
      "text/plain": [
       "    ID             Name  Price  Sales      Brand\n",
       "0  101         biscuits   5.00    227  HomeFoods\n",
       "1  102          cookies   7.25    158    TBakery\n",
       "2  103             cake  12.00     50    TBakery\n",
       "3  104  whey_supplement  34.90     24    MusleUp\n",
       "4  105     protein_bars   4.90     85    MusleUp\n",
       "5  106     potato_chips   1.75    121  HomeFoods"
      ]
     },
     "execution_count": 16,
     "metadata": {},
     "output_type": "execute_result"
    }
   ],
   "source": [
    "dt.bfill()"
   ]
  },
  {
   "cell_type": "code",
   "execution_count": 17,
   "id": "b2116663-f647-435f-8f45-18e76bd98813",
   "metadata": {},
   "outputs": [
    {
     "data": {
      "text/html": [
       "<div>\n",
       "<style scoped>\n",
       "    .dataframe tbody tr th:only-of-type {\n",
       "        vertical-align: middle;\n",
       "    }\n",
       "\n",
       "    .dataframe tbody tr th {\n",
       "        vertical-align: top;\n",
       "    }\n",
       "\n",
       "    .dataframe thead th {\n",
       "        text-align: right;\n",
       "    }\n",
       "</style>\n",
       "<table border=\"1\" class=\"dataframe\">\n",
       "  <thead>\n",
       "    <tr style=\"text-align: right;\">\n",
       "      <th></th>\n",
       "      <th>ID</th>\n",
       "      <th>Name</th>\n",
       "      <th>Price</th>\n",
       "      <th>Sales</th>\n",
       "      <th>Brand</th>\n",
       "    </tr>\n",
       "  </thead>\n",
       "  <tbody>\n",
       "    <tr>\n",
       "      <th>0</th>\n",
       "      <td>101</td>\n",
       "      <td>biscuits</td>\n",
       "      <td>5.00</td>\n",
       "      <td>227</td>\n",
       "      <td>HomeFoods</td>\n",
       "    </tr>\n",
       "    <tr>\n",
       "      <th>1</th>\n",
       "      <td>102</td>\n",
       "      <td>cookies</td>\n",
       "      <td>7.25</td>\n",
       "      <td>158</td>\n",
       "      <td>TBakery</td>\n",
       "    </tr>\n",
       "    <tr>\n",
       "      <th>2</th>\n",
       "      <td>103</td>\n",
       "      <td>cake</td>\n",
       "      <td>12.00</td>\n",
       "      <td>50</td>\n",
       "      <td>TBakery</td>\n",
       "    </tr>\n",
       "    <tr>\n",
       "      <th>3</th>\n",
       "      <td>104</td>\n",
       "      <td>whey_supplement</td>\n",
       "      <td>34.90</td>\n",
       "      <td>24</td>\n",
       "      <td>MusleUp</td>\n",
       "    </tr>\n",
       "    <tr>\n",
       "      <th>4</th>\n",
       "      <td>105</td>\n",
       "      <td>protein_bars</td>\n",
       "      <td>4.90</td>\n",
       "      <td>85</td>\n",
       "      <td>MusleUp</td>\n",
       "    </tr>\n",
       "    <tr>\n",
       "      <th>5</th>\n",
       "      <td>106</td>\n",
       "      <td>potato_chips</td>\n",
       "      <td>1.75</td>\n",
       "      <td>121</td>\n",
       "      <td>HomeFoods</td>\n",
       "    </tr>\n",
       "  </tbody>\n",
       "</table>\n",
       "</div>"
      ],
      "text/plain": [
       "    ID             Name  Price  Sales      Brand\n",
       "0  101         biscuits   5.00    227  HomeFoods\n",
       "1  102          cookies   7.25    158    TBakery\n",
       "2  103             cake  12.00     50    TBakery\n",
       "3  104  whey_supplement  34.90     24    MusleUp\n",
       "4  105     protein_bars   4.90     85    MusleUp\n",
       "5  106     potato_chips   1.75    121  HomeFoods"
      ]
     },
     "execution_count": 17,
     "metadata": {},
     "output_type": "execute_result"
    }
   ],
   "source": [
    "dt.dropna()"
   ]
  },
  {
   "cell_type": "code",
   "execution_count": 18,
   "id": "da29a223-e7ee-4553-a7fe-78fcc070fe46",
   "metadata": {},
   "outputs": [
    {
     "data": {
      "text/html": [
       "<div>\n",
       "<style scoped>\n",
       "    .dataframe tbody tr th:only-of-type {\n",
       "        vertical-align: middle;\n",
       "    }\n",
       "\n",
       "    .dataframe tbody tr th {\n",
       "        vertical-align: top;\n",
       "    }\n",
       "\n",
       "    .dataframe thead th {\n",
       "        text-align: right;\n",
       "    }\n",
       "</style>\n",
       "<table border=\"1\" class=\"dataframe\">\n",
       "  <thead>\n",
       "    <tr style=\"text-align: right;\">\n",
       "      <th></th>\n",
       "      <th>ID</th>\n",
       "      <th>Name</th>\n",
       "      <th>Price</th>\n",
       "      <th>Sales</th>\n",
       "      <th>Brand</th>\n",
       "    </tr>\n",
       "  </thead>\n",
       "  <tbody>\n",
       "    <tr>\n",
       "      <th>0</th>\n",
       "      <td>101</td>\n",
       "      <td>biscuits</td>\n",
       "      <td>5.00</td>\n",
       "      <td>227</td>\n",
       "      <td>HomeFoods</td>\n",
       "    </tr>\n",
       "    <tr>\n",
       "      <th>1</th>\n",
       "      <td>102</td>\n",
       "      <td>cookies</td>\n",
       "      <td>7.25</td>\n",
       "      <td>158</td>\n",
       "      <td>TBakery</td>\n",
       "    </tr>\n",
       "    <tr>\n",
       "      <th>2</th>\n",
       "      <td>103</td>\n",
       "      <td>cake</td>\n",
       "      <td>12.00</td>\n",
       "      <td>50</td>\n",
       "      <td>TBakery</td>\n",
       "    </tr>\n",
       "    <tr>\n",
       "      <th>4</th>\n",
       "      <td>105</td>\n",
       "      <td>protein_bars</td>\n",
       "      <td>4.90</td>\n",
       "      <td>85</td>\n",
       "      <td>MusleUp</td>\n",
       "    </tr>\n",
       "  </tbody>\n",
       "</table>\n",
       "</div>"
      ],
      "text/plain": [
       "    ID          Name  Price  Sales      Brand\n",
       "0  101      biscuits   5.00    227  HomeFoods\n",
       "1  102       cookies   7.25    158    TBakery\n",
       "2  103          cake  12.00     50    TBakery\n",
       "4  105  protein_bars   4.90     85    MusleUp"
      ]
     },
     "execution_count": 18,
     "metadata": {},
     "output_type": "execute_result"
    }
   ],
   "source": [
    "dt.drop([3,5])"
   ]
  },
  {
   "cell_type": "code",
   "execution_count": 29,
   "id": "12982cb2-c1c3-4692-9486-ff6e3355b3b5",
   "metadata": {},
   "outputs": [
    {
     "data": {
      "text/html": [
       "<div>\n",
       "<style scoped>\n",
       "    .dataframe tbody tr th:only-of-type {\n",
       "        vertical-align: middle;\n",
       "    }\n",
       "\n",
       "    .dataframe tbody tr th {\n",
       "        vertical-align: top;\n",
       "    }\n",
       "\n",
       "    .dataframe thead th {\n",
       "        text-align: right;\n",
       "    }\n",
       "</style>\n",
       "<table border=\"1\" class=\"dataframe\">\n",
       "  <thead>\n",
       "    <tr style=\"text-align: right;\">\n",
       "      <th></th>\n",
       "      <th>ID</th>\n",
       "      <th>Name</th>\n",
       "      <th>Brand</th>\n",
       "    </tr>\n",
       "  </thead>\n",
       "  <tbody>\n",
       "    <tr>\n",
       "      <th>0</th>\n",
       "      <td>101</td>\n",
       "      <td>biscuits</td>\n",
       "      <td>HomeFoods</td>\n",
       "    </tr>\n",
       "    <tr>\n",
       "      <th>1</th>\n",
       "      <td>102</td>\n",
       "      <td>cookies</td>\n",
       "      <td>TBakery</td>\n",
       "    </tr>\n",
       "    <tr>\n",
       "      <th>2</th>\n",
       "      <td>103</td>\n",
       "      <td>cake</td>\n",
       "      <td>TBakery</td>\n",
       "    </tr>\n",
       "    <tr>\n",
       "      <th>3</th>\n",
       "      <td>104</td>\n",
       "      <td>whey_supplement</td>\n",
       "      <td>MusleUp</td>\n",
       "    </tr>\n",
       "    <tr>\n",
       "      <th>4</th>\n",
       "      <td>105</td>\n",
       "      <td>protein_bars</td>\n",
       "      <td>MusleUp</td>\n",
       "    </tr>\n",
       "    <tr>\n",
       "      <th>5</th>\n",
       "      <td>106</td>\n",
       "      <td>potato_chips</td>\n",
       "      <td>HomeFoods</td>\n",
       "    </tr>\n",
       "  </tbody>\n",
       "</table>\n",
       "</div>"
      ],
      "text/plain": [
       "    ID             Name      Brand\n",
       "0  101         biscuits  HomeFoods\n",
       "1  102          cookies    TBakery\n",
       "2  103             cake    TBakery\n",
       "3  104  whey_supplement    MusleUp\n",
       "4  105     protein_bars    MusleUp\n",
       "5  106     potato_chips  HomeFoods"
      ]
     },
     "execution_count": 29,
     "metadata": {},
     "output_type": "execute_result"
    }
   ],
   "source": [
    "dt"
   ]
  },
  {
   "cell_type": "code",
   "execution_count": 30,
   "id": "6ec9936b-3bfe-44a7-8716-89149035d9b9",
   "metadata": {},
   "outputs": [],
   "source": [
    "del dt['Name']"
   ]
  },
  {
   "cell_type": "code",
   "execution_count": 31,
   "id": "1225c4b5-caff-457a-aec8-c4a7e360dd9c",
   "metadata": {},
   "outputs": [
    {
     "data": {
      "text/html": [
       "<div>\n",
       "<style scoped>\n",
       "    .dataframe tbody tr th:only-of-type {\n",
       "        vertical-align: middle;\n",
       "    }\n",
       "\n",
       "    .dataframe tbody tr th {\n",
       "        vertical-align: top;\n",
       "    }\n",
       "\n",
       "    .dataframe thead th {\n",
       "        text-align: right;\n",
       "    }\n",
       "</style>\n",
       "<table border=\"1\" class=\"dataframe\">\n",
       "  <thead>\n",
       "    <tr style=\"text-align: right;\">\n",
       "      <th></th>\n",
       "      <th>ID</th>\n",
       "      <th>Brand</th>\n",
       "    </tr>\n",
       "  </thead>\n",
       "  <tbody>\n",
       "    <tr>\n",
       "      <th>0</th>\n",
       "      <td>101</td>\n",
       "      <td>HomeFoods</td>\n",
       "    </tr>\n",
       "    <tr>\n",
       "      <th>1</th>\n",
       "      <td>102</td>\n",
       "      <td>TBakery</td>\n",
       "    </tr>\n",
       "    <tr>\n",
       "      <th>2</th>\n",
       "      <td>103</td>\n",
       "      <td>TBakery</td>\n",
       "    </tr>\n",
       "    <tr>\n",
       "      <th>3</th>\n",
       "      <td>104</td>\n",
       "      <td>MusleUp</td>\n",
       "    </tr>\n",
       "    <tr>\n",
       "      <th>4</th>\n",
       "      <td>105</td>\n",
       "      <td>MusleUp</td>\n",
       "    </tr>\n",
       "    <tr>\n",
       "      <th>5</th>\n",
       "      <td>106</td>\n",
       "      <td>HomeFoods</td>\n",
       "    </tr>\n",
       "  </tbody>\n",
       "</table>\n",
       "</div>"
      ],
      "text/plain": [
       "    ID      Brand\n",
       "0  101  HomeFoods\n",
       "1  102    TBakery\n",
       "2  103    TBakery\n",
       "3  104    MusleUp\n",
       "4  105    MusleUp\n",
       "5  106  HomeFoods"
      ]
     },
     "execution_count": 31,
     "metadata": {},
     "output_type": "execute_result"
    }
   ],
   "source": [
    "dt"
   ]
  },
  {
   "cell_type": "code",
   "execution_count": 2,
   "id": "0864edcf-ac44-4ed2-a2d4-d224212ae22b",
   "metadata": {},
   "outputs": [
    {
     "data": {
      "text/html": [
       "<div>\n",
       "<style scoped>\n",
       "    .dataframe tbody tr th:only-of-type {\n",
       "        vertical-align: middle;\n",
       "    }\n",
       "\n",
       "    .dataframe tbody tr th {\n",
       "        vertical-align: top;\n",
       "    }\n",
       "\n",
       "    .dataframe thead th {\n",
       "        text-align: right;\n",
       "    }\n",
       "</style>\n",
       "<table border=\"1\" class=\"dataframe\">\n",
       "  <thead>\n",
       "    <tr style=\"text-align: right;\">\n",
       "      <th></th>\n",
       "      <th>id</th>\n",
       "      <th>name</th>\n",
       "      <th>price</th>\n",
       "      <th>sales</th>\n",
       "      <th>brand</th>\n",
       "    </tr>\n",
       "  </thead>\n",
       "  <tbody>\n",
       "    <tr>\n",
       "      <th>0</th>\n",
       "      <td>101</td>\n",
       "      <td>biscuits</td>\n",
       "      <td>5.00</td>\n",
       "      <td>227</td>\n",
       "      <td>HomeFoods</td>\n",
       "    </tr>\n",
       "    <tr>\n",
       "      <th>1</th>\n",
       "      <td>102</td>\n",
       "      <td>cookies</td>\n",
       "      <td>7.25</td>\n",
       "      <td>158</td>\n",
       "      <td>TBakery</td>\n",
       "    </tr>\n",
       "    <tr>\n",
       "      <th>2</th>\n",
       "      <td>103</td>\n",
       "      <td>cake</td>\n",
       "      <td>12.00</td>\n",
       "      <td>50</td>\n",
       "      <td>TBakery</td>\n",
       "    </tr>\n",
       "    <tr>\n",
       "      <th>3</th>\n",
       "      <td>104</td>\n",
       "      <td>whey_supplement</td>\n",
       "      <td>34.90</td>\n",
       "      <td>24</td>\n",
       "      <td>MusleUp</td>\n",
       "    </tr>\n",
       "    <tr>\n",
       "      <th>4</th>\n",
       "      <td>105</td>\n",
       "      <td>protein_bars</td>\n",
       "      <td>4.90</td>\n",
       "      <td>85</td>\n",
       "      <td>MusleUp</td>\n",
       "    </tr>\n",
       "    <tr>\n",
       "      <th>5</th>\n",
       "      <td>106</td>\n",
       "      <td>potato_chips</td>\n",
       "      <td>1.75</td>\n",
       "      <td>121</td>\n",
       "      <td>HomeFoods</td>\n",
       "    </tr>\n",
       "  </tbody>\n",
       "</table>\n",
       "</div>"
      ],
      "text/plain": [
       "    id             name  price  sales      brand\n",
       "0  101         biscuits   5.00    227  HomeFoods\n",
       "1  102          cookies   7.25    158    TBakery\n",
       "2  103             cake  12.00     50    TBakery\n",
       "3  104  whey_supplement  34.90     24    MusleUp\n",
       "4  105     protein_bars   4.90     85    MusleUp\n",
       "5  106     potato_chips   1.75    121  HomeFoods"
      ]
     },
     "execution_count": 2,
     "metadata": {},
     "output_type": "execute_result"
    }
   ],
   "source": [
    "import pandas\n",
    "data_dir = 'csv_data.csv'\n",
    "dt = pandas.read_csv(data_dir,)\n",
    "dt"
   ]
  },
  {
   "cell_type": "code",
   "execution_count": 34,
   "id": "4f5c48b3-8c7d-462d-9b9c-4d89c83dfe56",
   "metadata": {},
   "outputs": [
    {
     "data": {
      "text/html": [
       "<div>\n",
       "<style scoped>\n",
       "    .dataframe tbody tr th:only-of-type {\n",
       "        vertical-align: middle;\n",
       "    }\n",
       "\n",
       "    .dataframe tbody tr th {\n",
       "        vertical-align: top;\n",
       "    }\n",
       "\n",
       "    .dataframe thead th {\n",
       "        text-align: right;\n",
       "    }\n",
       "</style>\n",
       "<table border=\"1\" class=\"dataframe\">\n",
       "  <thead>\n",
       "    <tr style=\"text-align: right;\">\n",
       "      <th></th>\n",
       "      <th>ID</th>\n",
       "      <th>Name</th>\n",
       "      <th>Price</th>\n",
       "      <th>Sales</th>\n",
       "      <th>Brand</th>\n",
       "    </tr>\n",
       "  </thead>\n",
       "  <tbody>\n",
       "    <tr>\n",
       "      <th>0</th>\n",
       "      <td>101</td>\n",
       "      <td>biscuits</td>\n",
       "      <td>5.00</td>\n",
       "      <td>227</td>\n",
       "      <td>HomeFoods</td>\n",
       "    </tr>\n",
       "    <tr>\n",
       "      <th>1</th>\n",
       "      <td>102</td>\n",
       "      <td>cookies</td>\n",
       "      <td>7.25</td>\n",
       "      <td>158</td>\n",
       "      <td>TBakery</td>\n",
       "    </tr>\n",
       "    <tr>\n",
       "      <th>2</th>\n",
       "      <td>103</td>\n",
       "      <td>cake</td>\n",
       "      <td>12.00</td>\n",
       "      <td>50</td>\n",
       "      <td>TBakery</td>\n",
       "    </tr>\n",
       "    <tr>\n",
       "      <th>3</th>\n",
       "      <td>104</td>\n",
       "      <td>whey_supplement</td>\n",
       "      <td>34.90</td>\n",
       "      <td>24</td>\n",
       "      <td>MusleUp</td>\n",
       "    </tr>\n",
       "    <tr>\n",
       "      <th>4</th>\n",
       "      <td>105</td>\n",
       "      <td>protein_bars</td>\n",
       "      <td>4.90</td>\n",
       "      <td>85</td>\n",
       "      <td>MusleUp</td>\n",
       "    </tr>\n",
       "    <tr>\n",
       "      <th>5</th>\n",
       "      <td>106</td>\n",
       "      <td>potato_chips</td>\n",
       "      <td>1.75</td>\n",
       "      <td>121</td>\n",
       "      <td>HomeFoods</td>\n",
       "    </tr>\n",
       "  </tbody>\n",
       "</table>\n",
       "</div>"
      ],
      "text/plain": [
       "    ID             Name  Price  Sales      Brand\n",
       "0  101         biscuits   5.00    227  HomeFoods\n",
       "1  102          cookies   7.25    158    TBakery\n",
       "2  103             cake  12.00     50    TBakery\n",
       "3  104  whey_supplement  34.90     24    MusleUp\n",
       "4  105     protein_bars   4.90     85    MusleUp\n",
       "5  106     potato_chips   1.75    121  HomeFoods"
      ]
     },
     "execution_count": 34,
     "metadata": {},
     "output_type": "execute_result"
    }
   ],
   "source": [
    "import pandas\n",
    "data_dir = 'csv_data.csv'\n",
    "dt = pandas.read_csv(data_dir, names = ['ID','Name','Price','Sales','Brand'],skiprows = 1)\n",
    "dt"
   ]
  },
  {
   "cell_type": "code",
   "execution_count": 35,
   "id": "d506d776-c6c7-4770-9d3a-bb27a0ba18ca",
   "metadata": {},
   "outputs": [
    {
     "data": {
      "text/html": [
       "<div>\n",
       "<style scoped>\n",
       "    .dataframe tbody tr th:only-of-type {\n",
       "        vertical-align: middle;\n",
       "    }\n",
       "\n",
       "    .dataframe tbody tr th {\n",
       "        vertical-align: top;\n",
       "    }\n",
       "\n",
       "    .dataframe thead th {\n",
       "        text-align: right;\n",
       "    }\n",
       "</style>\n",
       "<table border=\"1\" class=\"dataframe\">\n",
       "  <thead>\n",
       "    <tr style=\"text-align: right;\">\n",
       "      <th></th>\n",
       "      <th>ID</th>\n",
       "      <th>Name</th>\n",
       "      <th>Brand</th>\n",
       "    </tr>\n",
       "  </thead>\n",
       "  <tbody>\n",
       "    <tr>\n",
       "      <th>0</th>\n",
       "      <td>101</td>\n",
       "      <td>biscuits</td>\n",
       "      <td>HomeFoods</td>\n",
       "    </tr>\n",
       "    <tr>\n",
       "      <th>1</th>\n",
       "      <td>102</td>\n",
       "      <td>cookies</td>\n",
       "      <td>TBakery</td>\n",
       "    </tr>\n",
       "    <tr>\n",
       "      <th>2</th>\n",
       "      <td>103</td>\n",
       "      <td>cake</td>\n",
       "      <td>TBakery</td>\n",
       "    </tr>\n",
       "    <tr>\n",
       "      <th>3</th>\n",
       "      <td>104</td>\n",
       "      <td>whey_supplement</td>\n",
       "      <td>MusleUp</td>\n",
       "    </tr>\n",
       "    <tr>\n",
       "      <th>4</th>\n",
       "      <td>105</td>\n",
       "      <td>protein_bars</td>\n",
       "      <td>MusleUp</td>\n",
       "    </tr>\n",
       "    <tr>\n",
       "      <th>5</th>\n",
       "      <td>106</td>\n",
       "      <td>potato_chips</td>\n",
       "      <td>HomeFoods</td>\n",
       "    </tr>\n",
       "  </tbody>\n",
       "</table>\n",
       "</div>"
      ],
      "text/plain": [
       "    ID             Name      Brand\n",
       "0  101         biscuits  HomeFoods\n",
       "1  102          cookies    TBakery\n",
       "2  103             cake    TBakery\n",
       "3  104  whey_supplement    MusleUp\n",
       "4  105     protein_bars    MusleUp\n",
       "5  106     potato_chips  HomeFoods"
      ]
     },
     "execution_count": 35,
     "metadata": {},
     "output_type": "execute_result"
    }
   ],
   "source": [
    "dt.drop(columns=['Price','Sales'])"
   ]
  },
  {
   "cell_type": "code",
   "execution_count": 38,
   "id": "9ab5007d-27db-4fe2-bef1-e009482d3754",
   "metadata": {},
   "outputs": [
    {
     "data": {
      "text/html": [
       "<div>\n",
       "<style scoped>\n",
       "    .dataframe tbody tr th:only-of-type {\n",
       "        vertical-align: middle;\n",
       "    }\n",
       "\n",
       "    .dataframe tbody tr th {\n",
       "        vertical-align: top;\n",
       "    }\n",
       "\n",
       "    .dataframe thead th {\n",
       "        text-align: right;\n",
       "    }\n",
       "</style>\n",
       "<table border=\"1\" class=\"dataframe\">\n",
       "  <thead>\n",
       "    <tr style=\"text-align: right;\">\n",
       "      <th></th>\n",
       "      <th>ID</th>\n",
       "      <th>Name</th>\n",
       "      <th>Price</th>\n",
       "      <th>Sales</th>\n",
       "      <th>Brand</th>\n",
       "    </tr>\n",
       "  </thead>\n",
       "  <tbody>\n",
       "    <tr>\n",
       "      <th>0</th>\n",
       "      <td>101</td>\n",
       "      <td>biscuits</td>\n",
       "      <td>5.00</td>\n",
       "      <td>227</td>\n",
       "      <td>HomeFoods</td>\n",
       "    </tr>\n",
       "    <tr>\n",
       "      <th>1</th>\n",
       "      <td>102</td>\n",
       "      <td>cookies</td>\n",
       "      <td>7.25</td>\n",
       "      <td>158</td>\n",
       "      <td>TBakery</td>\n",
       "    </tr>\n",
       "    <tr>\n",
       "      <th>2</th>\n",
       "      <td>103</td>\n",
       "      <td>cake</td>\n",
       "      <td>12.00</td>\n",
       "      <td>50</td>\n",
       "      <td>TBakery</td>\n",
       "    </tr>\n",
       "    <tr>\n",
       "      <th>3</th>\n",
       "      <td>104</td>\n",
       "      <td>whey_supplement</td>\n",
       "      <td>34.90</td>\n",
       "      <td>24</td>\n",
       "      <td>MusleUp</td>\n",
       "    </tr>\n",
       "    <tr>\n",
       "      <th>4</th>\n",
       "      <td>105</td>\n",
       "      <td>protein_bars</td>\n",
       "      <td>4.90</td>\n",
       "      <td>85</td>\n",
       "      <td>MusleUp</td>\n",
       "    </tr>\n",
       "    <tr>\n",
       "      <th>5</th>\n",
       "      <td>106</td>\n",
       "      <td>potato_chips</td>\n",
       "      <td>1.75</td>\n",
       "      <td>121</td>\n",
       "      <td>HomeFoods</td>\n",
       "    </tr>\n",
       "  </tbody>\n",
       "</table>\n",
       "</div>"
      ],
      "text/plain": [
       "    ID             Name  Price  Sales      Brand\n",
       "0  101         biscuits   5.00    227  HomeFoods\n",
       "1  102          cookies   7.25    158    TBakery\n",
       "2  103             cake  12.00     50    TBakery\n",
       "3  104  whey_supplement  34.90     24    MusleUp\n",
       "4  105     protein_bars   4.90     85    MusleUp\n",
       "5  106     potato_chips   1.75    121  HomeFoods"
      ]
     },
     "execution_count": 38,
     "metadata": {},
     "output_type": "execute_result"
    }
   ],
   "source": [
    "import pandas\n",
    "data_dir = 'csv_data.csv'\n",
    "dt = pandas.read_csv(data_dir, names = ['ID','Name','Price','Sales','Brand'],skiprows = 1)\n",
    "dt.fillna(0,inplace=True)\n",
    "dt"
   ]
  },
  {
   "cell_type": "code",
   "execution_count": 47,
   "id": "7d0d783a-757d-45e6-b528-c82154d09a27",
   "metadata": {},
   "outputs": [
    {
     "data": {
      "text/plain": [
       "665"
      ]
     },
     "execution_count": 47,
     "metadata": {},
     "output_type": "execute_result"
    }
   ],
   "source": [
    "dt['Sales'].sum()\n"
   ]
  },
  {
   "cell_type": "code",
   "execution_count": 48,
   "id": "c6e9d0a1-633e-4d75-9082-db6f9f013c60",
   "metadata": {},
   "outputs": [
    {
     "data": {
      "text/plain": [
       "0    227\n",
       "1    158\n",
       "2     50\n",
       "3     24\n",
       "4     85\n",
       "5    121\n",
       "Name: Sales, dtype: int64"
      ]
     },
     "execution_count": 48,
     "metadata": {},
     "output_type": "execute_result"
    }
   ],
   "source": [
    "dt['Sales']"
   ]
  },
  {
   "cell_type": "code",
   "execution_count": 46,
   "id": "50c4a7cd-c91b-4d25-a2b1-16163dba452b",
   "metadata": {},
   "outputs": [
    {
     "data": {
      "text/plain": [
       "24"
      ]
     },
     "execution_count": 46,
     "metadata": {},
     "output_type": "execute_result"
    }
   ],
   "source": [
    "dt['Sales'].min()\n"
   ]
  },
  {
   "cell_type": "code",
   "execution_count": 45,
   "id": "e76992b6-343f-4a4e-befa-25c5bb9a2b9d",
   "metadata": {},
   "outputs": [
    {
     "data": {
      "text/plain": [
       "227"
      ]
     },
     "execution_count": 45,
     "metadata": {},
     "output_type": "execute_result"
    }
   ],
   "source": [
    "dt['Sales'].max()"
   ]
  },
  {
   "cell_type": "code",
   "execution_count": 50,
   "id": "8a45bfcc-31b7-4030-b491-55cf3171c538",
   "metadata": {},
   "outputs": [
    {
     "data": {
      "text/plain": [
       "110.83"
      ]
     },
     "execution_count": 50,
     "metadata": {},
     "output_type": "execute_result"
    }
   ],
   "source": [
    "round(dt['Sales'].mean(),2)"
   ]
  },
  {
   "cell_type": "code",
   "execution_count": 51,
   "id": "bb6c33cb-5525-4e78-989b-d9227b553388",
   "metadata": {},
   "outputs": [
    {
     "data": {
      "text/plain": [
       "103.0"
      ]
     },
     "execution_count": 51,
     "metadata": {},
     "output_type": "execute_result"
    }
   ],
   "source": [
    "dt['Sales'].median()"
   ]
  },
  {
   "cell_type": "code",
   "execution_count": 54,
   "id": "6bbc48e5-7359-48fd-82e6-33aef0b2d286",
   "metadata": {},
   "outputs": [
    {
     "data": {
      "text/plain": [
       "0     24\n",
       "1     50\n",
       "2     85\n",
       "3    121\n",
       "4    158\n",
       "5    227\n",
       "dtype: int64"
      ]
     },
     "execution_count": 54,
     "metadata": {},
     "output_type": "execute_result"
    }
   ],
   "source": [
    "dt['Sales'].mode()"
   ]
  },
  {
   "cell_type": "code",
   "execution_count": 58,
   "id": "7cfb532f-28cc-4041-bc0c-e68c5175ff27",
   "metadata": {},
   "outputs": [
    {
     "data": {
      "text/html": [
       "<div>\n",
       "<style scoped>\n",
       "    .dataframe tbody tr th:only-of-type {\n",
       "        vertical-align: middle;\n",
       "    }\n",
       "\n",
       "    .dataframe tbody tr th {\n",
       "        vertical-align: top;\n",
       "    }\n",
       "\n",
       "    .dataframe thead th {\n",
       "        text-align: right;\n",
       "    }\n",
       "</style>\n",
       "<table border=\"1\" class=\"dataframe\">\n",
       "  <thead>\n",
       "    <tr style=\"text-align: right;\">\n",
       "      <th></th>\n",
       "      <th>Total sales</th>\n",
       "      <th>Average</th>\n",
       "      <th>Max Sales</th>\n",
       "    </tr>\n",
       "  </thead>\n",
       "  <tbody>\n",
       "    <tr>\n",
       "      <th>1</th>\n",
       "      <td>665</td>\n",
       "      <td>110.833333</td>\n",
       "      <td>227</td>\n",
       "    </tr>\n",
       "  </tbody>\n",
       "</table>\n",
       "</div>"
      ],
      "text/plain": [
       "   Total sales     Average  Max Sales\n",
       "1          665  110.833333        227"
      ]
     },
     "execution_count": 58,
     "metadata": {},
     "output_type": "execute_result"
    }
   ],
   "source": [
    "analytics = pandas.DataFrame({'Total sales':dt['Sales'].sum(),'Average':dt['Sales'].mean(),'Max Sales':dt['Sales'].max()}, index = [1])\n",
    "analytics"
   ]
  },
  {
   "cell_type": "code",
   "execution_count": 59,
   "id": "1c7058af-de1c-48d9-871b-b8c6868bbf72",
   "metadata": {},
   "outputs": [
    {
     "data": {
      "text/html": [
       "<div>\n",
       "<style scoped>\n",
       "    .dataframe tbody tr th:only-of-type {\n",
       "        vertical-align: middle;\n",
       "    }\n",
       "\n",
       "    .dataframe tbody tr th {\n",
       "        vertical-align: top;\n",
       "    }\n",
       "\n",
       "    .dataframe thead th {\n",
       "        text-align: right;\n",
       "    }\n",
       "</style>\n",
       "<table border=\"1\" class=\"dataframe\">\n",
       "  <thead>\n",
       "    <tr style=\"text-align: right;\">\n",
       "      <th></th>\n",
       "      <th>ID</th>\n",
       "      <th>Price</th>\n",
       "      <th>Sales</th>\n",
       "    </tr>\n",
       "  </thead>\n",
       "  <tbody>\n",
       "    <tr>\n",
       "      <th>count</th>\n",
       "      <td>6.000000</td>\n",
       "      <td>6.000000</td>\n",
       "      <td>6.000000</td>\n",
       "    </tr>\n",
       "    <tr>\n",
       "      <th>mean</th>\n",
       "      <td>103.500000</td>\n",
       "      <td>10.966667</td>\n",
       "      <td>110.833333</td>\n",
       "    </tr>\n",
       "    <tr>\n",
       "      <th>std</th>\n",
       "      <td>1.870829</td>\n",
       "      <td>12.206870</td>\n",
       "      <td>74.472590</td>\n",
       "    </tr>\n",
       "    <tr>\n",
       "      <th>min</th>\n",
       "      <td>101.000000</td>\n",
       "      <td>1.750000</td>\n",
       "      <td>24.000000</td>\n",
       "    </tr>\n",
       "    <tr>\n",
       "      <th>25%</th>\n",
       "      <td>102.250000</td>\n",
       "      <td>4.925000</td>\n",
       "      <td>58.750000</td>\n",
       "    </tr>\n",
       "    <tr>\n",
       "      <th>50%</th>\n",
       "      <td>103.500000</td>\n",
       "      <td>6.125000</td>\n",
       "      <td>103.000000</td>\n",
       "    </tr>\n",
       "    <tr>\n",
       "      <th>75%</th>\n",
       "      <td>104.750000</td>\n",
       "      <td>10.812500</td>\n",
       "      <td>148.750000</td>\n",
       "    </tr>\n",
       "    <tr>\n",
       "      <th>max</th>\n",
       "      <td>106.000000</td>\n",
       "      <td>34.900000</td>\n",
       "      <td>227.000000</td>\n",
       "    </tr>\n",
       "  </tbody>\n",
       "</table>\n",
       "</div>"
      ],
      "text/plain": [
       "               ID      Price       Sales\n",
       "count    6.000000   6.000000    6.000000\n",
       "mean   103.500000  10.966667  110.833333\n",
       "std      1.870829  12.206870   74.472590\n",
       "min    101.000000   1.750000   24.000000\n",
       "25%    102.250000   4.925000   58.750000\n",
       "50%    103.500000   6.125000  103.000000\n",
       "75%    104.750000  10.812500  148.750000\n",
       "max    106.000000  34.900000  227.000000"
      ]
     },
     "execution_count": 59,
     "metadata": {},
     "output_type": "execute_result"
    }
   ],
   "source": [
    "dt.describe()"
   ]
  },
  {
   "cell_type": "code",
   "execution_count": 61,
   "id": "09a026d9-46d7-45aa-b60b-9cbddeb6fdbf",
   "metadata": {},
   "outputs": [
    {
     "data": {
      "text/plain": [
       "<AxesSubplot:>"
      ]
     },
     "execution_count": 61,
     "metadata": {},
     "output_type": "execute_result"
    },
    {
     "data": {
      "image/png": "[encoded data removed]",
      "text/plain": [
       "<Figure size 432x288 with 1 Axes>"
      ]
     },
     "metadata": {
      "needs_background": "light"
     },
     "output_type": "display_data"
    }
   ],
   "source": [
    "dt.plot()"
   ]
  },
  {
   "cell_type": "code",
   "execution_count": 62,
   "id": "d51bda3d-ad46-48d5-a6f8-6330682f0b51",
   "metadata": {},
   "outputs": [
    {
     "data": {
      "text/plain": [
       "<AxesSubplot:>"
      ]
     },
     "execution_count": 62,
     "metadata": {},
     "output_type": "execute_result"
    },
    {
     "data": {
      "image/png": "[encoded data removed]",
      "text/plain": [
       "<Figure size 432x288 with 1 Axes>"
      ]
     },
     "metadata": {
      "needs_background": "light"
     },
     "output_type": "display_data"
    }
   ],
   "source": [
    "dt['Sales'].plot()"
   ]
  },
  {
   "cell_type": "code",
   "execution_count": 64,
   "id": "9ef8b9cd-7587-4c32-943d-37669c954b0d",
   "metadata": {},
   "outputs": [
    {
     "data": {
      "text/plain": [
       "<AxesSubplot:>"
      ]
     },
     "execution_count": 64,
     "metadata": {},
     "output_type": "execute_result"
    },
    {
     "data": {
      "image/png": "[encoded data removed]",
      "text/plain": [
       "<Figure size 432x288 with 1 Axes>"
      ]
     },
     "metadata": {
      "needs_background": "light"
     },
     "output_type": "display_data"
    }
   ],
   "source": [
    "dt['Sales'].plot.bar()"
   ]
  },
  {
   "cell_type": "code",
   "execution_count": 65,
   "id": "83c885c0-9b55-42dd-a568-d36156ac9325",
   "metadata": {},
   "outputs": [
    {
     "data": {
      "text/plain": [
       "<AxesSubplot:>"
      ]
     },
     "execution_count": 65,
     "metadata": {},
     "output_type": "execute_result"
    },
    {
     "data": {
      "image/png": "[encoded data removed]",
      "text/plain": [
       "<Figure size 432x288 with 1 Axes>"
      ]
     },
     "metadata": {
      "needs_background": "light"
     },
     "output_type": "display_data"
    }
   ],
   "source": [
    "dt.plot.bar()"
   ]
  },
  {
   "cell_type": "code",
   "execution_count": 66,
   "id": "d5d4e199-4b2a-4711-89fd-d465b4950b1f",
   "metadata": {},
   "outputs": [
    {
     "data": {
      "text/plain": [
       "<AxesSubplot:>"
      ]
     },
     "execution_count": 66,
     "metadata": {},
     "output_type": "execute_result"
    },
    {
     "data": {
      "image/png": "[encoded data removed]",
      "text/plain": [
       "<Figure size 432x288 with 1 Axes>"
      ]
     },
     "metadata": {
      "needs_background": "light"
     },
     "output_type": "display_data"
    }
   ],
   "source": [
    "dt.plot.barh()"
   ]
  },
  {
   "cell_type": "code",
   "execution_count": 74,
   "id": "55f4f809-6cd7-4d74-a81c-b0eadd4e2f8d",
   "metadata": {},
   "outputs": [
    {
     "data": {
      "text/html": [
       "<div>\n",
       "<style scoped>\n",
       "    .dataframe tbody tr th:only-of-type {\n",
       "        vertical-align: middle;\n",
       "    }\n",
       "\n",
       "    .dataframe tbody tr th {\n",
       "        vertical-align: top;\n",
       "    }\n",
       "\n",
       "    .dataframe thead th {\n",
       "        text-align: right;\n",
       "    }\n",
       "</style>\n",
       "<table border=\"1\" class=\"dataframe\">\n",
       "  <thead>\n",
       "    <tr style=\"text-align: right;\">\n",
       "      <th></th>\n",
       "      <th>ID</th>\n",
       "      <th>Name</th>\n",
       "      <th>Price</th>\n",
       "      <th>Sales</th>\n",
       "      <th>Brand</th>\n",
       "    </tr>\n",
       "  </thead>\n",
       "  <tbody>\n",
       "    <tr>\n",
       "      <th>0</th>\n",
       "      <td>101</td>\n",
       "      <td>biscuits</td>\n",
       "      <td>5.00</td>\n",
       "      <td>227</td>\n",
       "      <td>HomeFoods</td>\n",
       "    </tr>\n",
       "    <tr>\n",
       "      <th>1</th>\n",
       "      <td>102</td>\n",
       "      <td>cookies</td>\n",
       "      <td>7.25</td>\n",
       "      <td>158</td>\n",
       "      <td>TBakery</td>\n",
       "    </tr>\n",
       "    <tr>\n",
       "      <th>2</th>\n",
       "      <td>103</td>\n",
       "      <td>cake</td>\n",
       "      <td>12.00</td>\n",
       "      <td>50</td>\n",
       "      <td>TBakery</td>\n",
       "    </tr>\n",
       "    <tr>\n",
       "      <th>3</th>\n",
       "      <td>104</td>\n",
       "      <td>whey_supplement</td>\n",
       "      <td>34.90</td>\n",
       "      <td>24</td>\n",
       "      <td>MusleUp</td>\n",
       "    </tr>\n",
       "    <tr>\n",
       "      <th>4</th>\n",
       "      <td>105</td>\n",
       "      <td>protein_bars</td>\n",
       "      <td>4.90</td>\n",
       "      <td>85</td>\n",
       "      <td>MusleUp</td>\n",
       "    </tr>\n",
       "    <tr>\n",
       "      <th>5</th>\n",
       "      <td>106</td>\n",
       "      <td>potato_chips</td>\n",
       "      <td>1.75</td>\n",
       "      <td>121</td>\n",
       "      <td>HomeFoods</td>\n",
       "    </tr>\n",
       "  </tbody>\n",
       "</table>\n",
       "</div>"
      ],
      "text/plain": [
       "    ID             Name  Price  Sales      Brand\n",
       "0  101         biscuits   5.00    227  HomeFoods\n",
       "1  102          cookies   7.25    158    TBakery\n",
       "2  103             cake  12.00     50    TBakery\n",
       "3  104  whey_supplement  34.90     24    MusleUp\n",
       "4  105     protein_bars   4.90     85    MusleUp\n",
       "5  106     potato_chips   1.75    121  HomeFoods"
      ]
     },
     "execution_count": 74,
     "metadata": {},
     "output_type": "execute_result"
    }
   ],
   "source": [
    "import pandas\n",
    "data_dir = 'csv_data.csv'\n",
    "dt = pandas.read_csv(data_dir, names = ['ID','Name','Price','Sales','Brand'],skiprows = 1)\n",
    "dt"
   ]
  },
  {
   "cell_type": "code",
   "execution_count": 79,
   "id": "684d2ae3-6cc7-429f-9aaa-99e8dc77e5ff",
   "metadata": {},
   "outputs": [
    {
     "data": {
      "text/plain": [
       "[<matplotlib.lines.Line2D at 0x7f8427d52ee0>]"
      ]
     },
     "execution_count": 79,
     "metadata": {},
     "output_type": "execute_result"
    },
    {
     "data": {
      "image/png": "[encoded data removed]",
      "text/plain": [
       "<Figure size 432x288 with 1 Axes>"
      ]
     },
     "metadata": {
      "needs_background": "light"
     },
     "output_type": "display_data"
    }
   ],
   "source": [
    "from matplotlib import pyplot\n",
    "pyplot.plot(dt['ID'],dt['Sales'],'y')"
   ]
  },
  {
   "cell_type": "code",
   "execution_count": 81,
   "id": "47891ad3-010a-43c3-8f9f-589fd4e33141",
   "metadata": {},
   "outputs": [
    {
     "data": {
      "text/plain": [
       "[<matplotlib.lines.Line2D at 0x7f8427f57a90>]"
      ]
     },
     "execution_count": 81,
     "metadata": {},
     "output_type": "execute_result"
    },
    {
     "data": {
      "image/png": "[encoded data removed]",
      "text/plain": [
       "<Figure size 432x288 with 1 Axes>"
      ]
     },
     "metadata": {
      "needs_background": "light"
     },
     "output_type": "display_data"
    }
   ],
   "source": [
    "from matplotlib import pyplot\n",
    "pyplot.plot(dt['ID'],dt['Sales'],'--c')"
   ]
  },
  {
   "cell_type": "code",
   "execution_count": 85,
   "id": "b20d7f38-148a-4e78-941c-c088a5dec1f9",
   "metadata": {},
   "outputs": [
    {
     "data": {
      "text/plain": [
       "Text(0, 0.5, 'Sales')"
      ]
     },
     "execution_count": 85,
     "metadata": {},
     "output_type": "execute_result"
    },
    {
     "data": {
      "image/png": "[encoded data removed]",
      "text/plain": [
       "<Figure size 432x288 with 1 Axes>"
      ]
     },
     "metadata": {
      "needs_background": "light"
     },
     "output_type": "display_data"
    }
   ],
   "source": [
    "from matplotlib import pyplot\n",
    "pyplot.plot(dt['ID'],dt['Sales'],'.g',markersize=25)\n",
    "pyplot.title('Sales Info')\n",
    "pyplot.xlabel('Product ID')\n",
    "pyplot.ylabel('Sales')"
   ]
  },
  {
   "cell_type": "code",
   "execution_count": 87,
   "id": "027e66b3-e1cf-4266-ab20-c2bd2419c7da",
   "metadata": {},
   "outputs": [
    {
     "data": {
      "text/plain": [
       "<BarContainer object of 6 artists>"
      ]
     },
     "execution_count": 87,
     "metadata": {},
     "output_type": "execute_result"
    },
    {
     "data": {
      "image/png": "[encoded data removed]",
      "text/plain": [
       "<Figure size 432x288 with 1 Axes>"
      ]
     },
     "metadata": {
      "needs_background": "light"
     },
     "output_type": "display_data"
    }
   ],
   "source": [
    "from matplotlib import pyplot\n",
    "pyplot.bar(dt['ID'],dt['Sales'])"
   ]
  },
  {
   "cell_type": "code",
   "execution_count": 94,
   "id": "cd4d3ff6-3999-495d-907a-c34e5f15f080",
   "metadata": {},
   "outputs": [
    {
     "data": {
      "text/plain": [
       "<matplotlib.collections.PathCollection at 0x7f8429db25e0>"
      ]
     },
     "execution_count": 94,
     "metadata": {},
     "output_type": "execute_result"
    },
    {
     "data": {
      "image/png": "[encoded data removed]",
      "text/plain": [
       "<Figure size 432x288 with 1 Axes>"
      ]
     },
     "metadata": {
      "needs_background": "light"
     },
     "output_type": "display_data"
    }
   ],
   "source": [
    "from matplotlib import pyplot\n",
    "pyplot.scatter(dt['ID'],dt['Sales'],linewidth=20, color='green')"
   ]
  },
  {
   "cell_type": "code",
   "execution_count": 102,
   "id": "bd795d44-f9dd-4dff-9127-8b0b0a8ca7c4",
   "metadata": {},
   "outputs": [
    {
     "data": {
      "text/plain": [
       "110.83333333333333"
      ]
     },
     "execution_count": 102,
     "metadata": {},
     "output_type": "execute_result"
    }
   ],
   "source": [
    "avg = dt['Sales'].mean()\n",
    "avg"
   ]
  },
  {
   "cell_type": "code",
   "execution_count": 96,
   "id": "6cf43e8a-48ab-448f-bb6f-ce9cf11717b5",
   "metadata": {},
   "outputs": [
    {
     "data": {
      "text/plain": [
       "<BarContainer object of 6 artists>"
      ]
     },
     "execution_count": 96,
     "metadata": {},
     "output_type": "execute_result"
    },
    {
     "data": {
      "image/png": "[encoded data removed]",
      "text/plain": [
       "<Figure size 432x288 with 1 Axes>"
      ]
     },
     "metadata": {
      "needs_background": "light"
     },
     "output_type": "display_data"
    }
   ],
   "source": [
    "from matplotlib import pyplot\n",
    "pyplot.barh(dt['ID'],dt['Sales'])\n",
    "pyplot.barh(dt['ID'],dt['Price'])\n",
    "pyplot.barh(dt['ID'],dt['Brand'])"
   ]
  },
  {
   "cell_type": "code",
   "execution_count": 110,
   "id": "ec122336-9aec-4b58-8a25-4014c39f38c6",
   "metadata": {},
   "outputs": [
    {
     "data": {
      "text/plain": [
       "<matplotlib.legend.Legend at 0x7f842a824580>"
      ]
     },
     "execution_count": 110,
     "metadata": {},
     "output_type": "execute_result"
    },
    {
     "data": {
      "image/png": "[encoded data removed]",
      "text/plain": [
       "<Figure size 432x288 with 1 Axes>"
      ]
     },
     "metadata": {
      "needs_background": "light"
     },
     "output_type": "display_data"
    }
   ],
   "source": [
    "from matplotlib import pyplot\n",
    "pyplot.barh(dt['ID'],dt['Sales'],label = 'Actual Sales')\n",
    "pyplot.barh(dt['ID'],[83.125,83.125,83.125,83.125,83.125,83.125],label='Avg Sales')\n",
    "pyplot.legend()"
   ]
  },
  {
   "cell_type": "code",
   "execution_count": 117,
   "id": "c73490d8-17ff-406f-a4a9-52be5c04432c",
   "metadata": {},
   "outputs": [
    {
     "data": {
      "text/plain": [
       "([<matplotlib.patches.Wedge at 0x7f842a0434c0>,\n",
       "  <matplotlib.patches.Wedge at 0x7f842a043a30>,\n",
       "  <matplotlib.patches.Wedge at 0x7f842a043f10>,\n",
       "  <matplotlib.patches.Wedge at 0x7f842a039430>,\n",
       "  <matplotlib.patches.Wedge at 0x7f842a039910>,\n",
       "  <matplotlib.patches.Wedge at 0x7f842a039cd0>],\n",
       " [Text(0.525825805193162, 0.9661817751297958, 'biscuits'),\n",
       "  Text(-1.0656994710094818, 0.27255208216065985, 'cookies'),\n",
       "  Text(-0.8180386137969132, -0.7353997731419456, 'cake'),\n",
       "  Text(-0.5166736526766351, -0.9711067586160566, 'whey_supplement'),\n",
       "  Text(0.02857815404639539, -1.0996287051142766, 'protein_bars'),\n",
       "  Text(0.925123385157397, -0.5951022788016515, 'potato_chips')])"
      ]
     },
     "execution_count": 117,
     "metadata": {},
     "output_type": "execute_result"
    },
    {
     "data": {
      "image/png": "[encoded data removed]",
      "text/plain": [
       "<Figure size 432x288 with 1 Axes>"
      ]
     },
     "metadata": {},
     "output_type": "display_data"
    }
   ],
   "source": [
    "from matplotlib import pyplot\n",
    "\n",
    "pyplot.pie(dt['Sales'],labels=dt['Name'])\n"
   ]
  },
  {
   "cell_type": "code",
   "execution_count": 119,
   "id": "93fd6fa7-0a5c-467c-b1bc-72b2afc5beff",
   "metadata": {},
   "outputs": [
    {
     "data": {
      "text/plain": [
       "<matplotlib.legend.Legend at 0x7f8429f063d0>"
      ]
     },
     "execution_count": 119,
     "metadata": {},
     "output_type": "execute_result"
    },
    {
     "data": {
      "image/png": "[encoded data removed]",
      "text/plain": [
       "<Figure size 432x288 with 1 Axes>"
      ]
     },
     "metadata": {},
     "output_type": "display_data"
    }
   ],
   "source": [
    "from matplotlib import pyplot\n",
    "\n",
    "pyplot.pie(dt['Sales'],labels=dt['Name'],radius = 2)\n",
    "pyplot.legend()"
   ]
  },
  {
   "cell_type": "code",
   "execution_count": 120,
   "id": "8533090f-9a78-48fc-8a5e-59c7ad8df4a0",
   "metadata": {},
   "outputs": [
    {
     "name": "stdout",
     "output_type": "stream",
     "text": [
      "           ProductA  ProductB  ProductC  ProductE  ProductF\n",
      "Monday           27        56        32        21        44\n",
      "Tuesday          15        51        22        40        32\n",
      "Wednesday        34        41        19        17        25\n",
      "Thursday         22        55        37        26        25\n",
      "Friday           27        49        32        31        44\n",
      "Saturday         13        56        54        33        40\n",
      "Sunday           21        44        31        29        38\n"
     ]
    }
   ],
   "source": [
    "import pandas\n",
    "import numpy\n",
    "ar = numpy.array([[27,56,32,21,44],\n",
    "[15,51,22,40,32],\n",
    "[34,41,19,17,25],\n",
    "[22,55,37,26,25],\n",
    "[27,49,32,31,44],\n",
    "[13,56,54,33,40],\n",
    "[21,44,31,29,38]],ndmin=2)\n",
    "sales = pandas.DataFrame(ar,\n",
    "columns=['ProductA','ProductB',\n",
    "'ProductC',\n",
    "'ProductE',\n",
    "'ProductF'],\n",
    "index=['Monday','Tuesday','Wednesday','Thursday','Friday','Saturday','Sunday']                       \n",
    ")\n",
    "print(sales)"
   ]
  },
  {
   "cell_type": "code",
   "execution_count": 125,
   "id": "06fcecd3-6655-4baa-a45a-5c5ec290c4db",
   "metadata": {},
   "outputs": [
    {
     "data": {
      "text/plain": [
       "<matplotlib.legend.Legend at 0x7f8427166a00>"
      ]
     },
     "execution_count": 125,
     "metadata": {},
     "output_type": "execute_result"
    },
    {
     "data": {
      "image/png": "[encoded data removed]",
      "text/plain": [
       "<Figure size 432x288 with 1 Axes>"
      ]
     },
     "metadata": {},
     "output_type": "display_data"
    }
   ],
   "source": [
    "from matplotlib import pyplot\n",
    "pyplot.pie(sales['ProductA'],labels=['Mon','Tue','Wed','Thur','Fri','Sat','Sun'],radius=3)\n",
    "pyplot.legend()"
   ]
  },
  {
   "cell_type": "code",
   "execution_count": 5,
   "id": "de00ff51-84c0-40b1-8961-c5f34d91eb06",
   "metadata": {},
   "outputs": [
    {
     "data": {
      "text/html": [
       "<div>\n",
       "<style scoped>\n",
       "    .dataframe tbody tr th:only-of-type {\n",
       "        vertical-align: middle;\n",
       "    }\n",
       "\n",
       "    .dataframe tbody tr th {\n",
       "        vertical-align: top;\n",
       "    }\n",
       "\n",
       "    .dataframe thead th {\n",
       "        text-align: right;\n",
       "    }\n",
       "</style>\n",
       "<table border=\"1\" class=\"dataframe\">\n",
       "  <thead>\n",
       "    <tr style=\"text-align: right;\">\n",
       "      <th></th>\n",
       "      <th>I</th>\n",
       "      <th>Girth</th>\n",
       "      <th>Height</th>\n",
       "      <th>Volume</th>\n",
       "    </tr>\n",
       "  </thead>\n",
       "  <tbody>\n",
       "    <tr>\n",
       "      <th>0</th>\n",
       "      <td>Index</td>\n",
       "      <td>\"Girth (in)\"</td>\n",
       "      <td>\"Height (ft)\"</td>\n",
       "      <td>\"Volume(ft^3)\"</td>\n",
       "    </tr>\n",
       "    <tr>\n",
       "      <th>1</th>\n",
       "      <td>1</td>\n",
       "      <td>8.3</td>\n",
       "      <td>70</td>\n",
       "      <td>10.3</td>\n",
       "    </tr>\n",
       "    <tr>\n",
       "      <th>2</th>\n",
       "      <td>2</td>\n",
       "      <td>8.6</td>\n",
       "      <td>65</td>\n",
       "      <td>10.3</td>\n",
       "    </tr>\n",
       "    <tr>\n",
       "      <th>3</th>\n",
       "      <td>3</td>\n",
       "      <td>8.8</td>\n",
       "      <td>63</td>\n",
       "      <td>10.2</td>\n",
       "    </tr>\n",
       "    <tr>\n",
       "      <th>4</th>\n",
       "      <td>4</td>\n",
       "      <td>10.5</td>\n",
       "      <td>72</td>\n",
       "      <td>16.4</td>\n",
       "    </tr>\n",
       "    <tr>\n",
       "      <th>5</th>\n",
       "      <td>5</td>\n",
       "      <td>10.7</td>\n",
       "      <td>81</td>\n",
       "      <td>18.8</td>\n",
       "    </tr>\n",
       "    <tr>\n",
       "      <th>6</th>\n",
       "      <td>6</td>\n",
       "      <td>10.8</td>\n",
       "      <td>83</td>\n",
       "      <td>19.7</td>\n",
       "    </tr>\n",
       "    <tr>\n",
       "      <th>7</th>\n",
       "      <td>7</td>\n",
       "      <td>11.0</td>\n",
       "      <td>66</td>\n",
       "      <td>15.6</td>\n",
       "    </tr>\n",
       "    <tr>\n",
       "      <th>8</th>\n",
       "      <td>8</td>\n",
       "      <td>11.0</td>\n",
       "      <td>75</td>\n",
       "      <td>18.2</td>\n",
       "    </tr>\n",
       "    <tr>\n",
       "      <th>9</th>\n",
       "      <td>9</td>\n",
       "      <td>11.1</td>\n",
       "      <td>80</td>\n",
       "      <td>22.6</td>\n",
       "    </tr>\n",
       "    <tr>\n",
       "      <th>10</th>\n",
       "      <td>10</td>\n",
       "      <td>11.2</td>\n",
       "      <td>75</td>\n",
       "      <td>19.9</td>\n",
       "    </tr>\n",
       "    <tr>\n",
       "      <th>11</th>\n",
       "      <td>11</td>\n",
       "      <td>11.3</td>\n",
       "      <td>79</td>\n",
       "      <td>24.2</td>\n",
       "    </tr>\n",
       "    <tr>\n",
       "      <th>12</th>\n",
       "      <td>12</td>\n",
       "      <td>11.4</td>\n",
       "      <td>76</td>\n",
       "      <td>21.0</td>\n",
       "    </tr>\n",
       "    <tr>\n",
       "      <th>13</th>\n",
       "      <td>13</td>\n",
       "      <td>11.4</td>\n",
       "      <td>76</td>\n",
       "      <td>21.4</td>\n",
       "    </tr>\n",
       "    <tr>\n",
       "      <th>14</th>\n",
       "      <td>14</td>\n",
       "      <td>11.7</td>\n",
       "      <td>69</td>\n",
       "      <td>21.3</td>\n",
       "    </tr>\n",
       "    <tr>\n",
       "      <th>15</th>\n",
       "      <td>15</td>\n",
       "      <td>12.0</td>\n",
       "      <td>75</td>\n",
       "      <td>19.1</td>\n",
       "    </tr>\n",
       "    <tr>\n",
       "      <th>16</th>\n",
       "      <td>16</td>\n",
       "      <td>12.9</td>\n",
       "      <td>74</td>\n",
       "      <td>22.2</td>\n",
       "    </tr>\n",
       "    <tr>\n",
       "      <th>17</th>\n",
       "      <td>17</td>\n",
       "      <td>12.9</td>\n",
       "      <td>85</td>\n",
       "      <td>33.8</td>\n",
       "    </tr>\n",
       "    <tr>\n",
       "      <th>18</th>\n",
       "      <td>18</td>\n",
       "      <td>13.3</td>\n",
       "      <td>86</td>\n",
       "      <td>27.4</td>\n",
       "    </tr>\n",
       "    <tr>\n",
       "      <th>19</th>\n",
       "      <td>19</td>\n",
       "      <td>13.7</td>\n",
       "      <td>71</td>\n",
       "      <td>25.7</td>\n",
       "    </tr>\n",
       "    <tr>\n",
       "      <th>20</th>\n",
       "      <td>20</td>\n",
       "      <td>13.8</td>\n",
       "      <td>64</td>\n",
       "      <td>24.9</td>\n",
       "    </tr>\n",
       "    <tr>\n",
       "      <th>21</th>\n",
       "      <td>21</td>\n",
       "      <td>14.0</td>\n",
       "      <td>78</td>\n",
       "      <td>34.5</td>\n",
       "    </tr>\n",
       "    <tr>\n",
       "      <th>22</th>\n",
       "      <td>22</td>\n",
       "      <td>14.2</td>\n",
       "      <td>80</td>\n",
       "      <td>31.7</td>\n",
       "    </tr>\n",
       "    <tr>\n",
       "      <th>23</th>\n",
       "      <td>23</td>\n",
       "      <td>14.5</td>\n",
       "      <td>74</td>\n",
       "      <td>36.3</td>\n",
       "    </tr>\n",
       "    <tr>\n",
       "      <th>24</th>\n",
       "      <td>24</td>\n",
       "      <td>16.0</td>\n",
       "      <td>72</td>\n",
       "      <td>38.3</td>\n",
       "    </tr>\n",
       "    <tr>\n",
       "      <th>25</th>\n",
       "      <td>25</td>\n",
       "      <td>16.3</td>\n",
       "      <td>77</td>\n",
       "      <td>42.6</td>\n",
       "    </tr>\n",
       "    <tr>\n",
       "      <th>26</th>\n",
       "      <td>26</td>\n",
       "      <td>17.3</td>\n",
       "      <td>81</td>\n",
       "      <td>55.4</td>\n",
       "    </tr>\n",
       "    <tr>\n",
       "      <th>27</th>\n",
       "      <td>27</td>\n",
       "      <td>17.5</td>\n",
       "      <td>82</td>\n",
       "      <td>55.7</td>\n",
       "    </tr>\n",
       "    <tr>\n",
       "      <th>28</th>\n",
       "      <td>28</td>\n",
       "      <td>17.9</td>\n",
       "      <td>80</td>\n",
       "      <td>58.3</td>\n",
       "    </tr>\n",
       "    <tr>\n",
       "      <th>29</th>\n",
       "      <td>29</td>\n",
       "      <td>18.0</td>\n",
       "      <td>80</td>\n",
       "      <td>51.5</td>\n",
       "    </tr>\n",
       "    <tr>\n",
       "      <th>30</th>\n",
       "      <td>30</td>\n",
       "      <td>18.0</td>\n",
       "      <td>80</td>\n",
       "      <td>51.0</td>\n",
       "    </tr>\n",
       "    <tr>\n",
       "      <th>31</th>\n",
       "      <td>31</td>\n",
       "      <td>20.6</td>\n",
       "      <td>87</td>\n",
       "      <td>77.0</td>\n",
       "    </tr>\n",
       "  </tbody>\n",
       "</table>\n",
       "</div>"
      ],
      "text/plain": [
       "        I          Girth          Height           Volume\n",
       "0   Index   \"Girth (in)\"   \"Height (ft)\"   \"Volume(ft^3)\"\n",
       "1       1            8.3              70             10.3\n",
       "2       2            8.6              65             10.3\n",
       "3       3            8.8              63             10.2\n",
       "4       4           10.5              72             16.4\n",
       "5       5           10.7              81             18.8\n",
       "6       6           10.8              83             19.7\n",
       "7       7           11.0              66             15.6\n",
       "8       8           11.0              75             18.2\n",
       "9       9           11.1              80             22.6\n",
       "10     10           11.2              75             19.9\n",
       "11     11           11.3              79             24.2\n",
       "12     12           11.4              76             21.0\n",
       "13     13           11.4              76             21.4\n",
       "14     14           11.7              69             21.3\n",
       "15     15           12.0              75             19.1\n",
       "16     16           12.9              74             22.2\n",
       "17     17           12.9              85             33.8\n",
       "18     18           13.3              86             27.4\n",
       "19     19           13.7              71             25.7\n",
       "20     20           13.8              64             24.9\n",
       "21     21           14.0              78             34.5\n",
       "22     22           14.2              80             31.7\n",
       "23     23           14.5              74             36.3\n",
       "24     24           16.0              72             38.3\n",
       "25     25           16.3              77             42.6\n",
       "26     26           17.3              81             55.4\n",
       "27     27           17.5              82             55.7\n",
       "28     28           17.9              80             58.3\n",
       "29     29           18.0              80             51.5\n",
       "30     30           18.0              80             51.0\n",
       "31     31           20.6              87             77.0"
      ]
     },
     "execution_count": 5,
     "metadata": {},
     "output_type": "execute_result"
    }
   ],
   "source": [
    "import pandas\n",
    "person_data = pandas.read_csv('trees.csv', names = ['I','Girth','Height','Volume'])\n",
    "person_data"
   ]
  },
  {
   "cell_type": "code",
   "execution_count": 6,
   "id": "2b4f0d0d-e3ac-4ac8-af88-3cebc37a48d3",
   "metadata": {},
   "outputs": [
    {
     "data": {
      "text/html": [
       "<div>\n",
       "<style scoped>\n",
       "    .dataframe tbody tr th:only-of-type {\n",
       "        vertical-align: middle;\n",
       "    }\n",
       "\n",
       "    .dataframe tbody tr th {\n",
       "        vertical-align: top;\n",
       "    }\n",
       "\n",
       "    .dataframe thead th {\n",
       "        text-align: right;\n",
       "    }\n",
       "</style>\n",
       "<table border=\"1\" class=\"dataframe\">\n",
       "  <thead>\n",
       "    <tr style=\"text-align: right;\">\n",
       "      <th></th>\n",
       "      <th>Girth</th>\n",
       "      <th>Height</th>\n",
       "      <th>Volume</th>\n",
       "    </tr>\n",
       "  </thead>\n",
       "  <tbody>\n",
       "    <tr>\n",
       "      <th>1</th>\n",
       "      <td>8.3</td>\n",
       "      <td>70</td>\n",
       "      <td>10.3</td>\n",
       "    </tr>\n",
       "    <tr>\n",
       "      <th>2</th>\n",
       "      <td>8.6</td>\n",
       "      <td>65</td>\n",
       "      <td>10.3</td>\n",
       "    </tr>\n",
       "    <tr>\n",
       "      <th>3</th>\n",
       "      <td>8.8</td>\n",
       "      <td>63</td>\n",
       "      <td>10.2</td>\n",
       "    </tr>\n",
       "    <tr>\n",
       "      <th>4</th>\n",
       "      <td>10.5</td>\n",
       "      <td>72</td>\n",
       "      <td>16.4</td>\n",
       "    </tr>\n",
       "    <tr>\n",
       "      <th>5</th>\n",
       "      <td>10.7</td>\n",
       "      <td>81</td>\n",
       "      <td>18.8</td>\n",
       "    </tr>\n",
       "    <tr>\n",
       "      <th>6</th>\n",
       "      <td>10.8</td>\n",
       "      <td>83</td>\n",
       "      <td>19.7</td>\n",
       "    </tr>\n",
       "    <tr>\n",
       "      <th>7</th>\n",
       "      <td>11.0</td>\n",
       "      <td>66</td>\n",
       "      <td>15.6</td>\n",
       "    </tr>\n",
       "    <tr>\n",
       "      <th>8</th>\n",
       "      <td>11.0</td>\n",
       "      <td>75</td>\n",
       "      <td>18.2</td>\n",
       "    </tr>\n",
       "    <tr>\n",
       "      <th>9</th>\n",
       "      <td>11.1</td>\n",
       "      <td>80</td>\n",
       "      <td>22.6</td>\n",
       "    </tr>\n",
       "    <tr>\n",
       "      <th>10</th>\n",
       "      <td>11.2</td>\n",
       "      <td>75</td>\n",
       "      <td>19.9</td>\n",
       "    </tr>\n",
       "    <tr>\n",
       "      <th>11</th>\n",
       "      <td>11.3</td>\n",
       "      <td>79</td>\n",
       "      <td>24.2</td>\n",
       "    </tr>\n",
       "    <tr>\n",
       "      <th>12</th>\n",
       "      <td>11.4</td>\n",
       "      <td>76</td>\n",
       "      <td>21.0</td>\n",
       "    </tr>\n",
       "    <tr>\n",
       "      <th>13</th>\n",
       "      <td>11.4</td>\n",
       "      <td>76</td>\n",
       "      <td>21.4</td>\n",
       "    </tr>\n",
       "    <tr>\n",
       "      <th>14</th>\n",
       "      <td>11.7</td>\n",
       "      <td>69</td>\n",
       "      <td>21.3</td>\n",
       "    </tr>\n",
       "    <tr>\n",
       "      <th>15</th>\n",
       "      <td>12.0</td>\n",
       "      <td>75</td>\n",
       "      <td>19.1</td>\n",
       "    </tr>\n",
       "    <tr>\n",
       "      <th>16</th>\n",
       "      <td>12.9</td>\n",
       "      <td>74</td>\n",
       "      <td>22.2</td>\n",
       "    </tr>\n",
       "    <tr>\n",
       "      <th>17</th>\n",
       "      <td>12.9</td>\n",
       "      <td>85</td>\n",
       "      <td>33.8</td>\n",
       "    </tr>\n",
       "    <tr>\n",
       "      <th>18</th>\n",
       "      <td>13.3</td>\n",
       "      <td>86</td>\n",
       "      <td>27.4</td>\n",
       "    </tr>\n",
       "    <tr>\n",
       "      <th>19</th>\n",
       "      <td>13.7</td>\n",
       "      <td>71</td>\n",
       "      <td>25.7</td>\n",
       "    </tr>\n",
       "    <tr>\n",
       "      <th>20</th>\n",
       "      <td>13.8</td>\n",
       "      <td>64</td>\n",
       "      <td>24.9</td>\n",
       "    </tr>\n",
       "    <tr>\n",
       "      <th>21</th>\n",
       "      <td>14.0</td>\n",
       "      <td>78</td>\n",
       "      <td>34.5</td>\n",
       "    </tr>\n",
       "    <tr>\n",
       "      <th>22</th>\n",
       "      <td>14.2</td>\n",
       "      <td>80</td>\n",
       "      <td>31.7</td>\n",
       "    </tr>\n",
       "    <tr>\n",
       "      <th>23</th>\n",
       "      <td>14.5</td>\n",
       "      <td>74</td>\n",
       "      <td>36.3</td>\n",
       "    </tr>\n",
       "    <tr>\n",
       "      <th>24</th>\n",
       "      <td>16.0</td>\n",
       "      <td>72</td>\n",
       "      <td>38.3</td>\n",
       "    </tr>\n",
       "    <tr>\n",
       "      <th>25</th>\n",
       "      <td>16.3</td>\n",
       "      <td>77</td>\n",
       "      <td>42.6</td>\n",
       "    </tr>\n",
       "    <tr>\n",
       "      <th>26</th>\n",
       "      <td>17.3</td>\n",
       "      <td>81</td>\n",
       "      <td>55.4</td>\n",
       "    </tr>\n",
       "    <tr>\n",
       "      <th>27</th>\n",
       "      <td>17.5</td>\n",
       "      <td>82</td>\n",
       "      <td>55.7</td>\n",
       "    </tr>\n",
       "    <tr>\n",
       "      <th>28</th>\n",
       "      <td>17.9</td>\n",
       "      <td>80</td>\n",
       "      <td>58.3</td>\n",
       "    </tr>\n",
       "    <tr>\n",
       "      <th>29</th>\n",
       "      <td>18.0</td>\n",
       "      <td>80</td>\n",
       "      <td>51.5</td>\n",
       "    </tr>\n",
       "    <tr>\n",
       "      <th>30</th>\n",
       "      <td>18.0</td>\n",
       "      <td>80</td>\n",
       "      <td>51.0</td>\n",
       "    </tr>\n",
       "    <tr>\n",
       "      <th>31</th>\n",
       "      <td>20.6</td>\n",
       "      <td>87</td>\n",
       "      <td>77.0</td>\n",
       "    </tr>\n",
       "  </tbody>\n",
       "</table>\n",
       "</div>"
      ],
      "text/plain": [
       "     Girth   Height   Volume\n",
       "1      8.3       70     10.3\n",
       "2      8.6       65     10.3\n",
       "3      8.8       63     10.2\n",
       "4     10.5       72     16.4\n",
       "5     10.7       81     18.8\n",
       "6     10.8       83     19.7\n",
       "7     11.0       66     15.6\n",
       "8     11.0       75     18.2\n",
       "9     11.1       80     22.6\n",
       "10    11.2       75     19.9\n",
       "11    11.3       79     24.2\n",
       "12    11.4       76     21.0\n",
       "13    11.4       76     21.4\n",
       "14    11.7       69     21.3\n",
       "15    12.0       75     19.1\n",
       "16    12.9       74     22.2\n",
       "17    12.9       85     33.8\n",
       "18    13.3       86     27.4\n",
       "19    13.7       71     25.7\n",
       "20    13.8       64     24.9\n",
       "21    14.0       78     34.5\n",
       "22    14.2       80     31.7\n",
       "23    14.5       74     36.3\n",
       "24    16.0       72     38.3\n",
       "25    16.3       77     42.6\n",
       "26    17.3       81     55.4\n",
       "27    17.5       82     55.7\n",
       "28    17.9       80     58.3\n",
       "29    18.0       80     51.5\n",
       "30    18.0       80     51.0\n",
       "31    20.6       87     77.0"
      ]
     },
     "execution_count": 6,
     "metadata": {},
     "output_type": "execute_result"
    }
   ],
   "source": [
    "import pandas\n",
    "person_data = pandas.read_csv('trees.csv', names = ['I','Girth','Height','Volume'])\n",
    "\n",
    "del person_data['I']\n",
    "person_data.drop(0,inplace=True)\n",
    "person_data"
   ]
  },
  {
   "cell_type": "code",
   "execution_count": 7,
   "id": "49982f00-5ea1-4437-b9ec-6195f8b279ac",
   "metadata": {},
   "outputs": [
    {
     "data": {
      "text/html": [
       "<div>\n",
       "<style scoped>\n",
       "    .dataframe tbody tr th:only-of-type {\n",
       "        vertical-align: middle;\n",
       "    }\n",
       "\n",
       "    .dataframe tbody tr th {\n",
       "        vertical-align: top;\n",
       "    }\n",
       "\n",
       "    .dataframe thead th {\n",
       "        text-align: right;\n",
       "    }\n",
       "</style>\n",
       "<table border=\"1\" class=\"dataframe\">\n",
       "  <thead>\n",
       "    <tr style=\"text-align: right;\">\n",
       "      <th></th>\n",
       "      <th>Girth</th>\n",
       "      <th>Height</th>\n",
       "      <th>Volume</th>\n",
       "    </tr>\n",
       "  </thead>\n",
       "  <tbody>\n",
       "    <tr>\n",
       "      <th>1</th>\n",
       "      <td>0.005966</td>\n",
       "      <td>21.350</td>\n",
       "      <td>10.3</td>\n",
       "    </tr>\n",
       "    <tr>\n",
       "      <th>2</th>\n",
       "      <td>0.006182</td>\n",
       "      <td>19.825</td>\n",
       "      <td>10.3</td>\n",
       "    </tr>\n",
       "    <tr>\n",
       "      <th>3</th>\n",
       "      <td>0.006326</td>\n",
       "      <td>19.215</td>\n",
       "      <td>10.2</td>\n",
       "    </tr>\n",
       "    <tr>\n",
       "      <th>4</th>\n",
       "      <td>0.007548</td>\n",
       "      <td>21.960</td>\n",
       "      <td>16.4</td>\n",
       "    </tr>\n",
       "    <tr>\n",
       "      <th>5</th>\n",
       "      <td>0.007691</td>\n",
       "      <td>24.705</td>\n",
       "      <td>18.8</td>\n",
       "    </tr>\n",
       "    <tr>\n",
       "      <th>6</th>\n",
       "      <td>0.007763</td>\n",
       "      <td>25.315</td>\n",
       "      <td>19.7</td>\n",
       "    </tr>\n",
       "    <tr>\n",
       "      <th>7</th>\n",
       "      <td>0.007907</td>\n",
       "      <td>20.130</td>\n",
       "      <td>15.6</td>\n",
       "    </tr>\n",
       "    <tr>\n",
       "      <th>8</th>\n",
       "      <td>0.007907</td>\n",
       "      <td>22.875</td>\n",
       "      <td>18.2</td>\n",
       "    </tr>\n",
       "    <tr>\n",
       "      <th>9</th>\n",
       "      <td>0.007979</td>\n",
       "      <td>24.400</td>\n",
       "      <td>22.6</td>\n",
       "    </tr>\n",
       "    <tr>\n",
       "      <th>10</th>\n",
       "      <td>0.008051</td>\n",
       "      <td>22.875</td>\n",
       "      <td>19.9</td>\n",
       "    </tr>\n",
       "    <tr>\n",
       "      <th>11</th>\n",
       "      <td>0.008123</td>\n",
       "      <td>24.095</td>\n",
       "      <td>24.2</td>\n",
       "    </tr>\n",
       "    <tr>\n",
       "      <th>12</th>\n",
       "      <td>0.008195</td>\n",
       "      <td>23.180</td>\n",
       "      <td>21.0</td>\n",
       "    </tr>\n",
       "    <tr>\n",
       "      <th>13</th>\n",
       "      <td>0.008195</td>\n",
       "      <td>23.180</td>\n",
       "      <td>21.4</td>\n",
       "    </tr>\n",
       "    <tr>\n",
       "      <th>14</th>\n",
       "      <td>0.008410</td>\n",
       "      <td>21.045</td>\n",
       "      <td>21.3</td>\n",
       "    </tr>\n",
       "    <tr>\n",
       "      <th>15</th>\n",
       "      <td>0.008626</td>\n",
       "      <td>22.875</td>\n",
       "      <td>19.1</td>\n",
       "    </tr>\n",
       "    <tr>\n",
       "      <th>16</th>\n",
       "      <td>0.009273</td>\n",
       "      <td>22.570</td>\n",
       "      <td>22.2</td>\n",
       "    </tr>\n",
       "    <tr>\n",
       "      <th>17</th>\n",
       "      <td>0.009273</td>\n",
       "      <td>25.925</td>\n",
       "      <td>33.8</td>\n",
       "    </tr>\n",
       "    <tr>\n",
       "      <th>18</th>\n",
       "      <td>0.009560</td>\n",
       "      <td>26.230</td>\n",
       "      <td>27.4</td>\n",
       "    </tr>\n",
       "    <tr>\n",
       "      <th>19</th>\n",
       "      <td>0.009848</td>\n",
       "      <td>21.655</td>\n",
       "      <td>25.7</td>\n",
       "    </tr>\n",
       "    <tr>\n",
       "      <th>20</th>\n",
       "      <td>0.009920</td>\n",
       "      <td>19.520</td>\n",
       "      <td>24.9</td>\n",
       "    </tr>\n",
       "    <tr>\n",
       "      <th>21</th>\n",
       "      <td>0.010063</td>\n",
       "      <td>23.790</td>\n",
       "      <td>34.5</td>\n",
       "    </tr>\n",
       "    <tr>\n",
       "      <th>22</th>\n",
       "      <td>0.010207</td>\n",
       "      <td>24.400</td>\n",
       "      <td>31.7</td>\n",
       "    </tr>\n",
       "    <tr>\n",
       "      <th>23</th>\n",
       "      <td>0.010423</td>\n",
       "      <td>22.570</td>\n",
       "      <td>36.3</td>\n",
       "    </tr>\n",
       "    <tr>\n",
       "      <th>24</th>\n",
       "      <td>0.011501</td>\n",
       "      <td>21.960</td>\n",
       "      <td>38.3</td>\n",
       "    </tr>\n",
       "    <tr>\n",
       "      <th>25</th>\n",
       "      <td>0.011717</td>\n",
       "      <td>23.485</td>\n",
       "      <td>42.6</td>\n",
       "    </tr>\n",
       "    <tr>\n",
       "      <th>26</th>\n",
       "      <td>0.012436</td>\n",
       "      <td>24.705</td>\n",
       "      <td>55.4</td>\n",
       "    </tr>\n",
       "    <tr>\n",
       "      <th>27</th>\n",
       "      <td>0.012579</td>\n",
       "      <td>25.010</td>\n",
       "      <td>55.7</td>\n",
       "    </tr>\n",
       "    <tr>\n",
       "      <th>28</th>\n",
       "      <td>0.012867</td>\n",
       "      <td>24.400</td>\n",
       "      <td>58.3</td>\n",
       "    </tr>\n",
       "    <tr>\n",
       "      <th>29</th>\n",
       "      <td>0.012939</td>\n",
       "      <td>24.400</td>\n",
       "      <td>51.5</td>\n",
       "    </tr>\n",
       "    <tr>\n",
       "      <th>30</th>\n",
       "      <td>0.012939</td>\n",
       "      <td>24.400</td>\n",
       "      <td>51.0</td>\n",
       "    </tr>\n",
       "    <tr>\n",
       "      <th>31</th>\n",
       "      <td>0.014808</td>\n",
       "      <td>26.535</td>\n",
       "      <td>77.0</td>\n",
       "    </tr>\n",
       "  </tbody>\n",
       "</table>\n",
       "</div>"
      ],
      "text/plain": [
       "       Girth  Height  Volume\n",
       "1   0.005966  21.350    10.3\n",
       "2   0.006182  19.825    10.3\n",
       "3   0.006326  19.215    10.2\n",
       "4   0.007548  21.960    16.4\n",
       "5   0.007691  24.705    18.8\n",
       "6   0.007763  25.315    19.7\n",
       "7   0.007907  20.130    15.6\n",
       "8   0.007907  22.875    18.2\n",
       "9   0.007979  24.400    22.6\n",
       "10  0.008051  22.875    19.9\n",
       "11  0.008123  24.095    24.2\n",
       "12  0.008195  23.180    21.0\n",
       "13  0.008195  23.180    21.4\n",
       "14  0.008410  21.045    21.3\n",
       "15  0.008626  22.875    19.1\n",
       "16  0.009273  22.570    22.2\n",
       "17  0.009273  25.925    33.8\n",
       "18  0.009560  26.230    27.4\n",
       "19  0.009848  21.655    25.7\n",
       "20  0.009920  19.520    24.9\n",
       "21  0.010063  23.790    34.5\n",
       "22  0.010207  24.400    31.7\n",
       "23  0.010423  22.570    36.3\n",
       "24  0.011501  21.960    38.3\n",
       "25  0.011717  23.485    42.6\n",
       "26  0.012436  24.705    55.4\n",
       "27  0.012579  25.010    55.7\n",
       "28  0.012867  24.400    58.3\n",
       "29  0.012939  24.400    51.5\n",
       "30  0.012939  24.400    51.0\n",
       "31  0.014808  26.535    77.0"
      ]
     },
     "execution_count": 7,
     "metadata": {},
     "output_type": "execute_result"
    }
   ],
   "source": [
    "person_data['Girth'] = person_data['Girth'].astype(float)\n",
    "person_data['Height'] = person_data['Height'].astype(float)\n",
    "person_data['Volume'] = person_data['Volume'].astype(float)\n",
    "person_data['Girth'] *= 0.0254\n",
    "person_data['Height'] *= 0.305\n",
    "person_data['Girth'] *= 0.0283\n",
    "person_data.round(1)\n",
    "person_data"
   ]
  },
  {
   "cell_type": "code",
   "execution_count": 8,
   "id": "178eceab-5706-4c48-8266-3ff8b3165324",
   "metadata": {},
   "outputs": [],
   "source": [
    "max_girth = (person_data['Girth'].round(3)).min()\n",
    "max_height = (person_data['Height'].round(3)).min()\n",
    "max_vol = (person_data['Volume'].round(3)).min()\n",
    "\n",
    "min_girth = (person_data['Girth'].round(3)).min()\n",
    "min_height = (person_data['Height'].round(3)).min()\n",
    "min_vol = (person_data['Volume'].round(3)).min()\n",
    "\n",
    "mode_girth = (person_data['Girth'].round(3)).mode()\n",
    "mode_height = (person_data['Height'].round(3)).mode()\n",
    "mode_vol = (person_data['Volume'].round(3)).mode()\n",
    "\n",
    "mean_girth = (person_data['Girth'].round(3)).mean()\n",
    "mean_height = (person_data['Height'].round(3)).mean()\n",
    "mean_vol = (person_data['Volume'].round(3)).mean()"
   ]
  },
  {
   "cell_type": "code",
   "execution_count": 9,
   "id": "19968ad0-c6cf-40a0-a9f9-b4c351cdf988",
   "metadata": {},
   "outputs": [
    {
     "data": {
      "text/plain": [
       "<matplotlib.legend.Legend at 0x7fba5be254c0>"
      ]
     },
     "execution_count": 9,
     "metadata": {},
     "output_type": "execute_result"
    },
    {
     "data": {
      "image/png": "[encoded data removed]",
      "text/plain": [
       "<Figure size 432x288 with 1 Axes>"
      ]
     },
     "metadata": {
      "needs_background": "light"
     },
     "output_type": "display_data"
    }
   ],
   "source": [
    "import matplotlib.pyplot as plt\n",
    "plt.plot(person_data['Height'],label ='height')\n",
    "plt.title('Height')\n",
    "plt.ylabel('Meters')\n",
    "plt.plot(person_data['Volume'],label = 'Volume')\n",
    "plt.legend()"
   ]
  },
  {
   "cell_type": "code",
   "execution_count": 18,
   "id": "b831ba1e-6a16-459c-83f7-857f19990a8c",
   "metadata": {},
   "outputs": [
    {
     "name": "stdout",
     "output_type": "stream",
     "text": [
      "                       Girth                    Volume  \\\n",
      "0                      0.006                      10.2   \n",
      "1                      0.006                      10.2   \n",
      "2                   0.009548                 30.170968   \n",
      "3  0    0.008\n",
      "dtype: float64  0    10.3\n",
      "dtype: float64   \n",
      "\n",
      "                     Height  \n",
      "0                    19.215  \n",
      "1                    19.215  \n",
      "2                     23.18  \n",
      "3  0    24.4\n",
      "dtype: float64  \n"
     ]
    },
    {
     "data": {
      "text/plain": [
       "[<matplotlib.lines.Line2D at 0x7fba5c50a190>,\n",
       " <matplotlib.lines.Line2D at 0x7fba5c50a1c0>,\n",
       " <matplotlib.lines.Line2D at 0x7fba5c50a2e0>]"
      ]
     },
     "execution_count": 18,
     "metadata": {},
     "output_type": "execute_result"
    },
    {
     "data": {
      "image/png": "[encoded data removed]",
      "text/plain": [
       "<Figure size 432x288 with 1 Axes>"
      ]
     },
     "metadata": {
      "needs_background": "light"
     },
     "output_type": "display_data"
    }
   ],
   "source": [
    "import matplotlib.pyplot as plt\n",
    "import pandas\n",
    "dat_table = pandas.DataFrame({'Girth':[min_girth,max_girth,mean_girth,mode_girth],\n",
    "                              'Volume':[min_vol,max_vol,mean_vol,mode_vol],\n",
    "                              'Height':[min_height,max_height,mean_height,mode_height] })\n",
    "print(dat_table)\n",
    "plt.plot(dat_table)"
   ]
  },
  {
   "cell_type": "code",
   "execution_count": null,
   "id": "c8738c6b",
   "metadata": {},
   "outputs": [],
   "source": []
  }
 ],
 "metadata": {
  "kernelspec": {
   "display_name": "Python 3 (ipykernel)",
   "language": "python",
   "name": "python3"
  },
  "language_info": {
   "codemirror_mode": {
    "name": "ipython",
    "version": 3
   },
   "file_extension": ".py",
   "mimetype": "text/x-python",
   "name": "python",
   "nbconvert_exporter": "python",
   "pygments_lexer": "ipython3",
   "version": "3.9.7"
  }
 },
 "nbformat": 4,
 "nbformat_minor": 5
}
