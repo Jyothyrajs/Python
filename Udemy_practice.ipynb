{
 "cells": [
  {
   "cell_type": "code",
   "execution_count": 2,
   "id": "dd93c405-ce39-4c6e-bc21-68fbb11187d4",
   "metadata": {},
   "outputs": [
    {
     "name": "stdout",
     "output_type": "stream",
     "text": [
      "[2 3 1 5]\n",
      "Last element: 5\n"
     ]
    }
   ],
   "source": [
    "\n",
    "import numpy as np\n",
    "one_d_array= np.array([2,3,1,5]) \n",
    "print(one_d_array)\n",
    "print(\"Last element:\",one_d_array[3])"
   ]
  },
  {
   "cell_type": "code",
   "execution_count": null,
   "id": "40ea0f27-cafd-4d5b-9749-d5c28f33dcfe",
   "metadata": {},
   "outputs": [],
   "source": []
  },
  {
   "cell_type": "code",
   "execution_count": 1,
   "id": "eba2d341-40cb-4655-adb9-3023fa790d61",
   "metadata": {},
   "outputs": [
    {
     "data": {
      "text/html": [
       "<div>\n",
       "<style scoped>\n",
       "    .dataframe tbody tr th:only-of-type {\n",
       "        vertical-align: middle;\n",
       "    }\n",
       "\n",
       "    .dataframe tbody tr th {\n",
       "        vertical-align: top;\n",
       "    }\n",
       "\n",
       "    .dataframe thead th {\n",
       "        text-align: right;\n",
       "    }\n",
       "</style>\n",
       "<table border=\"1\" class=\"dataframe\">\n",
       "  <thead>\n",
       "    <tr style=\"text-align: right;\">\n",
       "      <th></th>\n",
       "      <th>id</th>\n",
       "      <th>name</th>\n",
       "      <th>price</th>\n",
       "      <th>sales</th>\n",
       "      <th>brand</th>\n",
       "    </tr>\n",
       "  </thead>\n",
       "  <tbody>\n",
       "    <tr>\n",
       "      <th>0</th>\n",
       "      <td>101</td>\n",
       "      <td>biscuits</td>\n",
       "      <td>5.00</td>\n",
       "      <td>227</td>\n",
       "      <td>HomeFoods</td>\n",
       "    </tr>\n",
       "    <tr>\n",
       "      <th>1</th>\n",
       "      <td>102</td>\n",
       "      <td>cookies</td>\n",
       "      <td>7.25</td>\n",
       "      <td>158</td>\n",
       "      <td>TBakery</td>\n",
       "    </tr>\n",
       "    <tr>\n",
       "      <th>2</th>\n",
       "      <td>103</td>\n",
       "      <td>cake</td>\n",
       "      <td>12.00</td>\n",
       "      <td>50</td>\n",
       "      <td>TBakery</td>\n",
       "    </tr>\n",
       "    <tr>\n",
       "      <th>3</th>\n",
       "      <td>104</td>\n",
       "      <td>whey_supplement</td>\n",
       "      <td>34.90</td>\n",
       "      <td>24</td>\n",
       "      <td>MusleUp</td>\n",
       "    </tr>\n",
       "    <tr>\n",
       "      <th>4</th>\n",
       "      <td>105</td>\n",
       "      <td>protein_bars</td>\n",
       "      <td>4.90</td>\n",
       "      <td>85</td>\n",
       "      <td>MusleUp</td>\n",
       "    </tr>\n",
       "    <tr>\n",
       "      <th>5</th>\n",
       "      <td>106</td>\n",
       "      <td>potato_chips</td>\n",
       "      <td>1.75</td>\n",
       "      <td>121</td>\n",
       "      <td>HomeFoods</td>\n",
       "    </tr>\n",
       "  </tbody>\n",
       "</table>\n",
       "</div>"
      ],
      "text/plain": [
       "    id             name  price  sales      brand\n",
       "0  101         biscuits   5.00    227  HomeFoods\n",
       "1  102          cookies   7.25    158    TBakery\n",
       "2  103             cake  12.00     50    TBakery\n",
       "3  104  whey_supplement  34.90     24    MusleUp\n",
       "4  105     protein_bars   4.90     85    MusleUp\n",
       "5  106     potato_chips   1.75    121  HomeFoods"
      ]
     },
     "execution_count": 1,
     "metadata": {},
     "output_type": "execute_result"
    }
   ],
   "source": [
    "import pandas\n",
    "data_dir = 'csv_data.csv'\n",
    "dt = pandas.read_csv(data_dir)\n",
    "dt"
   ]
  },
  {
   "cell_type": "markdown",
   "id": "fb1b1906-9679-408b-acf3-355ac669dacf",
   "metadata": {},
   "source": [
    "#Python Practice- Udemy Course"
   ]
  },
  {
   "cell_type": "code",
   "execution_count": 7,
   "id": "f55ca78a-a7a4-426f-a0ce-ce7692a130cd",
   "metadata": {},
   "outputs": [
    {
     "name": "stdout",
     "output_type": "stream",
     "text": [
      "[[1 2 3]\n",
      " [4 5 6]\n",
      " [7 8 9]]\n"
     ]
    }
   ],
   "source": [
    "import numpy as np\n",
    "two_d_array= np.array([[1,2,3],[4,5,6],[7,8,9]],ndmin=2)\n",
    "\n",
    "print(two_d_array)\n",
    "#print(\"Last element:\",two_d_array[2,2])"
   ]
  },
  {
   "cell_type": "code",
   "execution_count": 9,
   "id": "ed9b059a-ade6-4e30-bf16-de2579e6387c",
   "metadata": {},
   "outputs": [
    {
     "name": "stdout",
     "output_type": "stream",
     "text": [
      "[[[1 2 3]\n",
      "  [4 5 6]\n",
      "  [7 8 9]]]\n"
     ]
    }
   ],
   "source": [
    "import numpy as np\n",
    "ar = np.array([[[1,2,3],[4,5,6],[7,8,9]]])\n",
    "print(ar)"
   ]
  },
  {
   "cell_type": "code",
   "execution_count": 10,
   "id": "63f91bcb-dfc5-468b-acc7-07425e3dbb69",
   "metadata": {},
   "outputs": [
    {
     "name": "stdout",
     "output_type": "stream",
     "text": [
      "[[[1 2 3]\n",
      "  [4 5 6]\n",
      "  [7 8 9]]]\n"
     ]
    }
   ],
   "source": [
    "import numpy as np\n",
    "ar = np.array([[[1,2,3],[4,5,6],[7,8,9]]],ndmin=3)\n",
    "print(ar)"
   ]
  },
  {
   "cell_type": "code",
   "execution_count": 2,
   "id": "c86fcf81-fe2c-47dc-b809-6e654efc33f8",
   "metadata": {},
   "outputs": [
    {
     "name": "stdout",
     "output_type": "stream",
     "text": [
      "[[['1' '2' '3']\n",
      "  ['4' '5' '6']\n",
      "  ['7' '8' '9']]\n",
      "\n",
      " [['1' '2' '3']\n",
      "  ['4' '5' '6']\n",
      "  ['7' '8' '9']]\n",
      "\n",
      " [['1' '2' '3']\n",
      "  ['4' '5' '6']\n",
      "  ['7' '8' '9']]]\n"
     ]
    }
   ],
   "source": [
    "import numpy as np\n",
    "ar = np.array([[[1,2,3],[4,5,6],[7,8,9]],[[1,2,3],[4,5,6],[7,8,9]],[[1,2,3],[4,5,6],[7,8,9]]],ndmin=3,dtype=str)\n",
    "print(ar)"
   ]
  },
  {
   "cell_type": "code",
   "execution_count": 12,
   "id": "1e5276d4-d3a6-481a-8dca-9dca99b436ff",
   "metadata": {},
   "outputs": [
    {
     "name": "stdout",
     "output_type": "stream",
     "text": [
      "[[[1 2 3]\n",
      "  [4 5 6]\n",
      "  [7 8 9]]]\n",
      "[[[ 6  7  8]\n",
      "  [ 9 10 11]\n",
      "  [12 13 14]]]\n"
     ]
    }
   ],
   "source": [
    "print(ar)\n",
    "print(ar+5)\n"
   ]
  },
  {
   "cell_type": "markdown",
   "id": "4afa0556-e5a0-4aeb-8227-54343ec04523",
   "metadata": {},
   "source": [
    "##3D numpy array which has three2D arrays with 3 1D arrays of all the unique combinations of 1 2 3"
   ]
  },
  {
   "cell_type": "code",
   "execution_count": 18,
   "id": "79de7c1c-7643-44e8-bab6-3f2b8b51fd30",
   "metadata": {},
   "outputs": [
    {
     "name": "stdout",
     "output_type": "stream",
     "text": [
      "[[[1 1]\n",
      "  [1 2]\n",
      "  [1 3]]\n",
      "\n",
      " [[2 1]\n",
      "  [2 2]\n",
      "  [2 3]]\n",
      "\n",
      " [[3 1]\n",
      "  [3 2]\n",
      "  [3 3]]]\n"
     ]
    }
   ],
   "source": [
    "import numpy as npy\n",
    "\n",
    "ar = npy.array([[[1,1],[1,2],[1,3]],[[2,1],[2,2],[2,3]],[[3,1],[3,2],[3,3]]], ndmin = 3)\n",
    "print(ar)"
   ]
  },
  {
   "cell_type": "markdown",
   "id": "3024424c-8021-42ca-9d93-99964daa91f1",
   "metadata": {},
   "source": [
    "# Pandas"
   ]
  },
  {
   "cell_type": "code",
   "execution_count": 6,
   "id": "0511d1c9-4b10-4c93-aac2-41563792d815",
   "metadata": {},
   "outputs": [
    {
     "name": "stdout",
     "output_type": "stream",
     "text": [
      "0    11\n",
      "1    22\n",
      "2    33\n",
      "dtype: int64\n"
     ]
    }
   ],
   "source": [
    "import pandas as pan\n",
    "ar=pan.Series([11,22,33])\n",
    "print(ar)\n",
    "#Series print with index"
   ]
  },
  {
   "cell_type": "code",
   "execution_count": 9,
   "id": "0ccbd554-eb09-4868-a86d-74090b4308b2",
   "metadata": {},
   "outputs": [
    {
     "name": "stdout",
     "output_type": "stream",
     "text": [
      "a    11.0\n",
      "b    22.0\n",
      "c    33.0\n",
      "dtype: float64\n"
     ]
    }
   ],
   "source": [
    "import pandas as pan\n",
    "ar=pan.Series([11,22,33], index=['a','b','c'],dtype=float)\n",
    "print(ar)\n",
    "#Series print with the given index"
   ]
  },
  {
   "cell_type": "code",
   "execution_count": 12,
   "id": "a0028bbe-9f18-42cc-ba82-2d0f8177fa7b",
   "metadata": {},
   "outputs": [
    {
     "name": "stdout",
     "output_type": "stream",
     "text": [
      "[1 2 3 4 5 6]\n"
     ]
    }
   ],
   "source": [
    "import pandas as pan\n",
    "import numpy as npy\n",
    "ar = npy.array([1,2,3,4,5,6])\n",
    "pan_ar=pan.Series(data=ar, index=['a','b','c','d','e','f'],dtype=float)\n",
    "print(ar)\n",
    "#data is numpy array in pandas\n",
    "# but data must be 1 dimensional"
   ]
  },
  {
   "cell_type": "markdown",
   "id": "0d32ac4c-f261-4420-b54d-c087c1fdcf6a",
   "metadata": {},
   "source": [
    "#Slicing in pandas\n"
   ]
  },
  {
   "cell_type": "code",
   "execution_count": 14,
   "id": "e84a551b-2323-4a38-a001-b41c6027ecb8",
   "metadata": {},
   "outputs": [
    {
     "name": "stdout",
     "output_type": "stream",
     "text": [
      "22.0\n"
     ]
    }
   ],
   "source": [
    "import pandas as pan\n",
    "ar=pan.Series([11,22,33], index=['a','b','c'],dtype=float)\n",
    "print(ar['b'])\n",
    "#Slicing"
   ]
  },
  {
   "cell_type": "code",
   "execution_count": null,
   "id": "0618954d-10f9-42c3-8618-a1fda8bad5cd",
   "metadata": {},
   "outputs": [],
   "source": [
    "#Slicing with local index and iloc(implicit index)"
   ]
  },
  {
   "cell_type": "code",
   "execution_count": 20,
   "id": "367cf0af-3a39-42ee-ad53-4d6247579adb",
   "metadata": {},
   "outputs": [
    {
     "name": "stdout",
     "output_type": "stream",
     "text": [
      "11.0\n",
      "22.0\n",
      "33.0\n",
      "22.0\n"
     ]
    }
   ],
   "source": [
    "import pandas as pan\n",
    "ar=pan.Series([11,22,33], index=['1','2','3'],dtype=float)\n",
    "print(ar.loc['1'])\n",
    "print(ar.iloc[1])\n",
    "print(ar.iloc[-1])\n",
    "print(ar[1])\n",
    "#Slicing"
   ]
  },
  {
   "cell_type": "code",
   "execution_count": 25,
   "id": "2b28f2af-29de-486f-acf3-d9c99bd09c51",
   "metadata": {},
   "outputs": [
    {
     "name": "stdout",
     "output_type": "stream",
     "text": [
      "   Age   Color\n",
      "0   12    Blue\n",
      "1   14   Black\n",
      "2   16  Yellow\n"
     ]
    }
   ],
   "source": [
    "import pandas as pan #Data frame one D\n",
    "df = pan.DataFrame({'Age':[12,14,16],'Color':['Blue','Black','Yellow']})\n",
    "print(df)"
   ]
  },
  {
   "cell_type": "code",
   "execution_count": 35,
   "id": "a3f1537c-2252-43e3-ad7c-f3b16cadb5ff",
   "metadata": {},
   "outputs": [
    {
     "name": "stdout",
     "output_type": "stream",
     "text": [
      "   Age   Color\n",
      "a   12    Blue\n",
      "b   14   Black\n",
      "c   16  Yellow\n"
     ]
    }
   ],
   "source": [
    "import pandas as pan #Data frame one D\n",
    "df = pan.DataFrame(data={'Age':[12,14,16],'Color':['Blue','Black','Yellow']},index=['a','b','c'])\n",
    "print(df)"
   ]
  },
  {
   "cell_type": "code",
   "execution_count": 5,
   "id": "8e0e71b2-596b-4e6f-ab93-c9dd5d39a078",
   "metadata": {},
   "outputs": [
    {
     "name": "stdout",
     "output_type": "stream",
     "text": [
      "    c1   c2   C3\n",
      "a  NaN  NaN  NaN\n",
      "b  NaN  NaN  NaN\n",
      "c  NaN  NaN  NaN\n"
     ]
    }
   ],
   "source": [
    "import pandas as pan #Data frame one D\n",
    "df = pan.DataFrame(data={'Age':[12,14,16],'Color':['Blue','Black','Yellow']},index=['a','b','c'],columns=['c1','c2','C3'])\n",
    "print(df)"
   ]
  },
  {
   "cell_type": "code",
   "execution_count": 4,
   "id": "742d4294-924e-46f4-99e0-e484ec6db1f1",
   "metadata": {},
   "outputs": [
    {
     "name": "stdout",
     "output_type": "stream",
     "text": [
      "    c1   c2  Age\n",
      "a  NaN  NaN   12\n",
      "b  NaN  NaN   14\n",
      "c  NaN  NaN   16\n"
     ]
    }
   ],
   "source": [
    "import pandas as pan #Data frame one D\n",
    "df = pan.DataFrame(data={'Age':[12,14,16],'Color':['Blue','Black','Yellow']},index=['a','b','c'],columns=['c1','c2','Age'])\n",
    "print(df)"
   ]
  },
  {
   "cell_type": "code",
   "execution_count": 7,
   "id": "863f57c4-3ceb-4468-b793-ee3d53f15207",
   "metadata": {},
   "outputs": [
    {
     "name": "stdout",
     "output_type": "stream",
     "text": [
      "   C1  C2  C3\n",
      "A   1   2   3\n",
      "B  11  22  33\n"
     ]
    },
    {
     "data": {
      "text/plain": [
       "33"
      ]
     },
     "execution_count": 7,
     "metadata": {},
     "output_type": "execute_result"
    }
   ],
   "source": [
    "import pandas as pan #Data frame one D\n",
    "import numpy as npy\n",
    "ar = npy.array([[1,2,3],[11,22,33]])\n",
    "df = pan.DataFrame(data=ar,columns=['C1','C2','C3'],index=['A','B'])\n",
    "print(df)\n",
    "#Columns\n",
    "df['C2']\n",
    "#rows\n",
    "df.loc['A']\n",
    "df.iloc[0]\n",
    "\n",
    "#values\n",
    "#df.values\n",
    "df.values[1,2]"
   ]
  },
  {
   "cell_type": "code",
   "execution_count": null,
   "id": "3bd569e0-5e1b-462c-b732-ff437485c203",
   "metadata": {},
   "outputs": [],
   "source": []
  },
  {
   "cell_type": "code",
   "execution_count": 51,
   "id": "d21a84f5-a6e0-4758-866b-5afd4c2921a7",
   "metadata": {},
   "outputs": [
    {
     "name": "stdout",
     "output_type": "stream",
     "text": [
      "   C1  C2\n",
      "1   1  11\n",
      "2   2  22\n",
      "3   3  33\n",
      "22\n",
      "33\n"
     ]
    }
   ],
   "source": [
    "import pandas as pan #Data frame one D\n",
    "import numpy as npy\n",
    "ar = npy.array([[1,2,3],[11,22,33]])\n",
    "df = pan.DataFrame({'C1':[1,2,3],\n",
    "                    'C2':[11,22,33]},\n",
    "                   index=[1,2,3])\n",
    "\n",
    "#values\n",
    "#df.values\n",
    "print(df)\n",
    "print(df.values[1,1])\n",
    "print(df.values[2,1])"
   ]
  },
  {
   "cell_type": "code",
   "execution_count": 57,
   "id": "fc92c739-2da6-4434-91ee-d3748f6b0a4d",
   "metadata": {},
   "outputs": [
    {
     "ename": "ValueError",
     "evalue": "setting an array element with a sequence. The requested array has an inhomogeneous shape after 2 dimensions. The detected shape was (3, 3) + inhomogeneous part.",
     "output_type": "error",
     "traceback": [
      "\u001b[0;31m---------------------------------------------------------------------------\u001b[0m",
      "\u001b[0;31mValueError\u001b[0m                                Traceback (most recent call last)",
      "\u001b[0;32m/var/folders/dn/tqkv60lx7pq4q90trb9p866c0000gn/T/ipykernel_70170/663985290.py\u001b[0m in \u001b[0;36m<module>\u001b[0;34m\u001b[0m\n\u001b[1;32m      1\u001b[0m \u001b[0;32mimport\u001b[0m \u001b[0mpandas\u001b[0m \u001b[0;32mas\u001b[0m \u001b[0mpan\u001b[0m\u001b[0;34m\u001b[0m\u001b[0;34m\u001b[0m\u001b[0m\n\u001b[1;32m      2\u001b[0m \u001b[0;32mimport\u001b[0m \u001b[0mnumpy\u001b[0m \u001b[0;32mas\u001b[0m \u001b[0mnpy\u001b[0m\u001b[0;34m\u001b[0m\u001b[0;34m\u001b[0m\u001b[0m\n\u001b[0;32m----> 3\u001b[0;31m ar = npy.array(\n\u001b[0m\u001b[1;32m      4\u001b[0m   [ \n\u001b[1;32m      5\u001b[0m       \u001b[0;34m[\u001b[0m\u001b[0;34m[\u001b[0m\u001b[0;36m1\u001b[0m\u001b[0;34m,\u001b[0m\u001b[0;36m1\u001b[0m\u001b[0;34m]\u001b[0m\u001b[0;34m,\u001b[0m\u001b[0;34m[\u001b[0m\u001b[0;36m2\u001b[0m\u001b[0;34m,\u001b[0m\u001b[0;36m1\u001b[0m\u001b[0;34m]\u001b[0m\u001b[0;34m,\u001b[0m\u001b[0;34m[\u001b[0m\u001b[0;36m3\u001b[0m\u001b[0;34m,\u001b[0m\u001b[0;36m1\u001b[0m\u001b[0;34m]\u001b[0m\u001b[0;34m]\u001b[0m\u001b[0;34m,\u001b[0m\u001b[0;34m\u001b[0m\u001b[0;34m\u001b[0m\u001b[0m\n",
      "\u001b[0;31mValueError\u001b[0m: setting an array element with a sequence. The requested array has an inhomogeneous shape after 2 dimensions. The detected shape was (3, 3) + inhomogeneous part."
     ]
    }
   ],
   "source": [
    "import pandas as pan\n",
    "import numpy as npy\n",
    "ar = npy.array(\n",
    "  [ \n",
    "      [[1,1],[2,1],[3,1]],\n",
    "     [[2,1],[2,2],[2,3]]\n",
    "     ,[1,2,3]\n",
    "],dtype=str, ndmin = 2\n",
    ")\n",
    "df = pan.DataFrame(data = ar,columns = ['Combo1','Combo2','Combo3'],index = [1,2,3])\n",
    "print(df)"
   ]
  },
  {
   "cell_type": "code",
   "execution_count": 58,
   "id": "c3ad1698-b18f-459f-a1ca-e3d90d939a54",
   "metadata": {},
   "outputs": [
    {
     "data": {
      "text/html": [
       "<div>\n",
       "<style scoped>\n",
       "    .dataframe tbody tr th:only-of-type {\n",
       "        vertical-align: middle;\n",
       "    }\n",
       "\n",
       "    .dataframe tbody tr th {\n",
       "        vertical-align: top;\n",
       "    }\n",
       "\n",
       "    .dataframe thead th {\n",
       "        text-align: right;\n",
       "    }\n",
       "</style>\n",
       "<table border=\"1\" class=\"dataframe\">\n",
       "  <thead>\n",
       "    <tr style=\"text-align: right;\">\n",
       "      <th></th>\n",
       "      <th>id</th>\n",
       "      <th>name</th>\n",
       "      <th>price</th>\n",
       "      <th>sales</th>\n",
       "      <th>brand</th>\n",
       "    </tr>\n",
       "  </thead>\n",
       "  <tbody>\n",
       "    <tr>\n",
       "      <th>0</th>\n",
       "      <td>101</td>\n",
       "      <td>biscuits</td>\n",
       "      <td>5.00</td>\n",
       "      <td>227</td>\n",
       "      <td>HomeFoods</td>\n",
       "    </tr>\n",
       "    <tr>\n",
       "      <th>1</th>\n",
       "      <td>102</td>\n",
       "      <td>cookies</td>\n",
       "      <td>7.25</td>\n",
       "      <td>158</td>\n",
       "      <td>TBakery</td>\n",
       "    </tr>\n",
       "    <tr>\n",
       "      <th>2</th>\n",
       "      <td>103</td>\n",
       "      <td>cake</td>\n",
       "      <td>12.00</td>\n",
       "      <td>50</td>\n",
       "      <td>TBakery</td>\n",
       "    </tr>\n",
       "    <tr>\n",
       "      <th>3</th>\n",
       "      <td>104</td>\n",
       "      <td>whey_supplement</td>\n",
       "      <td>34.90</td>\n",
       "      <td>24</td>\n",
       "      <td>MusleUp</td>\n",
       "    </tr>\n",
       "    <tr>\n",
       "      <th>4</th>\n",
       "      <td>105</td>\n",
       "      <td>protein_bars</td>\n",
       "      <td>4.90</td>\n",
       "      <td>85</td>\n",
       "      <td>MusleUp</td>\n",
       "    </tr>\n",
       "    <tr>\n",
       "      <th>5</th>\n",
       "      <td>106</td>\n",
       "      <td>potato_chips</td>\n",
       "      <td>1.75</td>\n",
       "      <td>121</td>\n",
       "      <td>HomeFoods</td>\n",
       "    </tr>\n",
       "  </tbody>\n",
       "</table>\n",
       "</div>"
      ],
      "text/plain": [
       "    id             name  price  sales      brand\n",
       "0  101         biscuits   5.00    227  HomeFoods\n",
       "1  102          cookies   7.25    158    TBakery\n",
       "2  103             cake  12.00     50    TBakery\n",
       "3  104  whey_supplement  34.90     24    MusleUp\n",
       "4  105     protein_bars   4.90     85    MusleUp\n",
       "5  106     potato_chips   1.75    121  HomeFoods"
      ]
     },
     "execution_count": 58,
     "metadata": {},
     "output_type": "execute_result"
    }
   ],
   "source": [
    "import pandas as pan\n",
    "dt = pan.read_csv('csv_data.csv')\n",
    "print(dt)\n"
   ]
  },
  {
   "cell_type": "code",
   "execution_count": 59,
   "id": "d029ac80-0026-4e47-97d9-ef71ca0d4458",
   "metadata": {},
   "outputs": [
    {
     "name": "stdout",
     "output_type": "stream",
     "text": [
      "    id             name  price  sales      brand\n",
      "0  101         biscuits   5.00    227  HomeFoods\n",
      "1  102          cookies   7.25    158    TBakery\n",
      "2  103             cake  12.00     50    TBakery\n",
      "3  104  whey_supplement  34.90     24    MusleUp\n",
      "4  105     protein_bars   4.90     85    MusleUp\n",
      "5  106     potato_chips   1.75    121  HomeFoods\n"
     ]
    }
   ],
   "source": [
    "import pandas as pan\n",
    "dt = pan.read_json('json_data.json')\n",
    "print(dt)\n",
    "\n"
   ]
  },
  {
   "cell_type": "code",
   "execution_count": 62,
   "id": "4aa87d03-18d6-4c8b-a2fc-7e2e257f4d74",
   "metadata": {},
   "outputs": [
    {
     "name": "stdout",
     "output_type": "stream",
     "text": [
      "    id             name  price  sales      brand\n",
      "0  101         biscuits   5.00    227  HomeFoods\n",
      "1  102          cookies   7.25    158    TBakery\n",
      "2  103             cake  12.00     50    TBakery\n",
      "3  104  whey_supplement  34.90     24    MusleUp\n",
      "4  105     protein_bars   4.90     85    MusleUp\n",
      "5  106     potato_chips   1.75    121  HomeFoods\n"
     ]
    }
   ],
   "source": [
    "import pandas as pan\n",
    "dt = pan.read_excel('xlsx_data.xlsx')\n",
    "print(dt)\n",
    "\n"
   ]
  },
  {
   "cell_type": "code",
   "execution_count": 70,
   "id": "765cc638-3c9b-49c2-a88d-af9738dc3f2d",
   "metadata": {},
   "outputs": [
    {
     "name": "stdout",
     "output_type": "stream",
     "text": [
      "      ID   Name  Price  Sales  Brand\n",
      "0  False  False  False  False  False\n",
      "1  False  False  False  False  False\n",
      "2  False  False  False  False  False\n",
      "3  False  False  False  False  False\n",
      "4  False  False  False  False  False\n",
      "5  False  False  False  False  False\n"
     ]
    }
   ],
   "source": [
    "import pandas as pan\n",
    "dt = pan.read_csv('csv_data.csv',\n",
    "                  names=['ID','Name','Price','Sales','Brand'],\n",
    "                 skiprows=1)\n",
    "print(dt.isnull())\n",
    "\n"
   ]
  },
  {
   "cell_type": "code",
   "execution_count": 72,
   "id": "c6c5085c-4354-4542-9729-292bbccd3228",
   "metadata": {},
   "outputs": [
    {
     "name": "stdout",
     "output_type": "stream",
     "text": [
      "    ID             Name  Price  Sales      Brand\n",
      "0  101         biscuits   5.00    227  HomeFoods\n",
      "1  102          cookies   7.25    158    TBakery\n",
      "2  103             cake  12.00     50    TBakery\n",
      "3  104  whey_supplement  34.90     24    MusleUp\n",
      "4  105     protein_bars   4.90     85    MusleUp\n",
      "5  106     potato_chips   1.75    121  HomeFoods\n"
     ]
    }
   ],
   "source": [
    "import pandas as pan\n",
    "dt = pan.read_csv('csv_data.csv',\n",
    "                  names=['ID','Name','Price','Sales','Brand'],\n",
    "                 skiprows=1)\n",
    "print(dt.fillna(0))"
   ]
  },
  {
   "cell_type": "code",
   "execution_count": 73,
   "id": "bd1d7076-034d-467e-9b67-ac2ad76e574e",
   "metadata": {},
   "outputs": [
    {
     "name": "stdout",
     "output_type": "stream",
     "text": [
      "    ID             Name  Price  Sales      Brand\n",
      "0  101         biscuits   5.00    227  HomeFoods\n",
      "1  102          cookies   7.25    158    TBakery\n",
      "2  103             cake  12.00     50    TBakery\n",
      "3  104  whey_supplement  34.90     24    MusleUp\n",
      "4  105     protein_bars   4.90     85    MusleUp\n",
      "5  106     potato_chips   1.75    121  HomeFoods\n"
     ]
    }
   ],
   "source": [
    "import pandas as pan\n",
    "dt = pan.read_csv('csv_data.csv',\n",
    "                  names=['ID','Name','Price','Sales','Brand'],\n",
    "                 skiprows=1)\n",
    "print(dt.dropna())"
   ]
  },
  {
   "cell_type": "code",
   "execution_count": 11,
   "id": "c5284f90-e264-472c-ba65-6e4e14fc8bc7",
   "metadata": {},
   "outputs": [
    {
     "data": {
      "text/html": [
       "<div>\n",
       "<style scoped>\n",
       "    .dataframe tbody tr th:only-of-type {\n",
       "        vertical-align: middle;\n",
       "    }\n",
       "\n",
       "    .dataframe tbody tr th {\n",
       "        vertical-align: top;\n",
       "    }\n",
       "\n",
       "    .dataframe thead th {\n",
       "        text-align: right;\n",
       "    }\n",
       "</style>\n",
       "<table border=\"1\" class=\"dataframe\">\n",
       "  <thead>\n",
       "    <tr style=\"text-align: right;\">\n",
       "      <th></th>\n",
       "      <th>ID</th>\n",
       "      <th>Name</th>\n",
       "      <th>Price</th>\n",
       "      <th>Sales</th>\n",
       "      <th>Brand</th>\n",
       "    </tr>\n",
       "  </thead>\n",
       "  <tbody>\n",
       "    <tr>\n",
       "      <th>0</th>\n",
       "      <td>101</td>\n",
       "      <td>biscuits</td>\n",
       "      <td>5.00</td>\n",
       "      <td>227</td>\n",
       "      <td>HomeFoods</td>\n",
       "    </tr>\n",
       "    <tr>\n",
       "      <th>1</th>\n",
       "      <td>102</td>\n",
       "      <td>cookies</td>\n",
       "      <td>7.25</td>\n",
       "      <td>158</td>\n",
       "      <td>TBakery</td>\n",
       "    </tr>\n",
       "    <tr>\n",
       "      <th>3</th>\n",
       "      <td>104</td>\n",
       "      <td>whey_supplement</td>\n",
       "      <td>34.90</td>\n",
       "      <td>24</td>\n",
       "      <td>MusleUp</td>\n",
       "    </tr>\n",
       "    <tr>\n",
       "      <th>5</th>\n",
       "      <td>106</td>\n",
       "      <td>potato_chips</td>\n",
       "      <td>1.75</td>\n",
       "      <td>121</td>\n",
       "      <td>HomeFoods</td>\n",
       "    </tr>\n",
       "  </tbody>\n",
       "</table>\n",
       "</div>"
      ],
      "text/plain": [
       "    ID             Name  Price  Sales      Brand\n",
       "0  101         biscuits   5.00    227  HomeFoods\n",
       "1  102          cookies   7.25    158    TBakery\n",
       "3  104  whey_supplement  34.90     24    MusleUp\n",
       "5  106     potato_chips   1.75    121  HomeFoods"
      ]
     },
     "execution_count": 11,
     "metadata": {},
     "output_type": "execute_result"
    }
   ],
   "source": [
    "import pandas as pan\n",
    "dt = pan.read_csv('csv_data.csv',\n",
    "                  names=['ID','Name','Price','Sales','Brand'],\n",
    "                 skiprows=1)\n",
    "dt.drop([2,4])\n"
   ]
  },
  {
   "cell_type": "code",
   "execution_count": 8,
   "id": "5ca291fc-7546-4338-946a-65db06e2fc71",
   "metadata": {},
   "outputs": [
    {
     "name": "stdout",
     "output_type": "stream",
     "text": [
      "    ID             Name  Price  Sales      Brand\n",
      "0  101         biscuits   5.00    227  HomeFoods\n",
      "1  102          cookies   7.25    158    TBakery\n",
      "2  103             cake  12.00     50    TBakery\n",
      "3  104  whey_supplement  34.90     24    MusleUp\n",
      "4  105     protein_bars   4.90     85    MusleUp\n",
      "5  106     potato_chips   1.75    121  HomeFoods\n",
      "    ID             Name  Price  Sales      Brand\n",
      "0  101         biscuits   5.00    227  HomeFoods\n",
      "1  102          cookies   7.25    158    TBakery\n",
      "2  103             cake  12.00     50    TBakery\n",
      "3  104  whey_supplement  34.90     24    MusleUp\n",
      "4  105     protein_bars   4.90     85    MusleUp\n",
      "5  106     potato_chips   1.75    121  HomeFoods\n"
     ]
    }
   ],
   "source": [
    "import pandas as pan\n",
    "dt = pan.read_csv('csv_data.csv',\n",
    "                  names=['ID','Name','Price','Sales','Brand'],\n",
    "                 skiprows=1)\n",
    "print(dt)\n",
    "dt.drop([3])\n",
    "print(dt)\n"
   ]
  },
  {
   "cell_type": "code",
   "execution_count": 85,
   "id": "62ad9cd6-9dd5-4591-8761-a01a7574f7e0",
   "metadata": {},
   "outputs": [
    {
     "name": "stdout",
     "output_type": "stream",
     "text": [
      "    ID             Name  Price      Brand\n",
      "0  101         biscuits   5.00  HomeFoods\n",
      "1  102          cookies   7.25    TBakery\n",
      "2  103             cake  12.00    TBakery\n",
      "3  104  whey_supplement  34.90    MusleUp\n",
      "4  105     protein_bars   4.90    MusleUp\n",
      "5  106     potato_chips   1.75  HomeFoods\n"
     ]
    }
   ],
   "source": [
    "import pandas as pan\n",
    "dt = pan.read_csv('csv_data.csv',\n",
    "                  names=['ID','Name','Price','Sales','Brand'],\n",
    "                 skiprows=1)\n",
    "del (dt['Sales'])\n",
    "print (dt)"
   ]
  },
  {
   "cell_type": "code",
   "execution_count": 22,
   "id": "4daf714f-3058-4620-9c28-131af199e0fe",
   "metadata": {},
   "outputs": [
    {
     "name": "stdout",
     "output_type": "stream",
     "text": [
      "    ID             Name  Sales      Brand\n",
      "0  101         biscuits    227  HomeFoods\n",
      "1  102          cookies    158    TBakery\n",
      "2  103             cake     50    TBakery\n",
      "3  104  whey_supplement     24    MusleUp\n",
      "4  105     protein_bars     85    MusleUp\n",
      "5  106     potato_chips    121  HomeFoods\n",
      "0    101\n",
      "1    102\n",
      "2    103\n",
      "3    104\n",
      "4    105\n",
      "5    106\n",
      "Name: ID, dtype: int64\n",
      "[101 'biscuits' 227 'HomeFoods']\n",
      "102\n"
     ]
    }
   ],
   "source": [
    "import pandas as pan\n",
    "dt = pan.read_csv('csv_data.csv',\n",
    "                  names=['ID','Name','Price','Sales','Brand'],\n",
    "                 skiprows=1)\n",
    "del (dt['Price'])\n",
    "print (dt)\n",
    "print(dt['ID'])\n",
    "print(dt.values[0])\n",
    "print(dt.values[1,0])\n"
   ]
  },
  {
   "cell_type": "code",
   "execution_count": 28,
   "id": "1e8b99e5-de3a-4cc6-8550-bd9236b20a3a",
   "metadata": {},
   "outputs": [
    {
     "name": "stdout",
     "output_type": "stream",
     "text": [
      "              Name  Sales\n",
      "0         biscuits    227\n",
      "1          cookies    158\n",
      "2             cake     50\n",
      "3  whey_supplement     24\n",
      "4     protein_bars     85\n",
      "5     potato_chips    121\n"
     ]
    }
   ],
   "source": [
    "print(dt.filter(items=['Name','Sales']))"
   ]
  },
  {
   "cell_type": "code",
   "execution_count": 36,
   "id": "2f7637b8-cf8a-4916-9429-512ff33a430a",
   "metadata": {},
   "outputs": [
    {
     "name": "stdout",
     "output_type": "stream",
     "text": [
      "Empty DataFrame\n",
      "Columns: [ID, Name, Price, Sales, Brand]\n",
      "Index: []\n"
     ]
    }
   ],
   "source": [
    "print(dt.filter(regex='e$',axis=0))"
   ]
  },
  {
   "cell_type": "code",
   "execution_count": 46,
   "id": "3dc6fad7-0677-496b-9457-52c186751182",
   "metadata": {},
   "outputs": [
    {
     "name": "stdout",
     "output_type": "stream",
     "text": [
      "              Name  Price\n",
      "0         biscuits   5.00\n",
      "1          cookies   7.25\n",
      "2             cake  12.00\n",
      "3  whey_supplement  34.90\n",
      "4     protein_bars   4.90\n",
      "5     potato_chips   1.75\n",
      "Empty DataFrame\n",
      "Columns: [ID, Name, Price, Sales, Brand]\n",
      "Index: []\n"
     ]
    }
   ],
   "source": [
    "import pandas as pan\n",
    "dt = pan.read_csv('csv_data.csv',\n",
    "                  names=['ID','Name','Price','Sales','Brand'],\n",
    "                 skiprows=1)\n",
    "df = pan.DataFrame(dt,columns=['ID','Name','Price','Sales','Brand'],index=['Kids','grocery','Others','A','BC'])\n",
    "print(dt.filter(regex='e$',axis=1))\n",
    "print(dt.filter(like='s$',axis=0))"
   ]
  },
  {
   "cell_type": "code",
   "execution_count": 30,
   "id": "7309c3b0-5eef-4017-865f-19a6cb999050",
   "metadata": {},
   "outputs": [
    {
     "name": "stdout",
     "output_type": "stream",
     "text": [
      "0           biscuits\n",
      "1            cookies\n",
      "2               cake\n",
      "3    whey_supplement\n",
      "4       protein_bars\n",
      "5       potato_chips\n",
      "Name: Name, dtype: object\n"
     ]
    }
   ],
   "source": [
    "print(dt['Name'])"
   ]
  },
  {
   "cell_type": "code",
   "execution_count": 26,
   "id": "bf8d15c8-f42f-4913-85a9-4fd5c9a832b0",
   "metadata": {},
   "outputs": [
    {
     "name": "stdout",
     "output_type": "stream",
     "text": [
      "    ID      Name  Sales      Brand\n",
      "0  101  biscuits    227  HomeFoods\n",
      "1  102   cookies    158    TBakery\n",
      "2  103      cake     50    TBakery\n",
      "<bound method NDFrame.first of     ID             Name  Sales      Brand\n",
      "0  101         biscuits    227  HomeFoods\n",
      "1  102          cookies    158    TBakery\n",
      "2  103             cake     50    TBakery\n",
      "3  104  whey_supplement     24    MusleUp\n",
      "4  105     protein_bars     85    MusleUp\n",
      "5  106     potato_chips    121  HomeFoods>\n"
     ]
    }
   ],
   "source": [
    "print(dt.head(3))\n",
    "print(dt.first)"
   ]
  },
  {
   "cell_type": "code",
   "execution_count": 91,
   "id": "7d6ecd22-b1b2-4a66-a431-a5f297ad90e1",
   "metadata": {},
   "outputs": [
    {
     "data": {
      "text/html": [
       "<div>\n",
       "<style scoped>\n",
       "    .dataframe tbody tr th:only-of-type {\n",
       "        vertical-align: middle;\n",
       "    }\n",
       "\n",
       "    .dataframe tbody tr th {\n",
       "        vertical-align: top;\n",
       "    }\n",
       "\n",
       "    .dataframe thead th {\n",
       "        text-align: right;\n",
       "    }\n",
       "</style>\n",
       "<table border=\"1\" class=\"dataframe\">\n",
       "  <thead>\n",
       "    <tr style=\"text-align: right;\">\n",
       "      <th></th>\n",
       "      <th>ID</th>\n",
       "      <th>Name</th>\n",
       "      <th>Price</th>\n",
       "      <th>Sales</th>\n",
       "      <th>Brand</th>\n",
       "    </tr>\n",
       "  </thead>\n",
       "  <tbody>\n",
       "    <tr>\n",
       "      <th>0</th>\n",
       "      <td>101</td>\n",
       "      <td>biscuits</td>\n",
       "      <td>5.00</td>\n",
       "      <td>227</td>\n",
       "      <td>HomeFoods</td>\n",
       "    </tr>\n",
       "    <tr>\n",
       "      <th>1</th>\n",
       "      <td>102</td>\n",
       "      <td>cookies</td>\n",
       "      <td>7.25</td>\n",
       "      <td>158</td>\n",
       "      <td>TBakery</td>\n",
       "    </tr>\n",
       "    <tr>\n",
       "      <th>2</th>\n",
       "      <td>103</td>\n",
       "      <td>cake</td>\n",
       "      <td>12.00</td>\n",
       "      <td>50</td>\n",
       "      <td>TBakery</td>\n",
       "    </tr>\n",
       "    <tr>\n",
       "      <th>3</th>\n",
       "      <td>104</td>\n",
       "      <td>whey_supplement</td>\n",
       "      <td>34.90</td>\n",
       "      <td>24</td>\n",
       "      <td>MusleUp</td>\n",
       "    </tr>\n",
       "    <tr>\n",
       "      <th>4</th>\n",
       "      <td>105</td>\n",
       "      <td>protein_bars</td>\n",
       "      <td>4.90</td>\n",
       "      <td>85</td>\n",
       "      <td>MusleUp</td>\n",
       "    </tr>\n",
       "    <tr>\n",
       "      <th>5</th>\n",
       "      <td>106</td>\n",
       "      <td>potato_chips</td>\n",
       "      <td>1.75</td>\n",
       "      <td>121</td>\n",
       "      <td>HomeFoods</td>\n",
       "    </tr>\n",
       "  </tbody>\n",
       "</table>\n",
       "</div>"
      ],
      "text/plain": [
       "    ID             Name  Price  Sales      Brand\n",
       "0  101         biscuits   5.00    227  HomeFoods\n",
       "1  102          cookies   7.25    158    TBakery\n",
       "2  103             cake  12.00     50    TBakery\n",
       "3  104  whey_supplement  34.90     24    MusleUp\n",
       "4  105     protein_bars   4.90     85    MusleUp\n",
       "5  106     potato_chips   1.75    121  HomeFoods"
      ]
     },
     "execution_count": 91,
     "metadata": {},
     "output_type": "execute_result"
    }
   ],
   "source": [
    "import pandas as pan\n",
    "dt = pan.read_csv('csv_data.csv',\n",
    "                  names=['ID','Name','Price','Sales','Brand'],\n",
    "                 skiprows=1)\n",
    "dt"
   ]
  },
  {
   "cell_type": "code",
   "execution_count": 13,
   "id": "ab5b7c6d-fdf9-4895-8356-94d19a6117fd",
   "metadata": {},
   "outputs": [
    {
     "name": "stdout",
     "output_type": "stream",
     "text": [
      "    ID             Name      Brand\n",
      "0  101         biscuits  HomeFoods\n",
      "1  102          cookies    TBakery\n",
      "2  103             cake    TBakery\n",
      "3  104  whey_supplement    MusleUp\n",
      "4  105     protein_bars    MusleUp\n",
      "5  106     potato_chips  HomeFoods\n"
     ]
    }
   ],
   "source": [
    "dt_ID = dt.drop(columns=['Price','Sales'])\n",
    "print (dt_ID)\n"
   ]
  },
  {
   "cell_type": "code",
   "execution_count": 101,
   "id": "964f38f3-2bd7-407f-a58f-1e16f1f13100",
   "metadata": {},
   "outputs": [
    {
     "name": "stdout",
     "output_type": "stream",
     "text": [
      "0     5.00\n",
      "1     7.25\n",
      "2    12.00\n",
      "3    34.90\n",
      "4     4.90\n",
      "5     1.75\n",
      "Name: Price, dtype: float64\n",
      "    ID             Name  Price  Sales      Brand\n",
      "0  101         biscuits   5.00    227  HomeFoods\n",
      "1  102          cookies   7.25    158    TBakery\n",
      "2  103             cake  12.00     50    TBakery\n",
      "3  104  whey_supplement  34.90     24    MusleUp\n",
      "4  105     protein_bars   4.90     85    MusleUp\n",
      "5  106     potato_chips   1.75    121  HomeFoods\n"
     ]
    }
   ],
   "source": [
    "import pandas as pan\n",
    "dt = pan.read_csv('csv_data.csv',\n",
    "                  names=['ID','Name','Price','Sales','Brand'],\n",
    "                 skiprows=1)\n",
    "print (dt['Price'])\n",
    "print (dt)"
   ]
  },
  {
   "cell_type": "code",
   "execution_count": 104,
   "id": "033bc210-a48e-4c81-9ded-f9db42bf61ea",
   "metadata": {},
   "outputs": [],
   "source": [
    "#DATA ANALYSYS\n",
    "import pandas as pan\n",
    "dt = pan.read_csv('csv_data.csv',\n",
    "                  names=['ID','Name','Price','Sales','Brand'],\n",
    "                 skiprows=1)\n",
    "del (dt['Price'])\n"
   ]
  },
  {
   "cell_type": "code",
   "execution_count": 105,
   "id": "39ddfbaf-45cf-4c1a-ab90-9f78045bced1",
   "metadata": {},
   "outputs": [
    {
     "data": {
      "text/html": [
       "<div>\n",
       "<style scoped>\n",
       "    .dataframe tbody tr th:only-of-type {\n",
       "        vertical-align: middle;\n",
       "    }\n",
       "\n",
       "    .dataframe tbody tr th {\n",
       "        vertical-align: top;\n",
       "    }\n",
       "\n",
       "    .dataframe thead th {\n",
       "        text-align: right;\n",
       "    }\n",
       "</style>\n",
       "<table border=\"1\" class=\"dataframe\">\n",
       "  <thead>\n",
       "    <tr style=\"text-align: right;\">\n",
       "      <th></th>\n",
       "      <th>ID</th>\n",
       "      <th>Name</th>\n",
       "      <th>Sales</th>\n",
       "      <th>Brand</th>\n",
       "    </tr>\n",
       "  </thead>\n",
       "  <tbody>\n",
       "    <tr>\n",
       "      <th>0</th>\n",
       "      <td>101</td>\n",
       "      <td>biscuits</td>\n",
       "      <td>227</td>\n",
       "      <td>HomeFoods</td>\n",
       "    </tr>\n",
       "    <tr>\n",
       "      <th>1</th>\n",
       "      <td>102</td>\n",
       "      <td>cookies</td>\n",
       "      <td>158</td>\n",
       "      <td>TBakery</td>\n",
       "    </tr>\n",
       "    <tr>\n",
       "      <th>2</th>\n",
       "      <td>103</td>\n",
       "      <td>cake</td>\n",
       "      <td>50</td>\n",
       "      <td>TBakery</td>\n",
       "    </tr>\n",
       "    <tr>\n",
       "      <th>3</th>\n",
       "      <td>104</td>\n",
       "      <td>whey_supplement</td>\n",
       "      <td>24</td>\n",
       "      <td>MusleUp</td>\n",
       "    </tr>\n",
       "    <tr>\n",
       "      <th>4</th>\n",
       "      <td>105</td>\n",
       "      <td>protein_bars</td>\n",
       "      <td>85</td>\n",
       "      <td>MusleUp</td>\n",
       "    </tr>\n",
       "    <tr>\n",
       "      <th>5</th>\n",
       "      <td>106</td>\n",
       "      <td>potato_chips</td>\n",
       "      <td>121</td>\n",
       "      <td>HomeFoods</td>\n",
       "    </tr>\n",
       "  </tbody>\n",
       "</table>\n",
       "</div>"
      ],
      "text/plain": [
       "    ID             Name  Sales      Brand\n",
       "0  101         biscuits    227  HomeFoods\n",
       "1  102          cookies    158    TBakery\n",
       "2  103             cake     50    TBakery\n",
       "3  104  whey_supplement     24    MusleUp\n",
       "4  105     protein_bars     85    MusleUp\n",
       "5  106     potato_chips    121  HomeFoods"
      ]
     },
     "execution_count": 105,
     "metadata": {},
     "output_type": "execute_result"
    }
   ],
   "source": [
    "dt.fillna(0)"
   ]
  },
  {
   "cell_type": "code",
   "execution_count": 106,
   "id": "bcea3b06-21e7-4621-a4fe-5d802fbd1520",
   "metadata": {},
   "outputs": [],
   "source": [
    "dt.fillna(0,inplace=True)"
   ]
  },
  {
   "cell_type": "code",
   "execution_count": 107,
   "id": "68252056-87c3-429c-949b-a9523c6336e9",
   "metadata": {},
   "outputs": [
    {
     "data": {
      "text/plain": [
       "0    227\n",
       "1    158\n",
       "2     50\n",
       "3     24\n",
       "4     85\n",
       "5    121\n",
       "Name: Sales, dtype: int64"
      ]
     },
     "execution_count": 107,
     "metadata": {},
     "output_type": "execute_result"
    }
   ],
   "source": [
    "dt['Sales']"
   ]
  },
  {
   "cell_type": "code",
   "execution_count": 109,
   "id": "68af8259-a5c9-4486-a770-89e5be3f0e37",
   "metadata": {},
   "outputs": [
    {
     "data": {
      "text/plain": [
       "665"
      ]
     },
     "execution_count": 109,
     "metadata": {},
     "output_type": "execute_result"
    }
   ],
   "source": [
    "dt['Sales'].sum()"
   ]
  },
  {
   "cell_type": "code",
   "execution_count": 110,
   "id": "78b281c7-3b66-4fb9-a46d-d394bd4ce379",
   "metadata": {},
   "outputs": [
    {
     "data": {
      "text/plain": [
       "24"
      ]
     },
     "execution_count": 110,
     "metadata": {},
     "output_type": "execute_result"
    }
   ],
   "source": [
    "dt['Sales'].min()"
   ]
  },
  {
   "cell_type": "code",
   "execution_count": 113,
   "id": "e4f6eee5-c899-493f-b593-f98ff628079a",
   "metadata": {},
   "outputs": [
    {
     "data": {
      "text/plain": [
       "110.83333333333333"
      ]
     },
     "execution_count": 113,
     "metadata": {},
     "output_type": "execute_result"
    }
   ],
   "source": [
    "dt['Sales'].mean()"
   ]
  },
  {
   "cell_type": "code",
   "execution_count": 114,
   "id": "859beabe-d528-440e-8749-e991b95a8e79",
   "metadata": {},
   "outputs": [
    {
     "data": {
      "text/plain": [
       "110.83"
      ]
     },
     "execution_count": 114,
     "metadata": {},
     "output_type": "execute_result"
    }
   ],
   "source": [
    "round(dt['Sales'].mean(),2)"
   ]
  },
  {
   "cell_type": "code",
   "execution_count": 115,
   "id": "3a72f27c-151b-4724-a299-6dc49408ead0",
   "metadata": {},
   "outputs": [
    {
     "data": {
      "text/plain": [
       "103.0"
      ]
     },
     "execution_count": 115,
     "metadata": {},
     "output_type": "execute_result"
    }
   ],
   "source": [
    "dt['Sales'].median()"
   ]
  },
  {
   "cell_type": "code",
   "execution_count": 117,
   "id": "4b756d08-ada3-4720-a772-684a5dc53788",
   "metadata": {},
   "outputs": [
    {
     "data": {
      "text/plain": [
       "0     24\n",
       "1     50\n",
       "2     85\n",
       "3    121\n",
       "4    158\n",
       "5    227\n",
       "dtype: int64"
      ]
     },
     "execution_count": 117,
     "metadata": {},
     "output_type": "execute_result"
    }
   ],
   "source": [
    "dt['Sales'].mode()"
   ]
  },
  {
   "cell_type": "code",
   "execution_count": 120,
   "id": "bf4fc6b8-ead7-4e29-90b8-8b7f1fba38a9",
   "metadata": {},
   "outputs": [
    {
     "data": {
      "text/plain": [
       "203"
      ]
     },
     "execution_count": 120,
     "metadata": {},
     "output_type": "execute_result"
    }
   ],
   "source": [
    "#Range\n",
    "dt['Sales'].max() - dt['Sales'].min()"
   ]
  },
  {
   "cell_type": "code",
   "execution_count": 121,
   "id": "341c0684-c988-4f36-8495-8c3b49447ad8",
   "metadata": {},
   "outputs": [],
   "source": [
    "##Total Sales"
   ]
  },
  {
   "cell_type": "code",
   "execution_count": 136,
   "id": "bd2a1c35-674d-449c-aa0c-1063ba31061d",
   "metadata": {},
   "outputs": [],
   "source": [
    "#DATA ANALYTICS\n",
    "import pandas as pan\n",
    "dt = pan.read_csv('csv_data.csv',\n",
    "                  names=['ID','Name','Price','Sales','Brand'],\n",
    "                 skiprows=1)\n",
    "del (dt['Price'])\n"
   ]
  },
  {
   "cell_type": "code",
   "execution_count": 133,
   "id": "986eddc2-9c07-46bd-b181-4f8149f1f200",
   "metadata": {},
   "outputs": [
    {
     "name": "stdout",
     "output_type": "stream",
     "text": [
      "   Total Sales   Avg Sales  Maximum Sales\n",
      "1          665  110.833333            227\n",
      "2          665  110.833333            227\n",
      "3          665  110.833333            227\n"
     ]
    }
   ],
   "source": [
    "analytics = pan.DataFrame({'Total Sales':dt['Sales'].sum(),\n",
    "                           'Avg Sales':dt['Sales'].mean(),\n",
    "                           'Maximum Sales':dt['Sales'].max()},\n",
    "                          index=[1,2,3])\n",
    "print(analytics)"
   ]
  },
  {
   "cell_type": "code",
   "execution_count": 134,
   "id": "d25a2340-c187-4208-9b61-5266bd1ca2bd",
   "metadata": {},
   "outputs": [
    {
     "data": {
      "text/html": [
       "<div>\n",
       "<style scoped>\n",
       "    .dataframe tbody tr th:only-of-type {\n",
       "        vertical-align: middle;\n",
       "    }\n",
       "\n",
       "    .dataframe tbody tr th {\n",
       "        vertical-align: top;\n",
       "    }\n",
       "\n",
       "    .dataframe thead th {\n",
       "        text-align: right;\n",
       "    }\n",
       "</style>\n",
       "<table border=\"1\" class=\"dataframe\">\n",
       "  <thead>\n",
       "    <tr style=\"text-align: right;\">\n",
       "      <th></th>\n",
       "      <th>Total Sales</th>\n",
       "      <th>Avg Sales</th>\n",
       "      <th>Maximum Sales</th>\n",
       "    </tr>\n",
       "  </thead>\n",
       "  <tbody>\n",
       "    <tr>\n",
       "      <th>count</th>\n",
       "      <td>3.0</td>\n",
       "      <td>3.000000</td>\n",
       "      <td>3.0</td>\n",
       "    </tr>\n",
       "    <tr>\n",
       "      <th>mean</th>\n",
       "      <td>665.0</td>\n",
       "      <td>110.833333</td>\n",
       "      <td>227.0</td>\n",
       "    </tr>\n",
       "    <tr>\n",
       "      <th>std</th>\n",
       "      <td>0.0</td>\n",
       "      <td>0.000000</td>\n",
       "      <td>0.0</td>\n",
       "    </tr>\n",
       "    <tr>\n",
       "      <th>min</th>\n",
       "      <td>665.0</td>\n",
       "      <td>110.833333</td>\n",
       "      <td>227.0</td>\n",
       "    </tr>\n",
       "    <tr>\n",
       "      <th>25%</th>\n",
       "      <td>665.0</td>\n",
       "      <td>110.833333</td>\n",
       "      <td>227.0</td>\n",
       "    </tr>\n",
       "    <tr>\n",
       "      <th>50%</th>\n",
       "      <td>665.0</td>\n",
       "      <td>110.833333</td>\n",
       "      <td>227.0</td>\n",
       "    </tr>\n",
       "    <tr>\n",
       "      <th>75%</th>\n",
       "      <td>665.0</td>\n",
       "      <td>110.833333</td>\n",
       "      <td>227.0</td>\n",
       "    </tr>\n",
       "    <tr>\n",
       "      <th>max</th>\n",
       "      <td>665.0</td>\n",
       "      <td>110.833333</td>\n",
       "      <td>227.0</td>\n",
       "    </tr>\n",
       "  </tbody>\n",
       "</table>\n",
       "</div>"
      ],
      "text/plain": [
       "       Total Sales   Avg Sales  Maximum Sales\n",
       "count          3.0    3.000000            3.0\n",
       "mean         665.0  110.833333          227.0\n",
       "std            0.0    0.000000            0.0\n",
       "min          665.0  110.833333          227.0\n",
       "25%          665.0  110.833333          227.0\n",
       "50%          665.0  110.833333          227.0\n",
       "75%          665.0  110.833333          227.0\n",
       "max          665.0  110.833333          227.0"
      ]
     },
     "execution_count": 134,
     "metadata": {},
     "output_type": "execute_result"
    }
   ],
   "source": [
    "analytics.describe()"
   ]
  },
  {
   "cell_type": "code",
   "execution_count": 135,
   "id": "1fb54114-dbf1-4787-8c09-0c165b815016",
   "metadata": {},
   "outputs": [
    {
     "data": {
      "text/html": [
       "<div>\n",
       "<style scoped>\n",
       "    .dataframe tbody tr th:only-of-type {\n",
       "        vertical-align: middle;\n",
       "    }\n",
       "\n",
       "    .dataframe tbody tr th {\n",
       "        vertical-align: top;\n",
       "    }\n",
       "\n",
       "    .dataframe thead th {\n",
       "        text-align: right;\n",
       "    }\n",
       "</style>\n",
       "<table border=\"1\" class=\"dataframe\">\n",
       "  <thead>\n",
       "    <tr style=\"text-align: right;\">\n",
       "      <th></th>\n",
       "      <th>ID</th>\n",
       "      <th>Sales</th>\n",
       "    </tr>\n",
       "  </thead>\n",
       "  <tbody>\n",
       "    <tr>\n",
       "      <th>count</th>\n",
       "      <td>6.000000</td>\n",
       "      <td>6.000000</td>\n",
       "    </tr>\n",
       "    <tr>\n",
       "      <th>mean</th>\n",
       "      <td>103.500000</td>\n",
       "      <td>110.833333</td>\n",
       "    </tr>\n",
       "    <tr>\n",
       "      <th>std</th>\n",
       "      <td>1.870829</td>\n",
       "      <td>74.472590</td>\n",
       "    </tr>\n",
       "    <tr>\n",
       "      <th>min</th>\n",
       "      <td>101.000000</td>\n",
       "      <td>24.000000</td>\n",
       "    </tr>\n",
       "    <tr>\n",
       "      <th>25%</th>\n",
       "      <td>102.250000</td>\n",
       "      <td>58.750000</td>\n",
       "    </tr>\n",
       "    <tr>\n",
       "      <th>50%</th>\n",
       "      <td>103.500000</td>\n",
       "      <td>103.000000</td>\n",
       "    </tr>\n",
       "    <tr>\n",
       "      <th>75%</th>\n",
       "      <td>104.750000</td>\n",
       "      <td>148.750000</td>\n",
       "    </tr>\n",
       "    <tr>\n",
       "      <th>max</th>\n",
       "      <td>106.000000</td>\n",
       "      <td>227.000000</td>\n",
       "    </tr>\n",
       "  </tbody>\n",
       "</table>\n",
       "</div>"
      ],
      "text/plain": [
       "               ID       Sales\n",
       "count    6.000000    6.000000\n",
       "mean   103.500000  110.833333\n",
       "std      1.870829   74.472590\n",
       "min    101.000000   24.000000\n",
       "25%    102.250000   58.750000\n",
       "50%    103.500000  103.000000\n",
       "75%    104.750000  148.750000\n",
       "max    106.000000  227.000000"
      ]
     },
     "execution_count": 135,
     "metadata": {},
     "output_type": "execute_result"
    }
   ],
   "source": [
    "dt.describe()"
   ]
  },
  {
   "cell_type": "markdown",
   "id": "fa09a109-5dad-4696-847a-8f383c6464ef",
   "metadata": {},
   "source": [
    "##Data Visualization"
   ]
  },
  {
   "cell_type": "code",
   "execution_count": 159,
   "id": "0a79b832-5872-4117-9b3c-82fd6a21ee5d",
   "metadata": {},
   "outputs": [
    {
     "data": {
      "text/html": [
       "<div>\n",
       "<style scoped>\n",
       "    .dataframe tbody tr th:only-of-type {\n",
       "        vertical-align: middle;\n",
       "    }\n",
       "\n",
       "    .dataframe tbody tr th {\n",
       "        vertical-align: top;\n",
       "    }\n",
       "\n",
       "    .dataframe thead th {\n",
       "        text-align: right;\n",
       "    }\n",
       "</style>\n",
       "<table border=\"1\" class=\"dataframe\">\n",
       "  <thead>\n",
       "    <tr style=\"text-align: right;\">\n",
       "      <th></th>\n",
       "      <th>id</th>\n",
       "      <th>name</th>\n",
       "      <th>price</th>\n",
       "      <th>sales</th>\n",
       "      <th>brand</th>\n",
       "    </tr>\n",
       "  </thead>\n",
       "  <tbody>\n",
       "    <tr>\n",
       "      <th>0</th>\n",
       "      <td>101</td>\n",
       "      <td>biscuits</td>\n",
       "      <td>5.00</td>\n",
       "      <td>227</td>\n",
       "      <td>HomeFoods</td>\n",
       "    </tr>\n",
       "    <tr>\n",
       "      <th>1</th>\n",
       "      <td>102</td>\n",
       "      <td>cookies</td>\n",
       "      <td>7.25</td>\n",
       "      <td>158</td>\n",
       "      <td>TBakery</td>\n",
       "    </tr>\n",
       "    <tr>\n",
       "      <th>2</th>\n",
       "      <td>103</td>\n",
       "      <td>cake</td>\n",
       "      <td>12.00</td>\n",
       "      <td>50</td>\n",
       "      <td>TBakery</td>\n",
       "    </tr>\n",
       "    <tr>\n",
       "      <th>3</th>\n",
       "      <td>104</td>\n",
       "      <td>whey_supplement</td>\n",
       "      <td>34.90</td>\n",
       "      <td>24</td>\n",
       "      <td>MusleUp</td>\n",
       "    </tr>\n",
       "    <tr>\n",
       "      <th>4</th>\n",
       "      <td>105</td>\n",
       "      <td>protein_bars</td>\n",
       "      <td>4.90</td>\n",
       "      <td>85</td>\n",
       "      <td>MusleUp</td>\n",
       "    </tr>\n",
       "    <tr>\n",
       "      <th>5</th>\n",
       "      <td>106</td>\n",
       "      <td>potato_chips</td>\n",
       "      <td>1.75</td>\n",
       "      <td>121</td>\n",
       "      <td>HomeFoods</td>\n",
       "    </tr>\n",
       "  </tbody>\n",
       "</table>\n",
       "</div>"
      ],
      "text/plain": [
       "    id             name  price  sales      brand\n",
       "0  101         biscuits   5.00    227  HomeFoods\n",
       "1  102          cookies   7.25    158    TBakery\n",
       "2  103             cake  12.00     50    TBakery\n",
       "3  104  whey_supplement  34.90     24    MusleUp\n",
       "4  105     protein_bars   4.90     85    MusleUp\n",
       "5  106     potato_chips   1.75    121  HomeFoods"
      ]
     },
     "execution_count": 159,
     "metadata": {},
     "output_type": "execute_result"
    }
   ],
   "source": [
    "import pandas\n",
    "dt = pandas.read_csv('csv_data.csv')\n",
    "dt"
   ]
  },
  {
   "cell_type": "code",
   "execution_count": 160,
   "id": "e9b34bf7-c1c0-44e2-8371-07fe512f66e4",
   "metadata": {},
   "outputs": [
    {
     "data": {
      "text/plain": [
       "<AxesSubplot:>"
      ]
     },
     "execution_count": 160,
     "metadata": {},
     "output_type": "execute_result"
    },
    {
     "data": {
      "image/png": "[encoded data removed]",
      "text/plain": [
       "<Figure size 432x288 with 1 Axes>"
      ]
     },
     "metadata": {
      "needs_background": "light"
     },
     "output_type": "display_data"
    }
   ],
   "source": [
    "dt.plot()"
   ]
  },
  {
   "cell_type": "code",
   "execution_count": 161,
   "id": "ddffa61b-e1fe-4105-8d35-cc07de190859",
   "metadata": {},
   "outputs": [
    {
     "data": {
      "text/plain": [
       "<AxesSubplot:>"
      ]
     },
     "execution_count": 161,
     "metadata": {},
     "output_type": "execute_result"
    },
    {
     "data": {
      "image/png": "[encoded data removed]",
      "text/plain": [
       "<Figure size 432x288 with 1 Axes>"
      ]
     },
     "metadata": {
      "needs_background": "light"
     },
     "output_type": "display_data"
    }
   ],
   "source": [
    "dt['sales'].plot()"
   ]
  },
  {
   "cell_type": "code",
   "execution_count": 162,
   "id": "e83887f8-d3ee-41b3-97b9-752a62aa2bc3",
   "metadata": {},
   "outputs": [
    {
     "data": {
      "text/plain": [
       "<AxesSubplot:>"
      ]
     },
     "execution_count": 162,
     "metadata": {},
     "output_type": "execute_result"
    },
    {
     "data": {
      "image/png": "[encoded data removed]",
      "text/plain": [
       "<Figure size 432x288 with 1 Axes>"
      ]
     },
     "metadata": {
      "needs_background": "light"
     },
     "output_type": "display_data"
    }
   ],
   "source": [
    "dt['sales'].plot.bar()"
   ]
  },
  {
   "cell_type": "code",
   "execution_count": 163,
   "id": "cd1b5748-aef9-4a47-a023-5bc391b4e57b",
   "metadata": {},
   "outputs": [
    {
     "data": {
      "text/plain": [
       "<AxesSubplot:>"
      ]
     },
     "execution_count": 163,
     "metadata": {},
     "output_type": "execute_result"
    },
    {
     "data": {
      "image/png": "[encoded data removed]",
      "text/plain": [
       "<Figure size 432x288 with 1 Axes>"
      ]
     },
     "metadata": {
      "needs_background": "light"
     },
     "output_type": "display_data"
    }
   ],
   "source": [
    "dt['sales'].plot.barh()"
   ]
  },
  {
   "cell_type": "code",
   "execution_count": 164,
   "id": "df4e4267-b7ab-4184-9194-dd9ecce084da",
   "metadata": {},
   "outputs": [
    {
     "data": {
      "text/plain": [
       "<AxesSubplot:>"
      ]
     },
     "execution_count": 164,
     "metadata": {},
     "output_type": "execute_result"
    },
    {
     "data": {
      "image/png": "[encoded data removed]",
      "text/plain": [
       "<Figure size 432x288 with 1 Axes>"
      ]
     },
     "metadata": {
      "needs_background": "light"
     },
     "output_type": "display_data"
    }
   ],
   "source": [
    "dt.plot.bar()"
   ]
  },
  {
   "cell_type": "code",
   "execution_count": 173,
   "id": "e1000691-1c6d-45d3-9508-919cd3d02a41",
   "metadata": {},
   "outputs": [
    {
     "data": {
      "text/plain": [
       "<AxesSubplot:>"
      ]
     },
     "execution_count": 173,
     "metadata": {},
     "output_type": "execute_result"
    },
    {
     "data": {
      "image/png": "[encoded data removed]",
      "text/plain": [
       "<Figure size 432x288 with 1 Axes>"
      ]
     },
     "metadata": {
      "needs_background": "light"
     },
     "output_type": "display_data"
    }
   ],
   "source": [
    "dt.plot.barh(stacked=True)"
   ]
  },
  {
   "cell_type": "code",
   "execution_count": 172,
   "id": "85c6e375-a528-44dc-917c-4bbf4b8f5d17",
   "metadata": {},
   "outputs": [
    {
     "data": {
      "text/plain": [
       "<AxesSubplot:>"
      ]
     },
     "execution_count": 172,
     "metadata": {},
     "output_type": "execute_result"
    },
    {
     "data": {
      "image/png": "[encoded data removed]",
      "text/plain": [
       "<Figure size 432x288 with 1 Axes>"
      ]
     },
     "metadata": {
      "needs_background": "light"
     },
     "output_type": "display_data"
    }
   ],
   "source": [
    "import pandas as pan\n",
    "dt = pan.read_csv('csv_data.csv',\n",
    "                  names=['ID','Name','Price','Sales','Brand'],\n",
    "                 skiprows=1)\n",
    "dt.drop(columns=['ID'],inplace = True)\n",
    "dt.plot.bar()"
   ]
  },
  {
   "cell_type": "code",
   "execution_count": 176,
   "id": "7feb5ba3-b95a-4156-a45e-57b58062886e",
   "metadata": {},
   "outputs": [
    {
     "data": {
      "text/plain": [
       "<AxesSubplot:>"
      ]
     },
     "execution_count": 176,
     "metadata": {},
     "output_type": "execute_result"
    },
    {
     "data": {
      "image/png": "[encoded data removed]",
      "text/plain": [
       "<Figure size 432x288 with 1 Axes>"
      ]
     },
     "metadata": {
      "needs_background": "light"
     },
     "output_type": "display_data"
    }
   ],
   "source": [
    "dt.plot.area(stacked=False)"
   ]
  },
  {
   "cell_type": "code",
   "execution_count": 177,
   "id": "bd3f70c7-14db-479b-bec5-1ba45f24b642",
   "metadata": {},
   "outputs": [
    {
     "data": {
      "text/plain": [
       "<AxesSubplot:>"
      ]
     },
     "execution_count": 177,
     "metadata": {},
     "output_type": "execute_result"
    },
    {
     "data": {
      "image/png": "[encoded data removed]",
      "text/plain": [
       "<Figure size 432x288 with 1 Axes>"
      ]
     },
     "metadata": {
      "needs_background": "light"
     },
     "output_type": "display_data"
    }
   ],
   "source": [
    "dt.plot.area(stacked=True)"
   ]
  },
  {
   "cell_type": "code",
   "execution_count": 179,
   "id": "f9d74546-a143-4319-89e2-546ee73c5bb0",
   "metadata": {},
   "outputs": [
    {
     "data": {
      "text/plain": [
       "<AxesSubplot:ylabel='Frequency'>"
      ]
     },
     "execution_count": 179,
     "metadata": {},
     "output_type": "execute_result"
    },
    {
     "data": {
      "image/png": "[encoded data removed]",
      "text/plain": [
       "<Figure size 432x288 with 1 Axes>"
      ]
     },
     "metadata": {
      "needs_background": "light"
     },
     "output_type": "display_data"
    }
   ],
   "source": [
    "dt.plot.hist()"
   ]
  },
  {
   "cell_type": "code",
   "execution_count": 180,
   "id": "b12f79a5-044c-4f45-8934-b61682e43555",
   "metadata": {},
   "outputs": [
    {
     "data": {
      "text/plain": [
       "<AxesSubplot:>"
      ]
     },
     "execution_count": 180,
     "metadata": {},
     "output_type": "execute_result"
    },
    {
     "data": {
      "image/png": "[encoded data removed]",
      "text/plain": [
       "<Figure size 432x288 with 1 Axes>"
      ]
     },
     "metadata": {
      "needs_background": "light"
     },
     "output_type": "display_data"
    }
   ],
   "source": [
    "dt['Sales'].plot.bar()"
   ]
  },
  {
   "cell_type": "code",
   "execution_count": 183,
   "id": "70ca4d86-4c24-4166-80fc-c8ed248ed8ac",
   "metadata": {},
   "outputs": [
    {
     "data": {
      "text/plain": [
       "<AxesSubplot:>"
      ]
     },
     "execution_count": 183,
     "metadata": {},
     "output_type": "execute_result"
    },
    {
     "data": {
      "image/png": "[encoded data removed]",
      "text/plain": [
       "<Figure size 432x288 with 1 Axes>"
      ]
     },
     "metadata": {
      "needs_background": "light"
     },
     "output_type": "display_data"
    }
   ],
   "source": [
    "ts = dt['Sales'].sum()\n",
    "dt_analytics = pandas.DataFrame({'Actual Sales':dt['Sales'],\n",
    "                                 'Total Sales':[ts,ts,ts,ts,ts,ts]})\n",
    "dt_analytics.plot.bar()"
   ]
  },
  {
   "cell_type": "code",
   "execution_count": 192,
   "id": "47fe33dc-1677-4a80-853c-947c4c0d04a6",
   "metadata": {},
   "outputs": [
    {
     "data": {
      "text/html": [
       "<div>\n",
       "<style scoped>\n",
       "    .dataframe tbody tr th:only-of-type {\n",
       "        vertical-align: middle;\n",
       "    }\n",
       "\n",
       "    .dataframe tbody tr th {\n",
       "        vertical-align: top;\n",
       "    }\n",
       "\n",
       "    .dataframe thead th {\n",
       "        text-align: right;\n",
       "    }\n",
       "</style>\n",
       "<table border=\"1\" class=\"dataframe\">\n",
       "  <thead>\n",
       "    <tr style=\"text-align: right;\">\n",
       "      <th></th>\n",
       "      <th>id</th>\n",
       "      <th>name</th>\n",
       "      <th>price</th>\n",
       "      <th>sales</th>\n",
       "      <th>brand</th>\n",
       "    </tr>\n",
       "  </thead>\n",
       "  <tbody>\n",
       "    <tr>\n",
       "      <th>0</th>\n",
       "      <td>101</td>\n",
       "      <td>biscuits</td>\n",
       "      <td>5.00</td>\n",
       "      <td>227</td>\n",
       "      <td>HomeFoods</td>\n",
       "    </tr>\n",
       "    <tr>\n",
       "      <th>1</th>\n",
       "      <td>102</td>\n",
       "      <td>cookies</td>\n",
       "      <td>7.25</td>\n",
       "      <td>158</td>\n",
       "      <td>TBakery</td>\n",
       "    </tr>\n",
       "    <tr>\n",
       "      <th>2</th>\n",
       "      <td>103</td>\n",
       "      <td>cake</td>\n",
       "      <td>12.00</td>\n",
       "      <td>50</td>\n",
       "      <td>TBakery</td>\n",
       "    </tr>\n",
       "    <tr>\n",
       "      <th>3</th>\n",
       "      <td>104</td>\n",
       "      <td>whey_supplement</td>\n",
       "      <td>34.90</td>\n",
       "      <td>24</td>\n",
       "      <td>MusleUp</td>\n",
       "    </tr>\n",
       "    <tr>\n",
       "      <th>4</th>\n",
       "      <td>105</td>\n",
       "      <td>protein_bars</td>\n",
       "      <td>4.90</td>\n",
       "      <td>85</td>\n",
       "      <td>MusleUp</td>\n",
       "    </tr>\n",
       "    <tr>\n",
       "      <th>5</th>\n",
       "      <td>106</td>\n",
       "      <td>potato_chips</td>\n",
       "      <td>1.75</td>\n",
       "      <td>121</td>\n",
       "      <td>HomeFoods</td>\n",
       "    </tr>\n",
       "  </tbody>\n",
       "</table>\n",
       "</div>"
      ],
      "text/plain": [
       "    id             name  price  sales      brand\n",
       "0  101         biscuits   5.00    227  HomeFoods\n",
       "1  102          cookies   7.25    158    TBakery\n",
       "2  103             cake  12.00     50    TBakery\n",
       "3  104  whey_supplement  34.90     24    MusleUp\n",
       "4  105     protein_bars   4.90     85    MusleUp\n",
       "5  106     potato_chips   1.75    121  HomeFoods"
      ]
     },
     "execution_count": 192,
     "metadata": {},
     "output_type": "execute_result"
    }
   ],
   "source": [
    "from matplotlib import pyplot\n",
    "import pandas\n",
    "dt = pandas.read_csv('csv_data.csv')\n",
    "dt"
   ]
  },
  {
   "cell_type": "code",
   "execution_count": 194,
   "id": "9dace48c-7867-4aad-88d2-0625df04d0c6",
   "metadata": {},
   "outputs": [
    {
     "data": {
      "text/plain": [
       "[<matplotlib.lines.Line2D at 0x11a8f1670>]"
      ]
     },
     "execution_count": 194,
     "metadata": {},
     "output_type": "execute_result"
    },
    {
     "data": {
      "image/png": "[encoded data removed]",
      "text/plain": [
       "<Figure size 432x288 with 1 Axes>"
      ]
     },
     "metadata": {
      "needs_background": "light"
     },
     "output_type": "display_data"
    }
   ],
   "source": [
    "pyplot.plot(dt['id'],dt['sales'])# x&y value"
   ]
  },
  {
   "cell_type": "code",
   "execution_count": 198,
   "id": "db201d8c-8bd9-479f-940a-06970f8feebd",
   "metadata": {},
   "outputs": [
    {
     "data": {
      "text/plain": [
       "[<matplotlib.lines.Line2D at 0x11aa3abe0>]"
      ]
     },
     "execution_count": 198,
     "metadata": {},
     "output_type": "execute_result"
    },
    {
     "data": {
      "image/png": "[encoded data removed]",
      "text/plain": [
       "<Figure size 432x288 with 1 Axes>"
      ]
     },
     "metadata": {
      "needs_background": "light"
     },
     "output_type": "display_data"
    }
   ],
   "source": [
    "##Yellow dashed lines\n",
    "pyplot.plot(dt['id'],dt['sales'],'--y')"
   ]
  },
  {
   "cell_type": "code",
   "execution_count": 199,
   "id": "f4fb50c6-591e-405e-94ad-ae48ba3f740f",
   "metadata": {},
   "outputs": [
    {
     "data": {
      "text/plain": [
       "[<matplotlib.lines.Line2D at 0x11aaa3f70>]"
      ]
     },
     "execution_count": 199,
     "metadata": {},
     "output_type": "execute_result"
    },
    {
     "data": {
      "image/png": "[encoded data removed]",
      "text/plain": [
       "<Figure size 432x288 with 1 Axes>"
      ]
     },
     "metadata": {
      "needs_background": "light"
     },
     "output_type": "display_data"
    }
   ],
   "source": [
    "##Yellow dotted lines\n",
    "pyplot.plot(dt['id'],dt['sales'],'.c')"
   ]
  },
  {
   "cell_type": "code",
   "execution_count": 206,
   "id": "6f2c5414-b7a8-4a52-aa0d-dcf1d7912d31",
   "metadata": {},
   "outputs": [
    {
     "data": {
      "text/plain": [
       "Text(0.5, 1.0, 'Product Sales')"
      ]
     },
     "execution_count": 206,
     "metadata": {},
     "output_type": "execute_result"
    },
    {
     "data": {
      "image/png": "[encoded data removed]",
      "text/plain": [
       "<Figure size 432x288 with 1 Axes>"
      ]
     },
     "metadata": {
      "needs_background": "light"
     },
     "output_type": "display_data"
    }
   ],
   "source": [
    "##Yellow dashed lines\n",
    "pyplot.plot(dt['id'],dt['sales'],'+g',markersize=25)\n",
    "pyplot.xlabel('ProductID',size=15)\n",
    "pyplot.ylabel('Sales',size=15)\n",
    "pyplot.title('Product Sales',size=25)"
   ]
  },
  {
   "cell_type": "code",
   "execution_count": 210,
   "id": "1ca7c48f-3791-4462-a840-ae9c01da90b3",
   "metadata": {},
   "outputs": [
    {
     "data": {
      "text/plain": [
       "<matplotlib.collections.PathCollection at 0x11b071490>"
      ]
     },
     "execution_count": 210,
     "metadata": {},
     "output_type": "execute_result"
    },
    {
     "data": {
      "image/png": "[encoded data removed]",
      "text/plain": [
       "<Figure size 432x288 with 1 Axes>"
      ]
     },
     "metadata": {
      "needs_background": "light"
     },
     "output_type": "display_data"
    }
   ],
   "source": [
    "##Yellow dashed lines\n",
    "pyplot.scatter(dt['id'],dt['sales'],linewidth=20, color='b')"
   ]
  },
  {
   "cell_type": "code",
   "execution_count": 211,
   "id": "9289d000-d164-4526-a947-80e45d5a4980",
   "metadata": {},
   "outputs": [
    {
     "data": {
      "text/plain": [
       "<matplotlib.collections.PathCollection at 0x11b0d99d0>"
      ]
     },
     "execution_count": 211,
     "metadata": {},
     "output_type": "execute_result"
    },
    {
     "data": {
      "image/png": "[encoded data removed]",
      "text/plain": [
       "<Figure size 432x288 with 1 Axes>"
      ]
     },
     "metadata": {
      "needs_background": "light"
     },
     "output_type": "display_data"
    }
   ],
   "source": [
    "##Yellow dashed lines\n",
    "pyplot.scatter(dt['id'],dt['sales'],linewidth=20, color='k')"
   ]
  },
  {
   "cell_type": "code",
   "execution_count": 215,
   "id": "2946570e-3c72-43f1-9754-90411215b8fe",
   "metadata": {},
   "outputs": [],
   "source": [
    "av=dt['sales'].mean()\n"
   ]
  },
  {
   "cell_type": "code",
   "execution_count": 217,
   "id": "2638f3ec-bb1d-4292-85cb-27e6872ad106",
   "metadata": {},
   "outputs": [
    {
     "data": {
      "text/plain": [
       "<BarContainer object of 6 artists>"
      ]
     },
     "execution_count": 217,
     "metadata": {},
     "output_type": "execute_result"
    },
    {
     "data": {
      "image/png": "[encoded data removed]",
      "text/plain": [
       "<Figure size 432x288 with 1 Axes>"
      ]
     },
     "metadata": {
      "needs_background": "light"
     },
     "output_type": "display_data"
    }
   ],
   "source": [
    "\n",
    "pyplot.barh(dt['id'],dt['sales'],label='Actual_Sales')\n",
    "pyplot.barh(dt['id'],[av,av,av,av,av,av],label='Avg_Sales')"
   ]
  },
  {
   "cell_type": "code",
   "execution_count": 222,
   "id": "26a582f3-5e3d-4aad-8aff-15288ad68caf",
   "metadata": {},
   "outputs": [
    {
     "data": {
      "text/plain": [
       "([<matplotlib.patches.Wedge at 0x11b3b7a60>,\n",
       "  <matplotlib.patches.Wedge at 0x11b3b7fa0>,\n",
       "  <matplotlib.patches.Wedge at 0x11b3c94c0>,\n",
       "  <matplotlib.patches.Wedge at 0x11b3c99a0>,\n",
       "  <matplotlib.patches.Wedge at 0x11b3c9e80>,\n",
       "  <matplotlib.patches.Wedge at 0x11b3d53a0>],\n",
       " [Text(1.051651610386324, 1.9323635502595915, 'biscuits'),\n",
       "  Text(-2.1313989420189636, 0.5451041643213197, 'cookies'),\n",
       "  Text(-1.6360772275938265, -1.4707995462838912, 'cake'),\n",
       "  Text(-1.0333473053532702, -1.942213517232113, 'whey_supplement'),\n",
       "  Text(0.05715630809279078, -2.199257410228553, 'protein_bars'),\n",
       "  Text(1.850246770314794, -1.190204557603303, 'potato_chips')])"
      ]
     },
     "execution_count": 222,
     "metadata": {},
     "output_type": "execute_result"
    },
    {
     "data": {
      "image/png": "[encoded data removed]",
      "text/plain": [
       "<Figure size 432x288 with 1 Axes>"
      ]
     },
     "metadata": {},
     "output_type": "display_data"
    }
   ],
   "source": [
    "pyplot.pie(dt['sales'],labels=dt['name'],radius=2)"
   ]
  },
  {
   "cell_type": "code",
   "execution_count": 223,
   "id": "7ba61c8a-e096-41cf-ab5e-a3ba71886e41",
   "metadata": {},
   "outputs": [
    {
     "data": {
      "text/plain": [
       "<matplotlib.legend.Legend at 0x11b3d5a30>"
      ]
     },
     "execution_count": 223,
     "metadata": {},
     "output_type": "execute_result"
    },
    {
     "data": {
      "image/png": "[encoded data removed]",
      "text/plain": [
       "<Figure size 432x288 with 1 Axes>"
      ]
     },
     "metadata": {},
     "output_type": "display_data"
    }
   ],
   "source": [
    "pyplot.pie(dt['sales'],labels=dt['name'],radius=2)\n",
    "pyplot.legend()"
   ]
  },
  {
   "cell_type": "code",
   "execution_count": 233,
   "id": "6bdad1df-9ee2-46bb-9ff3-e02a9f7aa5ab",
   "metadata": {},
   "outputs": [
    {
     "name": "stdout",
     "output_type": "stream",
     "text": [
      "          Monday  Tuesday  Wednesday  Thursday  Friday  Saturday  Sunday\n",
      "ProductA      27       15         34        22      27        13      21\n",
      "ProductB      56       51         41        55      49        56      44\n",
      "ProductC      32       22         19        37      32        54      31\n",
      "ProductE      21       40         17        26      31        33      29\n",
      "ProductF      44       32         25        25      44        40      38\n"
     ]
    }
   ],
   "source": [
    "import pandas\n",
    "import numpy\n",
    "ar = numpy.array([[27,15,34,22,27,13,21],\n",
    "[56,51,41,55,49,56,44],\n",
    "[32,22,19,37,32,54,31],\n",
    "[21,40,17,26,31,33,29],\n",
    "[44,32,25,25,44,40,38]],ndmin=2)\n",
    "sales = pandas.DataFrame(ar,\n",
    "index=['ProductA','ProductB',\n",
    "'ProductC',\n",
    "'ProductE',\n",
    "'ProductF'],\n",
    "columns=['Monday','Tuesday','Wednesday','Thursday','Friday','Saturday','Sunday']                       \n",
    ")\n",
    "print(sales)"
   ]
  },
  {
   "cell_type": "code",
   "execution_count": null,
   "id": "d5ebf031-eb47-447d-82f3-f02c44892a72",
   "metadata": {},
   "outputs": [],
   "source": []
  },
  {
   "cell_type": "code",
   "execution_count": null,
   "id": "32c5a2b1-1467-4ea9-a96e-5edc5e968bb4",
   "metadata": {},
   "outputs": [],
   "source": []
  }
 ],
 "metadata": {
  "kernelspec": {
   "display_name": "Python 3 (ipykernel)",
   "language": "python",
   "name": "python3"
  },
  "language_info": {
   "codemirror_mode": {
    "name": "ipython",
    "version": 3
   },
   "file_extension": ".py",
   "mimetype": "text/x-python",
   "name": "python",
   "nbconvert_exporter": "python",
   "pygments_lexer": "ipython3",
   "version": "3.9.7"
  }
 },
 "nbformat": 4,
 "nbformat_minor": 5
}
